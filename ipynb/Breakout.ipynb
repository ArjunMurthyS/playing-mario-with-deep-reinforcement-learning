{
 "cells": [
  {
   "cell_type": "code",
   "execution_count": 1,
   "metadata": {},
   "outputs": [],
   "source": [
    "import os\n",
    "os.environ['PATH'] += ':ffmpeg-3.4.2-64bit-static'"
   ]
  },
  {
   "cell_type": "markdown",
   "metadata": {},
   "source": [
    "# Setup"
   ]
  },
  {
   "cell_type": "code",
   "execution_count": 2,
   "metadata": {},
   "outputs": [],
   "source": [
    "exp_directory = 'results'\n",
    "agent_name = 'DeepQAgent'\n",
    "game_name = 'Breakout'\n",
    "render_mode='rgb_array'"
   ]
  },
  {
   "cell_type": "markdown",
   "metadata": {},
   "source": [
    "### Global Modules"
   ]
  },
  {
   "cell_type": "code",
   "execution_count": 3,
   "metadata": {},
   "outputs": [],
   "source": [
    "import os\n",
    "import datetime\n",
    "import pandas as pd\n",
    "from matplotlib import pyplot as plt\n",
    "%matplotlib inline\n",
    "from gym.wrappers import Monitor"
   ]
  },
  {
   "cell_type": "markdown",
   "metadata": {},
   "source": [
    "### Local Modules"
   ]
  },
  {
   "cell_type": "code",
   "execution_count": 4,
   "metadata": {},
   "outputs": [
    {
     "name": "stderr",
     "output_type": "stream",
     "text": [
      "/usr/local/anaconda5/lib/python3.6/site-packages/h5py/__init__.py:34: FutureWarning: Conversion of the second argument of issubdtype from `float` to `np.floating` is deprecated. In future, it will be treated as `np.float64 == np.dtype(float).type`.\n",
      "  from ._conv import register_converters as _register_converters\n",
      "Using TensorFlow backend.\n",
      "/usr/local/anaconda5/lib/python3.6/importlib/_bootstrap.py:219: RuntimeWarning: compiletime version 3.5 of module 'tensorflow.python.framework.fast_tensor_util' does not match runtime version 3.6\n",
      "  return f(*args, **kwds)\n"
     ]
    }
   ],
   "source": [
    "import base\n",
    "from src.agents import DeepQAgent, A3CAgent\n",
    "from src.util import BaseCallback, JupyterCallback\n",
    "from src.environment.atari import build_atari_environment"
   ]
  },
  {
   "cell_type": "markdown",
   "metadata": {},
   "source": [
    "## Constants"
   ]
  },
  {
   "cell_type": "code",
   "execution_count": 5,
   "metadata": {},
   "outputs": [],
   "source": [
    "agents = {\n",
    "    DeepQAgent.__name__: DeepQAgent,\n",
    "    A3CAgent.__name__: A3CAgent,\n",
    "}"
   ]
  },
  {
   "cell_type": "markdown",
   "metadata": {},
   "source": [
    "#### Output Directory"
   ]
  },
  {
   "cell_type": "code",
   "execution_count": 6,
   "metadata": {},
   "outputs": [
    {
     "data": {
      "text/plain": [
       "'results/Breakout/DeepQAgent/2018-04-16_01-56'"
      ]
     },
     "execution_count": 6,
     "metadata": {},
     "output_type": "execute_result"
    }
   ],
   "source": [
    "# setup the experiment directory\n",
    "now = datetime.datetime.today().strftime('%Y-%m-%d_%H-%M')\n",
    "exp_directory = '{}/{}/{}/{}'.format(exp_directory, game_name, agent_name, now)\n",
    "if not os.path.exists(exp_directory):\n",
    "    os.makedirs(exp_directory)\n",
    "exp_directory"
   ]
  },
  {
   "cell_type": "code",
   "execution_count": 7,
   "metadata": {},
   "outputs": [
    {
     "data": {
      "text/plain": [
       "'results/Breakout/DeepQAgent/2018-04-16_01-56/plots'"
      ]
     },
     "execution_count": 7,
     "metadata": {},
     "output_type": "execute_result"
    }
   ],
   "source": [
    "plot_dir = '{}/plots'.format(exp_directory)\n",
    "if not os.path.exists(plot_dir):\n",
    "    os.makedirs(plot_dir)\n",
    "plot_dir"
   ]
  },
  {
   "cell_type": "markdown",
   "metadata": {},
   "source": [
    "# Environment"
   ]
  },
  {
   "cell_type": "code",
   "execution_count": 8,
   "metadata": {},
   "outputs": [],
   "source": [
    "env = build_atari_environment(game_name)\n",
    "env = Monitor(env, '{}/monitor'.format(exp_directory), force=True)"
   ]
  },
  {
   "cell_type": "code",
   "execution_count": 9,
   "metadata": {},
   "outputs": [
    {
     "data": {
      "text/plain": [
       "Box(84, 84, 4)"
      ]
     },
     "execution_count": 9,
     "metadata": {},
     "output_type": "execute_result"
    }
   ],
   "source": [
    "env.observation_space"
   ]
  },
  {
   "cell_type": "code",
   "execution_count": 10,
   "metadata": {},
   "outputs": [
    {
     "data": {
      "text/plain": [
       "Discrete(4)"
      ]
     },
     "execution_count": 10,
     "metadata": {},
     "output_type": "execute_result"
    }
   ],
   "source": [
    "env.action_space"
   ]
  },
  {
   "cell_type": "markdown",
   "metadata": {},
   "source": [
    "# Agent"
   ]
  },
  {
   "cell_type": "code",
   "execution_count": 11,
   "metadata": {
    "scrolled": true
   },
   "outputs": [
    {
     "data": {
      "text/plain": [
       "DeepQAgent(\n",
       "    env=<Monitor<FrameStackEnv<ClipRewardEnv<PenalizeDeathEnv<DownsampleEnv<FireResetEnv<MaxFrameskipEnv<NoopResetEnv<TimeLimit<AtariEnv<BreakoutNoFrameskip-v4>>>>>>>>>>>,\n",
       "    render_mode='rgb_array'\n",
       "    replay_memory_size=1000000,\n",
       "    discount_factor=0.99,\n",
       "    update_frequency=4,\n",
       "    optimizer=<keras.optimizers.Adam object at 0x2ab10e0480f0>,\n",
       "    exploration_rate=AnnealingVariable(initial_value=1.0, final_value=0.1, steps=1000000),\n",
       "    loss=huber_loss,\n",
       "    target_update_freq=10000,\n",
       "    dueling_network=True\n",
       ")"
      ]
     },
     "execution_count": 11,
     "metadata": {},
     "output_type": "execute_result"
    }
   ],
   "source": [
    "agent = agents[agent_name](env, render_mode=render_mode)\n",
    "agent"
   ]
  },
  {
   "cell_type": "code",
   "execution_count": 12,
   "metadata": {},
   "outputs": [],
   "source": [
    "# write some info about the agent to disk\n",
    "with open('{}/agent.py'.format(exp_directory), 'w') as agent_file:\n",
    "    agent_file.write(repr(agent))"
   ]
  },
  {
   "cell_type": "markdown",
   "metadata": {},
   "source": [
    "## Initial"
   ]
  },
  {
   "cell_type": "code",
   "execution_count": 13,
   "metadata": {
    "scrolled": true
   },
   "outputs": [
    {
     "name": "stderr",
     "output_type": "stream",
     "text": [
      "100%|██████████| 100/100 [02:22<00:00,  1.43s/game]\n"
     ]
    },
    {
     "data": {
      "text/plain": [
       "0    -5.0\n",
       "1     1.0\n",
       "2    -5.0\n",
       "3     1.0\n",
       "4     1.0\n",
       "5     1.0\n",
       "6    -5.0\n",
       "7    -5.0\n",
       "8    -5.0\n",
       "9    -5.0\n",
       "10    1.0\n",
       "11   -5.0\n",
       "12   -5.0\n",
       "13   -5.0\n",
       "14   -5.0\n",
       "15   -5.0\n",
       "16   -5.0\n",
       "17    1.0\n",
       "18   -5.0\n",
       "19   -5.0\n",
       "20   -5.0\n",
       "21    0.0\n",
       "22    1.0\n",
       "23   -5.0\n",
       "24   -5.0\n",
       "25   -5.0\n",
       "26   -5.0\n",
       "27   -5.0\n",
       "28   -5.0\n",
       "29   -5.0\n",
       "     ... \n",
       "70   -5.0\n",
       "71   -5.0\n",
       "72   -5.0\n",
       "73   -5.0\n",
       "74   -5.0\n",
       "75   -5.0\n",
       "76   -5.0\n",
       "77    1.0\n",
       "78    1.0\n",
       "79   -5.0\n",
       "80   -5.0\n",
       "81   -5.0\n",
       "82   -5.0\n",
       "83   -5.0\n",
       "84   -5.0\n",
       "85   -5.0\n",
       "86    1.0\n",
       "87   -5.0\n",
       "88    1.0\n",
       "89    1.0\n",
       "90    1.0\n",
       "91   -5.0\n",
       "92    1.0\n",
       "93   -5.0\n",
       "94   -5.0\n",
       "95   -5.0\n",
       "96   -5.0\n",
       "97   -5.0\n",
       "98   -5.0\n",
       "99    1.0\n",
       "Length: 100, dtype: float64"
      ]
     },
     "execution_count": 13,
     "metadata": {},
     "output_type": "execute_result"
    }
   ],
   "source": [
    "initial = agent.play()\n",
    "initial = pd.Series(initial)\n",
    "initial"
   ]
  },
  {
   "cell_type": "code",
   "execution_count": 14,
   "metadata": {},
   "outputs": [],
   "source": [
    "initial.to_csv('{}/initial.csv'.format(exp_directory))"
   ]
  },
  {
   "cell_type": "code",
   "execution_count": 15,
   "metadata": {},
   "outputs": [
    {
     "data": {
      "text/plain": [
       "count    100.000000\n",
       "mean      -3.450000\n",
       "std        2.629956\n",
       "min       -5.000000\n",
       "25%       -5.000000\n",
       "50%       -5.000000\n",
       "75%        0.250000\n",
       "max        1.000000\n",
       "dtype: float64"
      ]
     },
     "execution_count": 15,
     "metadata": {},
     "output_type": "execute_result"
    }
   ],
   "source": [
    "initial.describe()"
   ]
  },
  {
   "cell_type": "code",
   "execution_count": 16,
   "metadata": {},
   "outputs": [
    {
     "data": {
      "image/png": "[encoded data removed]",
      "text/plain": [
       "<matplotlib.figure.Figure at 0x2ab1dffb8f60>"
      ]
     },
     "metadata": {},
     "output_type": "display_data"
    }
   ],
   "source": [
    "initial.hist()\n",
    "plt.savefig('{}/initial.pdf'.format(plot_dir))"
   ]
  },
  {
   "cell_type": "markdown",
   "metadata": {},
   "source": [
    "## Training"
   ]
  },
  {
   "cell_type": "code",
   "execution_count": 17,
   "metadata": {},
   "outputs": [
    {
     "name": "stderr",
     "output_type": "stream",
     "text": [
      "50087frame [01:01, 817.62frame/s]                        \n"
     ]
    }
   ],
   "source": [
    "agent.observe()"
   ]
  },
  {
   "cell_type": "code",
   "execution_count": 18,
   "metadata": {},
   "outputs": [],
   "source": [
    "callback = BaseCallback()"
   ]
  },
  {
   "cell_type": "code",
   "execution_count": 19,
   "metadata": {
    "scrolled": true
   },
   "outputs": [
    {
     "name": "stderr",
     "output_type": "stream",
     "text": [
      " 97%|█████████▋| 9703523/10000000 [17:14:25<31:22, 157.46frame/s, loss=3.08, score=73]   "
     ]
    },
    {
     "ename": "KeyboardInterrupt",
     "evalue": "",
     "output_type": "error",
     "traceback": [
      "\u001b[0;31m---------------------------------------------------------------------------\u001b[0m",
      "\u001b[0;31mKeyboardInterrupt\u001b[0m                         Traceback (most recent call last)",
      "\u001b[0;32m<ipython-input-19-96c0cc5757b8>\u001b[0m in \u001b[0;36m<module>\u001b[0;34m()\u001b[0m\n\u001b[0;32m----> 1\u001b[0;31m \u001b[0magent\u001b[0m\u001b[0;34m.\u001b[0m\u001b[0mtrain\u001b[0m\u001b[0;34m(\u001b[0m\u001b[0mcallback\u001b[0m\u001b[0;34m=\u001b[0m\u001b[0mcallback\u001b[0m\u001b[0;34m)\u001b[0m\u001b[0;34m\u001b[0m\u001b[0m\n\u001b[0m",
      "\u001b[0;32m~/deep-learning-project/src/agents/deep_q_agent.py\u001b[0m in \u001b[0;36mtrain\u001b[0;34m(self, frames_to_play, batch_size, callback)\u001b[0m\n\u001b[1;32m    270\u001b[0m                 \u001b[0;31m# update Q from replay\u001b[0m\u001b[0;34m\u001b[0m\u001b[0;34m\u001b[0m\u001b[0m\n\u001b[1;32m    271\u001b[0m                 \u001b[0;32mif\u001b[0m \u001b[0mframes_to_play\u001b[0m \u001b[0;34m%\u001b[0m \u001b[0mself\u001b[0m\u001b[0;34m.\u001b[0m\u001b[0mupdate_frequency\u001b[0m \u001b[0;34m==\u001b[0m \u001b[0;36m0\u001b[0m\u001b[0;34m:\u001b[0m\u001b[0;34m\u001b[0m\u001b[0m\n\u001b[0;32m--> 272\u001b[0;31m                     \u001b[0mloss\u001b[0m \u001b[0;34m+=\u001b[0m \u001b[0mself\u001b[0m\u001b[0;34m.\u001b[0m\u001b[0m_replay\u001b[0m\u001b[0;34m(\u001b[0m\u001b[0;34m*\u001b[0m\u001b[0mself\u001b[0m\u001b[0;34m.\u001b[0m\u001b[0mqueue\u001b[0m\u001b[0;34m.\u001b[0m\u001b[0msample\u001b[0m\u001b[0;34m(\u001b[0m\u001b[0msize\u001b[0m\u001b[0;34m=\u001b[0m\u001b[0mbatch_size\u001b[0m\u001b[0;34m)\u001b[0m\u001b[0;34m)\u001b[0m\u001b[0;34m\u001b[0m\u001b[0m\n\u001b[0m\u001b[1;32m    273\u001b[0m                 \u001b[0;31m# update Target Q from online Q\u001b[0m\u001b[0;34m\u001b[0m\u001b[0;34m\u001b[0m\u001b[0m\n\u001b[1;32m    274\u001b[0m                 \u001b[0;32mif\u001b[0m \u001b[0mframes_to_play\u001b[0m \u001b[0;34m%\u001b[0m \u001b[0mself\u001b[0m\u001b[0;34m.\u001b[0m\u001b[0mtarget_update_freq\u001b[0m \u001b[0;34m==\u001b[0m \u001b[0;36m0\u001b[0m\u001b[0;34m:\u001b[0m\u001b[0;34m\u001b[0m\u001b[0m\n",
      "\u001b[0;32m~/deep-learning-project/src/agents/deep_q_agent.py\u001b[0m in \u001b[0;36m_replay\u001b[0;34m(self, s, a, r, d, s2)\u001b[0m\n\u001b[1;32m    194\u001b[0m         \u001b[0;31m# train the model on the batch and return the loss. use the mask that\u001b[0m\u001b[0;34m\u001b[0m\u001b[0;34m\u001b[0m\u001b[0m\n\u001b[1;32m    195\u001b[0m         \u001b[0;31m# disables training for actions that aren't the selected actions.\u001b[0m\u001b[0;34m\u001b[0m\u001b[0;34m\u001b[0m\u001b[0m\n\u001b[0;32m--> 196\u001b[0;31m         \u001b[0;32mreturn\u001b[0m \u001b[0mself\u001b[0m\u001b[0;34m.\u001b[0m\u001b[0mmodel\u001b[0m\u001b[0;34m.\u001b[0m\u001b[0mtrain_on_batch\u001b[0m\u001b[0;34m(\u001b[0m\u001b[0;34m[\u001b[0m\u001b[0ms\u001b[0m\u001b[0;34m,\u001b[0m \u001b[0maction_mask\u001b[0m\u001b[0;34m]\u001b[0m\u001b[0;34m,\u001b[0m \u001b[0my\u001b[0m\u001b[0;34m)\u001b[0m\u001b[0;34m\u001b[0m\u001b[0m\n\u001b[0m\u001b[1;32m    197\u001b[0m \u001b[0;34m\u001b[0m\u001b[0m\n\u001b[1;32m    198\u001b[0m     def predict_action(self,\n",
      "\u001b[0;32m~/.local/lib/python3.6/site-packages/keras/engine/training.py\u001b[0m in \u001b[0;36mtrain_on_batch\u001b[0;34m(self, x, y, sample_weight, class_weight)\u001b[0m\n\u001b[1;32m   1847\u001b[0m             \u001b[0mins\u001b[0m \u001b[0;34m=\u001b[0m \u001b[0mx\u001b[0m \u001b[0;34m+\u001b[0m \u001b[0my\u001b[0m \u001b[0;34m+\u001b[0m \u001b[0msample_weights\u001b[0m\u001b[0;34m\u001b[0m\u001b[0m\n\u001b[1;32m   1848\u001b[0m         \u001b[0mself\u001b[0m\u001b[0;34m.\u001b[0m\u001b[0m_make_train_function\u001b[0m\u001b[0;34m(\u001b[0m\u001b[0;34m)\u001b[0m\u001b[0;34m\u001b[0m\u001b[0m\n\u001b[0;32m-> 1849\u001b[0;31m         \u001b[0moutputs\u001b[0m \u001b[0;34m=\u001b[0m \u001b[0mself\u001b[0m\u001b[0;34m.\u001b[0m\u001b[0mtrain_function\u001b[0m\u001b[0;34m(\u001b[0m\u001b[0mins\u001b[0m\u001b[0;34m)\u001b[0m\u001b[0;34m\u001b[0m\u001b[0m\n\u001b[0m\u001b[1;32m   1850\u001b[0m         \u001b[0;32mif\u001b[0m \u001b[0mlen\u001b[0m\u001b[0;34m(\u001b[0m\u001b[0moutputs\u001b[0m\u001b[0;34m)\u001b[0m \u001b[0;34m==\u001b[0m \u001b[0;36m1\u001b[0m\u001b[0;34m:\u001b[0m\u001b[0;34m\u001b[0m\u001b[0m\n\u001b[1;32m   1851\u001b[0m             \u001b[0;32mreturn\u001b[0m \u001b[0moutputs\u001b[0m\u001b[0;34m[\u001b[0m\u001b[0;36m0\u001b[0m\u001b[0;34m]\u001b[0m\u001b[0;34m\u001b[0m\u001b[0m\n",
      "\u001b[0;32m~/.local/lib/python3.6/site-packages/keras/backend/tensorflow_backend.py\u001b[0m in \u001b[0;36m__call__\u001b[0;34m(self, inputs)\u001b[0m\n\u001b[1;32m   2473\u001b[0m         \u001b[0msession\u001b[0m \u001b[0;34m=\u001b[0m \u001b[0mget_session\u001b[0m\u001b[0;34m(\u001b[0m\u001b[0;34m)\u001b[0m\u001b[0;34m\u001b[0m\u001b[0m\n\u001b[1;32m   2474\u001b[0m         updated = session.run(fetches=fetches, feed_dict=feed_dict,\n\u001b[0;32m-> 2475\u001b[0;31m                               **self.session_kwargs)\n\u001b[0m\u001b[1;32m   2476\u001b[0m         \u001b[0;32mreturn\u001b[0m \u001b[0mupdated\u001b[0m\u001b[0;34m[\u001b[0m\u001b[0;34m:\u001b[0m\u001b[0mlen\u001b[0m\u001b[0;34m(\u001b[0m\u001b[0mself\u001b[0m\u001b[0;34m.\u001b[0m\u001b[0moutputs\u001b[0m\u001b[0;34m)\u001b[0m\u001b[0;34m]\u001b[0m\u001b[0;34m\u001b[0m\u001b[0m\n\u001b[1;32m   2477\u001b[0m \u001b[0;34m\u001b[0m\u001b[0m\n",
      "\u001b[0;32m~/.local/lib/python3.6/site-packages/tensorflow/python/client/session.py\u001b[0m in \u001b[0;36mrun\u001b[0;34m(self, fetches, feed_dict, options, run_metadata)\u001b[0m\n\u001b[1;32m    887\u001b[0m     \u001b[0;32mtry\u001b[0m\u001b[0;34m:\u001b[0m\u001b[0;34m\u001b[0m\u001b[0m\n\u001b[1;32m    888\u001b[0m       result = self._run(None, fetches, feed_dict, options_ptr,\n\u001b[0;32m--> 889\u001b[0;31m                          run_metadata_ptr)\n\u001b[0m\u001b[1;32m    890\u001b[0m       \u001b[0;32mif\u001b[0m \u001b[0mrun_metadata\u001b[0m\u001b[0;34m:\u001b[0m\u001b[0;34m\u001b[0m\u001b[0m\n\u001b[1;32m    891\u001b[0m         \u001b[0mproto_data\u001b[0m \u001b[0;34m=\u001b[0m \u001b[0mtf_session\u001b[0m\u001b[0;34m.\u001b[0m\u001b[0mTF_GetBuffer\u001b[0m\u001b[0;34m(\u001b[0m\u001b[0mrun_metadata_ptr\u001b[0m\u001b[0;34m)\u001b[0m\u001b[0;34m\u001b[0m\u001b[0m\n",
      "\u001b[0;32m~/.local/lib/python3.6/site-packages/tensorflow/python/client/session.py\u001b[0m in \u001b[0;36m_run\u001b[0;34m(self, handle, fetches, feed_dict, options, run_metadata)\u001b[0m\n\u001b[1;32m   1118\u001b[0m     \u001b[0;32mif\u001b[0m \u001b[0mfinal_fetches\u001b[0m \u001b[0;32mor\u001b[0m \u001b[0mfinal_targets\u001b[0m \u001b[0;32mor\u001b[0m \u001b[0;34m(\u001b[0m\u001b[0mhandle\u001b[0m \u001b[0;32mand\u001b[0m \u001b[0mfeed_dict_tensor\u001b[0m\u001b[0;34m)\u001b[0m\u001b[0;34m:\u001b[0m\u001b[0;34m\u001b[0m\u001b[0m\n\u001b[1;32m   1119\u001b[0m       results = self._do_run(handle, final_targets, final_fetches,\n\u001b[0;32m-> 1120\u001b[0;31m                              feed_dict_tensor, options, run_metadata)\n\u001b[0m\u001b[1;32m   1121\u001b[0m     \u001b[0;32melse\u001b[0m\u001b[0;34m:\u001b[0m\u001b[0;34m\u001b[0m\u001b[0m\n\u001b[1;32m   1122\u001b[0m       \u001b[0mresults\u001b[0m \u001b[0;34m=\u001b[0m \u001b[0;34m[\u001b[0m\u001b[0;34m]\u001b[0m\u001b[0;34m\u001b[0m\u001b[0m\n",
      "\u001b[0;32m~/.local/lib/python3.6/site-packages/tensorflow/python/client/session.py\u001b[0m in \u001b[0;36m_do_run\u001b[0;34m(self, handle, target_list, fetch_list, feed_dict, options, run_metadata)\u001b[0m\n\u001b[1;32m   1315\u001b[0m     \u001b[0;32mif\u001b[0m \u001b[0mhandle\u001b[0m \u001b[0;32mis\u001b[0m \u001b[0;32mNone\u001b[0m\u001b[0;34m:\u001b[0m\u001b[0;34m\u001b[0m\u001b[0m\n\u001b[1;32m   1316\u001b[0m       return self._do_call(_run_fn, self._session, feeds, fetches, targets,\n\u001b[0;32m-> 1317\u001b[0;31m                            options, run_metadata)\n\u001b[0m\u001b[1;32m   1318\u001b[0m     \u001b[0;32melse\u001b[0m\u001b[0;34m:\u001b[0m\u001b[0;34m\u001b[0m\u001b[0m\n\u001b[1;32m   1319\u001b[0m       \u001b[0;32mreturn\u001b[0m \u001b[0mself\u001b[0m\u001b[0;34m.\u001b[0m\u001b[0m_do_call\u001b[0m\u001b[0;34m(\u001b[0m\u001b[0m_prun_fn\u001b[0m\u001b[0;34m,\u001b[0m \u001b[0mself\u001b[0m\u001b[0;34m.\u001b[0m\u001b[0m_session\u001b[0m\u001b[0;34m,\u001b[0m \u001b[0mhandle\u001b[0m\u001b[0;34m,\u001b[0m \u001b[0mfeeds\u001b[0m\u001b[0;34m,\u001b[0m \u001b[0mfetches\u001b[0m\u001b[0;34m)\u001b[0m\u001b[0;34m\u001b[0m\u001b[0m\n",
      "\u001b[0;32m~/.local/lib/python3.6/site-packages/tensorflow/python/client/session.py\u001b[0m in \u001b[0;36m_do_call\u001b[0;34m(self, fn, *args)\u001b[0m\n\u001b[1;32m   1321\u001b[0m   \u001b[0;32mdef\u001b[0m \u001b[0m_do_call\u001b[0m\u001b[0;34m(\u001b[0m\u001b[0mself\u001b[0m\u001b[0;34m,\u001b[0m \u001b[0mfn\u001b[0m\u001b[0;34m,\u001b[0m \u001b[0;34m*\u001b[0m\u001b[0margs\u001b[0m\u001b[0;34m)\u001b[0m\u001b[0;34m:\u001b[0m\u001b[0;34m\u001b[0m\u001b[0m\n\u001b[1;32m   1322\u001b[0m     \u001b[0;32mtry\u001b[0m\u001b[0;34m:\u001b[0m\u001b[0;34m\u001b[0m\u001b[0m\n\u001b[0;32m-> 1323\u001b[0;31m       \u001b[0;32mreturn\u001b[0m \u001b[0mfn\u001b[0m\u001b[0;34m(\u001b[0m\u001b[0;34m*\u001b[0m\u001b[0margs\u001b[0m\u001b[0;34m)\u001b[0m\u001b[0;34m\u001b[0m\u001b[0m\n\u001b[0m\u001b[1;32m   1324\u001b[0m     \u001b[0;32mexcept\u001b[0m \u001b[0merrors\u001b[0m\u001b[0;34m.\u001b[0m\u001b[0mOpError\u001b[0m \u001b[0;32mas\u001b[0m \u001b[0me\u001b[0m\u001b[0;34m:\u001b[0m\u001b[0;34m\u001b[0m\u001b[0m\n\u001b[1;32m   1325\u001b[0m       \u001b[0mmessage\u001b[0m \u001b[0;34m=\u001b[0m \u001b[0mcompat\u001b[0m\u001b[0;34m.\u001b[0m\u001b[0mas_text\u001b[0m\u001b[0;34m(\u001b[0m\u001b[0me\u001b[0m\u001b[0;34m.\u001b[0m\u001b[0mmessage\u001b[0m\u001b[0;34m)\u001b[0m\u001b[0;34m\u001b[0m\u001b[0m\n",
      "\u001b[0;32m~/.local/lib/python3.6/site-packages/tensorflow/python/client/session.py\u001b[0m in \u001b[0;36m_run_fn\u001b[0;34m(session, feed_dict, fetch_list, target_list, options, run_metadata)\u001b[0m\n\u001b[1;32m   1300\u001b[0m           return tf_session.TF_Run(session, options,\n\u001b[1;32m   1301\u001b[0m                                    \u001b[0mfeed_dict\u001b[0m\u001b[0;34m,\u001b[0m \u001b[0mfetch_list\u001b[0m\u001b[0;34m,\u001b[0m \u001b[0mtarget_list\u001b[0m\u001b[0;34m,\u001b[0m\u001b[0;34m\u001b[0m\u001b[0m\n\u001b[0;32m-> 1302\u001b[0;31m                                    status, run_metadata)\n\u001b[0m\u001b[1;32m   1303\u001b[0m \u001b[0;34m\u001b[0m\u001b[0m\n\u001b[1;32m   1304\u001b[0m     \u001b[0;32mdef\u001b[0m \u001b[0m_prun_fn\u001b[0m\u001b[0;34m(\u001b[0m\u001b[0msession\u001b[0m\u001b[0;34m,\u001b[0m \u001b[0mhandle\u001b[0m\u001b[0;34m,\u001b[0m \u001b[0mfeed_dict\u001b[0m\u001b[0;34m,\u001b[0m \u001b[0mfetch_list\u001b[0m\u001b[0;34m)\u001b[0m\u001b[0;34m:\u001b[0m\u001b[0;34m\u001b[0m\u001b[0m\n",
      "\u001b[0;31mKeyboardInterrupt\u001b[0m: "
     ]
    }
   ],
   "source": [
    "agent.train(callback=callback)"
   ]
  },
  {
   "cell_type": "code",
   "execution_count": 20,
   "metadata": {},
   "outputs": [],
   "source": [
    "# save the training results\n",
    "scores = pd.Series(callback.scores)\n",
    "scores.to_csv('{}/scores.csv'.format(exp_directory))\n",
    "losses = pd.Series(callback.losses)\n",
    "losses.to_csv('{}/losses.csv'.format(exp_directory))"
   ]
  },
  {
   "cell_type": "code",
   "execution_count": 21,
   "metadata": {},
   "outputs": [
    {
     "data": {
      "image/png": "[encoded data removed]",
      "text/plain": [
       "<matplotlib.figure.Figure at 0x2abd48b707b8>"
      ]
     },
     "metadata": {},
     "output_type": "display_data"
    }
   ],
   "source": [
    "train = pd.concat([scores, losses], axis=1)\n",
    "train.columns = ['Reward', 'Loss']\n",
    "train.index.name = 'Episode'\n",
    "_ = train.plot(figsize=(12, 5), subplots=True)\n",
    "plt.savefig('{}/training.pdf'.format(plot_dir))"
   ]
  },
  {
   "cell_type": "markdown",
   "metadata": {},
   "source": [
    "## Final"
   ]
  },
  {
   "cell_type": "code",
   "execution_count": 24,
   "metadata": {
    "scrolled": true
   },
   "outputs": [
    {
     "name": "stderr",
     "output_type": "stream",
     "text": [
      "\n",
      "  0%|          | 0/100 [00:00<?, ?game/s]\u001b[A\n",
      "  1%|          | 1/100 [00:07<11:40,  7.07s/game]\u001b[A\n",
      "  2%|▏         | 2/100 [00:17<14:23,  8.81s/game]\u001b[A\n",
      "  3%|▎         | 3/100 [00:22<12:12,  7.55s/game]\u001b[A\n",
      "  4%|▍         | 4/100 [00:29<11:53,  7.44s/game]\u001b[A\n",
      "  5%|▌         | 5/100 [00:34<10:59,  6.94s/game]\u001b[A\n",
      "  6%|▌         | 6/100 [00:43<11:24,  7.28s/game]\u001b[A\n",
      "  7%|▋         | 7/100 [00:50<11:09,  7.20s/game]\u001b[A\n",
      "  8%|▊         | 8/100 [01:00<11:39,  7.61s/game]\u001b[A\n",
      "  9%|▉         | 9/100 [01:05<10:59,  7.25s/game]\u001b[A\n",
      " 10%|█         | 10/100 [01:09<10:29,  7.00s/game]\u001b[A\n",
      " 11%|█         | 11/100 [01:15<10:08,  6.84s/game]\u001b[A\n",
      " 12%|█▏        | 12/100 [01:21<09:56,  6.78s/game]\u001b[A\n",
      " 13%|█▎        | 13/100 [01:26<09:41,  6.69s/game]\u001b[A\n",
      " 14%|█▍        | 14/100 [01:32<09:27,  6.60s/game]\u001b[A\n",
      " 15%|█▌        | 15/100 [01:35<09:03,  6.39s/game]\u001b[A\n",
      " 16%|█▌        | 16/100 [01:42<08:56,  6.38s/game]\u001b[A\n",
      " 17%|█▋        | 17/100 [01:47<08:46,  6.35s/game]\u001b[A\n",
      " 18%|█▊        | 18/100 [01:53<08:37,  6.31s/game]\u001b[A\n",
      " 19%|█▉        | 19/100 [01:57<08:19,  6.17s/game]\u001b[A\n",
      " 20%|██        | 20/100 [02:03<08:13,  6.17s/game]\u001b[A\n",
      " 21%|██        | 21/100 [02:11<08:14,  6.26s/game]\u001b[A\n",
      " 22%|██▏       | 22/100 [02:17<08:07,  6.25s/game]\u001b[A\n",
      " 23%|██▎       | 23/100 [02:25<08:06,  6.32s/game]\u001b[A\n",
      " 24%|██▍       | 24/100 [02:31<08:01,  6.33s/game]\u001b[A\n",
      " 25%|██▌       | 25/100 [02:37<07:51,  6.29s/game]\u001b[A\n",
      " 26%|██▌       | 26/100 [02:47<07:56,  6.44s/game]\u001b[A\n",
      " 27%|██▋       | 27/100 [02:53<07:50,  6.44s/game]\u001b[A\n",
      " 28%|██▊       | 28/100 [03:03<07:52,  6.56s/game]\u001b[A\n",
      " 29%|██▉       | 29/100 [03:13<07:54,  6.68s/game]\u001b[A\n",
      " 30%|███       | 30/100 [03:18<07:42,  6.60s/game]\u001b[A\n",
      " 31%|███       | 31/100 [03:27<07:42,  6.70s/game]\u001b[A\n",
      " 32%|███▏      | 32/100 [03:34<07:35,  6.70s/game]\u001b[A\n",
      " 33%|███▎      | 33/100 [03:38<07:23,  6.63s/game]\u001b[A\n",
      " 34%|███▍      | 34/100 [03:44<07:16,  6.61s/game]\u001b[A\n",
      " 35%|███▌      | 35/100 [03:49<07:06,  6.56s/game]\u001b[A\n",
      " 36%|███▌      | 36/100 [03:58<07:03,  6.62s/game]\u001b[A\n",
      " 37%|███▋      | 37/100 [04:05<06:57,  6.63s/game]\u001b[A\n",
      " 38%|███▊      | 38/100 [04:10<06:48,  6.58s/game]\u001b[A\n",
      " 39%|███▉      | 39/100 [04:14<06:38,  6.53s/game]\u001b[A\n",
      " 40%|████      | 40/100 [04:22<06:33,  6.55s/game]\u001b[A\n",
      " 41%|████      | 41/100 [04:27<06:24,  6.52s/game]\u001b[A\n",
      " 42%|████▏     | 42/100 [04:35<06:20,  6.57s/game]\u001b[A\n",
      " 43%|████▎     | 43/100 [04:43<06:16,  6.60s/game]\u001b[A\n",
      " 44%|████▍     | 44/100 [04:46<06:05,  6.52s/game]\u001b[A\n",
      " 45%|████▌     | 45/100 [04:52<05:57,  6.50s/game]\u001b[A\n",
      " 46%|████▌     | 46/100 [04:58<05:50,  6.49s/game]\u001b[A\n",
      " 47%|████▋     | 47/100 [05:03<05:42,  6.46s/game]\u001b[A\n",
      " 48%|████▊     | 48/100 [05:10<05:36,  6.47s/game]\u001b[A\n",
      " 49%|████▉     | 49/100 [05:14<05:27,  6.42s/game]\u001b[A\n",
      " 50%|█████     | 50/100 [05:17<05:17,  6.35s/game]\u001b[A\n",
      " 51%|█████     | 51/100 [05:23<05:10,  6.34s/game]\u001b[A\n",
      " 52%|█████▏    | 52/100 [05:29<05:03,  6.33s/game]\u001b[A\n",
      " 53%|█████▎    | 53/100 [05:32<04:54,  6.27s/game]\u001b[A\n",
      " 54%|█████▍    | 54/100 [05:38<04:48,  6.26s/game]\u001b[A\n",
      " 55%|█████▌    | 55/100 [05:44<04:41,  6.26s/game]\u001b[A\n",
      " 56%|█████▌    | 56/100 [05:49<04:34,  6.25s/game]\u001b[A\n",
      " 57%|█████▋    | 57/100 [05:54<04:27,  6.22s/game]\u001b[A\n",
      " 58%|█████▊    | 58/100 [05:59<04:20,  6.19s/game]\u001b[A\n",
      " 59%|█████▉    | 59/100 [06:04<04:13,  6.18s/game]\u001b[A\n",
      " 60%|██████    | 60/100 [06:12<04:08,  6.20s/game]\u001b[A\n",
      " 61%|██████    | 61/100 [06:17<04:01,  6.19s/game]\u001b[A\n",
      " 62%|██████▏   | 62/100 [06:23<03:54,  6.18s/game]\u001b[A\n",
      " 63%|██████▎   | 63/100 [06:29<03:48,  6.18s/game]\u001b[A\n",
      " 64%|██████▍   | 64/100 [06:34<03:42,  6.17s/game]\u001b[A\n",
      " 65%|██████▌   | 65/100 [06:41<03:36,  6.17s/game]\u001b[A\n",
      " 66%|██████▌   | 66/100 [06:48<03:30,  6.19s/game]\u001b[A\n",
      " 67%|██████▋   | 67/100 [06:55<03:24,  6.20s/game]\u001b[A\n",
      " 68%|██████▊   | 68/100 [07:01<03:18,  6.20s/game]\u001b[A\n",
      " 69%|██████▉   | 69/100 [07:10<03:13,  6.24s/game]\u001b[A\n",
      " 70%|███████   | 70/100 [07:16<03:07,  6.23s/game]\u001b[A\n",
      " 71%|███████   | 71/100 [07:24<03:01,  6.26s/game]\u001b[A\n",
      " 72%|███████▏  | 72/100 [07:31<02:55,  6.27s/game]\u001b[A\n",
      " 73%|███████▎  | 73/100 [07:35<02:48,  6.25s/game]\u001b[A\n",
      " 74%|███████▍  | 74/100 [07:43<02:42,  6.26s/game]\u001b[A\n",
      " 75%|███████▌  | 75/100 [07:49<02:36,  6.26s/game]\u001b[A\n",
      " 76%|███████▌  | 76/100 [08:00<02:31,  6.33s/game]\u001b[A\n",
      " 77%|███████▋  | 77/100 [08:07<02:25,  6.33s/game]\u001b[A\n",
      " 78%|███████▊  | 78/100 [08:15<02:19,  6.35s/game]\u001b[A\n",
      " 79%|███████▉  | 79/100 [08:24<02:14,  6.39s/game]\u001b[A\n",
      " 80%|████████  | 80/100 [08:32<02:08,  6.40s/game]\u001b[A\n",
      " 81%|████████  | 81/100 [08:38<02:01,  6.40s/game]\u001b[A\n",
      " 82%|████████▏ | 82/100 [08:47<01:55,  6.43s/game]\u001b[A\n",
      " 83%|████████▎ | 83/100 [08:50<01:48,  6.40s/game]\u001b[A\n",
      " 84%|████████▍ | 84/100 [08:56<01:42,  6.39s/game]\u001b[A\n",
      " 85%|████████▌ | 85/100 [09:04<01:36,  6.40s/game]\u001b[A\n",
      " 86%|████████▌ | 86/100 [09:09<01:29,  6.39s/game]\u001b[A\n",
      " 87%|████████▋ | 87/100 [09:15<01:23,  6.39s/game]\u001b[A\n",
      " 88%|████████▊ | 88/100 [09:22<01:16,  6.39s/game]\u001b[A\n",
      " 89%|████████▉ | 89/100 [09:26<01:10,  6.37s/game]\u001b[A\n",
      " 90%|█████████ | 90/100 [09:39<01:04,  6.44s/game]\u001b[A\n",
      " 91%|█████████ | 91/100 [09:49<00:58,  6.48s/game]\u001b[A\n",
      " 92%|█████████▏| 92/100 [09:54<00:51,  6.46s/game]\u001b[A\n",
      " 93%|█████████▎| 93/100 [10:05<00:45,  6.51s/game]\u001b[A\n",
      " 94%|█████████▍| 94/100 [10:11<00:39,  6.50s/game]\u001b[A\n",
      " 95%|█████████▌| 95/100 [10:16<00:32,  6.49s/game]\u001b[A\n",
      " 96%|█████████▌| 96/100 [10:24<00:26,  6.51s/game]\u001b[A\n",
      " 97%|█████████▋| 97/100 [10:33<00:19,  6.53s/game]\u001b[A\n",
      " 98%|█████████▊| 98/100 [10:39<00:13,  6.53s/game]\u001b[A\n",
      " 99%|█████████▉| 99/100 [10:44<00:06,  6.52s/game]\u001b[A\n",
      "100%|██████████| 100/100 [10:50<00:00,  6.50s/game]\u001b[A\n",
      "\u001b[A"
     ]
    },
    {
     "data": {
      "text/plain": [
       "0      98.0\n",
       "1      91.0\n",
       "2      89.0\n",
       "3     101.0\n",
       "4      50.0\n",
       "5      99.0\n",
       "6      98.0\n",
       "7     102.0\n",
       "8      76.0\n",
       "9      89.0\n",
       "10     76.0\n",
       "11     83.0\n",
       "12     95.0\n",
       "13     80.0\n",
       "14     30.0\n",
       "15     93.0\n",
       "16     86.0\n",
       "17     99.0\n",
       "18     44.0\n",
       "19     64.0\n",
       "20    110.0\n",
       "21     88.0\n",
       "22     98.0\n",
       "23     94.0\n",
       "24     82.0\n",
       "25     99.0\n",
       "26     96.0\n",
       "27     95.0\n",
       "28    101.0\n",
       "29     45.0\n",
       "      ...  \n",
       "70     93.0\n",
       "71     95.0\n",
       "72     66.0\n",
       "73    100.0\n",
       "74     98.0\n",
       "75    100.0\n",
       "76     88.0\n",
       "77     83.0\n",
       "78     97.0\n",
       "79    102.0\n",
       "80     93.0\n",
       "81    102.0\n",
       "82     39.0\n",
       "83    100.0\n",
       "84     90.0\n",
       "85     85.0\n",
       "86     96.0\n",
       "87     95.0\n",
       "88     63.0\n",
       "89     89.0\n",
       "90    117.0\n",
       "91     79.0\n",
       "92    100.0\n",
       "93     89.0\n",
       "94     60.0\n",
       "95     93.0\n",
       "96     98.0\n",
       "97     94.0\n",
       "98     95.0\n",
       "99     76.0\n",
       "Length: 100, dtype: float64"
      ]
     },
     "execution_count": 24,
     "metadata": {},
     "output_type": "execute_result"
    }
   ],
   "source": [
    "final = agent.play()\n",
    "final = pd.Series(final)\n",
    "final"
   ]
  },
  {
   "cell_type": "code",
   "execution_count": 25,
   "metadata": {},
   "outputs": [],
   "source": [
    "final.to_csv('{}/final.csv'.format(exp_directory))"
   ]
  },
  {
   "cell_type": "code",
   "execution_count": 26,
   "metadata": {},
   "outputs": [
    {
     "data": {
      "text/plain": [
       "count    100.000000\n",
       "mean      85.560000\n",
       "std       18.147722\n",
       "min       27.000000\n",
       "25%       81.750000\n",
       "50%       91.000000\n",
       "75%       98.000000\n",
       "max      117.000000\n",
       "dtype: float64"
      ]
     },
     "execution_count": 26,
     "metadata": {},
     "output_type": "execute_result"
    }
   ],
   "source": [
    "final.describe()"
   ]
  },
  {
   "cell_type": "code",
   "execution_count": 27,
   "metadata": {},
   "outputs": [
    {
     "data": {
      "image/png": "[encoded data removed]",
      "text/plain": [
       "<matplotlib.figure.Figure at 0x2abd48c6f978>"
      ]
     },
     "metadata": {},
     "output_type": "display_data"
    }
   ],
   "source": [
    "final.hist()\n",
    "plt.savefig('{}/final.pdf'.format(plot_dir))"
   ]
  },
  {
   "cell_type": "markdown",
   "metadata": {},
   "source": [
    "## Saving Weights"
   ]
  },
  {
   "cell_type": "code",
   "execution_count": 28,
   "metadata": {},
   "outputs": [],
   "source": [
    "agent.model.save_weights('{}/weights.h5'.format(exp_directory), overwrite=True)"
   ]
  },
  {
   "cell_type": "markdown",
   "metadata": {},
   "source": [
    " "
   ]
  }
 ],
 "metadata": {
  "kernelspec": {
   "display_name": "Python 3.6 [python/3.6 cuda/8.0.44]",
   "language": "python",
   "name": "python36"
  },
  "language_info": {
   "codemirror_mode": {
    "name": "ipython",
    "version": 3
   },
   "file_extension": ".py",
   "mimetype": "text/x-python",
   "name": "python",
   "nbconvert_exporter": "python",
   "pygments_lexer": "ipython3",
   "version": "3.6.3"
  }
 },
 "nbformat": 4,
 "nbformat_minor": 2
}
