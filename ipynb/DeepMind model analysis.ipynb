{
 "cells": [
  {
   "cell_type": "markdown",
   "metadata": {},
   "source": [
    "# Imports"
   ]
  },
  {
   "cell_type": "code",
   "execution_count": 1,
   "metadata": {},
   "outputs": [],
   "source": [
    "%load_ext autoreload\n",
    "%autoreload 2"
   ]
  },
  {
   "cell_type": "code",
   "execution_count": 2,
   "metadata": {},
   "outputs": [],
   "source": [
    "import base"
   ]
  },
  {
   "cell_type": "code",
   "execution_count": 3,
   "metadata": {},
   "outputs": [
    {
     "name": "stderr",
     "output_type": "stream",
     "text": [
      "/usr/local/lib/python3.5/dist-packages/h5py/__init__.py:36: FutureWarning: Conversion of the second argument of issubdtype from `float` to `np.floating` is deprecated. In future, it will be treated as `np.float64 == np.dtype(float).type`.\n",
      "  from ._conv import register_converters as _register_converters\n",
      "Using TensorFlow backend.\n"
     ]
    }
   ],
   "source": [
    "from src.models import build_deep_mind_model"
   ]
  },
  {
   "cell_type": "markdown",
   "metadata": {},
   "source": [
    "# Architecture"
   ]
  },
  {
   "cell_type": "code",
   "execution_count": 4,
   "metadata": {},
   "outputs": [],
   "source": [
    "model = build_deep_mind_model(\n",
    "    image_size=(84, 84),\n",
    "    num_frames=4,\n",
    "    num_actions=6\n",
    ")"
   ]
  },
  {
   "cell_type": "code",
   "execution_count": 5,
   "metadata": {},
   "outputs": [
    {
     "data": {
      "image/svg+xml": [
       "<svg height=\"553pt\" viewBox=\"0.00 0.00 251.00 553.00\" width=\"251pt\" xmlns=\"http://www.w3.org/2000/svg\" xmlns:xlink=\"http://www.w3.org/1999/xlink\">\n",
       "<g class=\"graph\" id=\"graph0\" transform=\"scale(1 1) rotate(0) translate(4 549)\">\n",
       "<title>G</title>\n",
       "<polygon fill=\"white\" points=\"-4,4 -4,-549 247,-549 247,4 -4,4\" stroke=\"none\"/>\n",
       "<!-- 140014884455928 -->\n",
       "<g class=\"node\" id=\"node1\"><title>140014884455928</title>\n",
       "<polygon fill=\"none\" points=\"0,-498.5 0,-544.5 243,-544.5 243,-498.5 0,-498.5\" stroke=\"black\"/>\n",
       "<text font-family=\"Times,serif\" font-size=\"14.00\" text-anchor=\"middle\" x=\"38.5\" y=\"-517.8\">InputLayer</text>\n",
       "<polyline fill=\"none\" points=\"77,-498.5 77,-544.5 \" stroke=\"black\"/>\n",
       "<text font-family=\"Times,serif\" font-size=\"14.00\" text-anchor=\"middle\" x=\"104.5\" y=\"-529.3\">input:</text>\n",
       "<polyline fill=\"none\" points=\"77,-521.5 132,-521.5 \" stroke=\"black\"/>\n",
       "<text font-family=\"Times,serif\" font-size=\"14.00\" text-anchor=\"middle\" x=\"104.5\" y=\"-506.3\">output:</text>\n",
       "<polyline fill=\"none\" points=\"132,-498.5 132,-544.5 \" stroke=\"black\"/>\n",
       "<text font-family=\"Times,serif\" font-size=\"14.00\" text-anchor=\"middle\" x=\"187.5\" y=\"-529.3\">(None, 84, 84, 4)</text>\n",
       "<polyline fill=\"none\" points=\"132,-521.5 243,-521.5 \" stroke=\"black\"/>\n",
       "<text font-family=\"Times,serif\" font-size=\"14.00\" text-anchor=\"middle\" x=\"187.5\" y=\"-506.3\">(None, 84, 84, 4)</text>\n",
       "</g>\n",
       "<!-- 140014884850936 -->\n",
       "<g class=\"node\" id=\"node2\"><title>140014884850936</title>\n",
       "<polygon fill=\"none\" points=\"4,-415.5 4,-461.5 239,-461.5 239,-415.5 4,-415.5\" stroke=\"black\"/>\n",
       "<text font-family=\"Times,serif\" font-size=\"14.00\" text-anchor=\"middle\" x=\"35\" y=\"-434.8\">Conv2D</text>\n",
       "<polyline fill=\"none\" points=\"66,-415.5 66,-461.5 \" stroke=\"black\"/>\n",
       "<text font-family=\"Times,serif\" font-size=\"14.00\" text-anchor=\"middle\" x=\"93.5\" y=\"-446.3\">input:</text>\n",
       "<polyline fill=\"none\" points=\"66,-438.5 121,-438.5 \" stroke=\"black\"/>\n",
       "<text font-family=\"Times,serif\" font-size=\"14.00\" text-anchor=\"middle\" x=\"93.5\" y=\"-423.3\">output:</text>\n",
       "<polyline fill=\"none\" points=\"121,-415.5 121,-461.5 \" stroke=\"black\"/>\n",
       "<text font-family=\"Times,serif\" font-size=\"14.00\" text-anchor=\"middle\" x=\"180\" y=\"-446.3\">(None, 84, 84, 4)</text>\n",
       "<polyline fill=\"none\" points=\"121,-438.5 239,-438.5 \" stroke=\"black\"/>\n",
       "<text font-family=\"Times,serif\" font-size=\"14.00\" text-anchor=\"middle\" x=\"180\" y=\"-423.3\">(None, 21, 21, 32)</text>\n",
       "</g>\n",
       "<!-- 140014884455928&#45;&gt;140014884850936 -->\n",
       "<g class=\"edge\" id=\"edge1\"><title>140014884455928-&gt;140014884850936</title>\n",
       "<path d=\"M121.5,-498.366C121.5,-490.152 121.5,-480.658 121.5,-471.725\" fill=\"none\" stroke=\"black\"/>\n",
       "<polygon fill=\"black\" points=\"125,-471.607 121.5,-461.607 118,-471.607 125,-471.607\" stroke=\"black\"/>\n",
       "</g>\n",
       "<!-- 140014884851328 -->\n",
       "<g class=\"node\" id=\"node3\"><title>140014884851328</title>\n",
       "<polygon fill=\"none\" points=\"4,-332.5 4,-378.5 239,-378.5 239,-332.5 4,-332.5\" stroke=\"black\"/>\n",
       "<text font-family=\"Times,serif\" font-size=\"14.00\" text-anchor=\"middle\" x=\"35\" y=\"-351.8\">Conv2D</text>\n",
       "<polyline fill=\"none\" points=\"66,-332.5 66,-378.5 \" stroke=\"black\"/>\n",
       "<text font-family=\"Times,serif\" font-size=\"14.00\" text-anchor=\"middle\" x=\"93.5\" y=\"-363.3\">input:</text>\n",
       "<polyline fill=\"none\" points=\"66,-355.5 121,-355.5 \" stroke=\"black\"/>\n",
       "<text font-family=\"Times,serif\" font-size=\"14.00\" text-anchor=\"middle\" x=\"93.5\" y=\"-340.3\">output:</text>\n",
       "<polyline fill=\"none\" points=\"121,-332.5 121,-378.5 \" stroke=\"black\"/>\n",
       "<text font-family=\"Times,serif\" font-size=\"14.00\" text-anchor=\"middle\" x=\"180\" y=\"-363.3\">(None, 21, 21, 32)</text>\n",
       "<polyline fill=\"none\" points=\"121,-355.5 239,-355.5 \" stroke=\"black\"/>\n",
       "<text font-family=\"Times,serif\" font-size=\"14.00\" text-anchor=\"middle\" x=\"180\" y=\"-340.3\">(None, 11, 11, 64)</text>\n",
       "</g>\n",
       "<!-- 140014884850936&#45;&gt;140014884851328 -->\n",
       "<g class=\"edge\" id=\"edge2\"><title>140014884850936-&gt;140014884851328</title>\n",
       "<path d=\"M121.5,-415.366C121.5,-407.152 121.5,-397.658 121.5,-388.725\" fill=\"none\" stroke=\"black\"/>\n",
       "<polygon fill=\"black\" points=\"125,-388.607 121.5,-378.607 118,-388.607 125,-388.607\" stroke=\"black\"/>\n",
       "</g>\n",
       "<!-- 140014884851440 -->\n",
       "<g class=\"node\" id=\"node4\"><title>140014884851440</title>\n",
       "<polygon fill=\"none\" points=\"4,-249.5 4,-295.5 239,-295.5 239,-249.5 4,-249.5\" stroke=\"black\"/>\n",
       "<text font-family=\"Times,serif\" font-size=\"14.00\" text-anchor=\"middle\" x=\"35\" y=\"-268.8\">Conv2D</text>\n",
       "<polyline fill=\"none\" points=\"66,-249.5 66,-295.5 \" stroke=\"black\"/>\n",
       "<text font-family=\"Times,serif\" font-size=\"14.00\" text-anchor=\"middle\" x=\"93.5\" y=\"-280.3\">input:</text>\n",
       "<polyline fill=\"none\" points=\"66,-272.5 121,-272.5 \" stroke=\"black\"/>\n",
       "<text font-family=\"Times,serif\" font-size=\"14.00\" text-anchor=\"middle\" x=\"93.5\" y=\"-257.3\">output:</text>\n",
       "<polyline fill=\"none\" points=\"121,-249.5 121,-295.5 \" stroke=\"black\"/>\n",
       "<text font-family=\"Times,serif\" font-size=\"14.00\" text-anchor=\"middle\" x=\"180\" y=\"-280.3\">(None, 11, 11, 64)</text>\n",
       "<polyline fill=\"none\" points=\"121,-272.5 239,-272.5 \" stroke=\"black\"/>\n",
       "<text font-family=\"Times,serif\" font-size=\"14.00\" text-anchor=\"middle\" x=\"180\" y=\"-257.3\">(None, 11, 11, 64)</text>\n",
       "</g>\n",
       "<!-- 140014884851328&#45;&gt;140014884851440 -->\n",
       "<g class=\"edge\" id=\"edge3\"><title>140014884851328-&gt;140014884851440</title>\n",
       "<path d=\"M121.5,-332.366C121.5,-324.152 121.5,-314.658 121.5,-305.725\" fill=\"none\" stroke=\"black\"/>\n",
       "<polygon fill=\"black\" points=\"125,-305.607 121.5,-295.607 118,-305.607 125,-305.607\" stroke=\"black\"/>\n",
       "</g>\n",
       "<!-- 140014884454864 -->\n",
       "<g class=\"node\" id=\"node5\"><title>140014884454864</title>\n",
       "<polygon fill=\"none\" points=\"8,-166.5 8,-212.5 235,-212.5 235,-166.5 8,-166.5\" stroke=\"black\"/>\n",
       "<text font-family=\"Times,serif\" font-size=\"14.00\" text-anchor=\"middle\" x=\"35\" y=\"-185.8\">Flatten</text>\n",
       "<polyline fill=\"none\" points=\"62,-166.5 62,-212.5 \" stroke=\"black\"/>\n",
       "<text font-family=\"Times,serif\" font-size=\"14.00\" text-anchor=\"middle\" x=\"89.5\" y=\"-197.3\">input:</text>\n",
       "<polyline fill=\"none\" points=\"62,-189.5 117,-189.5 \" stroke=\"black\"/>\n",
       "<text font-family=\"Times,serif\" font-size=\"14.00\" text-anchor=\"middle\" x=\"89.5\" y=\"-174.3\">output:</text>\n",
       "<polyline fill=\"none\" points=\"117,-166.5 117,-212.5 \" stroke=\"black\"/>\n",
       "<text font-family=\"Times,serif\" font-size=\"14.00\" text-anchor=\"middle\" x=\"176\" y=\"-197.3\">(None, 11, 11, 64)</text>\n",
       "<polyline fill=\"none\" points=\"117,-189.5 235,-189.5 \" stroke=\"black\"/>\n",
       "<text font-family=\"Times,serif\" font-size=\"14.00\" text-anchor=\"middle\" x=\"176\" y=\"-174.3\">(None, 7744)</text>\n",
       "</g>\n",
       "<!-- 140014884851440&#45;&gt;140014884454864 -->\n",
       "<g class=\"edge\" id=\"edge4\"><title>140014884851440-&gt;140014884454864</title>\n",
       "<path d=\"M121.5,-249.366C121.5,-241.152 121.5,-231.658 121.5,-222.725\" fill=\"none\" stroke=\"black\"/>\n",
       "<polygon fill=\"black\" points=\"125,-222.607 121.5,-212.607 118,-222.607 125,-222.607\" stroke=\"black\"/>\n",
       "</g>\n",
       "<!-- 140014884455032 -->\n",
       "<g class=\"node\" id=\"node6\"><title>140014884455032</title>\n",
       "<polygon fill=\"none\" points=\"24.5,-83.5 24.5,-129.5 218.5,-129.5 218.5,-83.5 24.5,-83.5\" stroke=\"black\"/>\n",
       "<text font-family=\"Times,serif\" font-size=\"14.00\" text-anchor=\"middle\" x=\"49.5\" y=\"-102.8\">Dense</text>\n",
       "<polyline fill=\"none\" points=\"74.5,-83.5 74.5,-129.5 \" stroke=\"black\"/>\n",
       "<text font-family=\"Times,serif\" font-size=\"14.00\" text-anchor=\"middle\" x=\"102\" y=\"-114.3\">input:</text>\n",
       "<polyline fill=\"none\" points=\"74.5,-106.5 129.5,-106.5 \" stroke=\"black\"/>\n",
       "<text font-family=\"Times,serif\" font-size=\"14.00\" text-anchor=\"middle\" x=\"102\" y=\"-91.3\">output:</text>\n",
       "<polyline fill=\"none\" points=\"129.5,-83.5 129.5,-129.5 \" stroke=\"black\"/>\n",
       "<text font-family=\"Times,serif\" font-size=\"14.00\" text-anchor=\"middle\" x=\"174\" y=\"-114.3\">(None, 7744)</text>\n",
       "<polyline fill=\"none\" points=\"129.5,-106.5 218.5,-106.5 \" stroke=\"black\"/>\n",
       "<text font-family=\"Times,serif\" font-size=\"14.00\" text-anchor=\"middle\" x=\"174\" y=\"-91.3\">(None, 512)</text>\n",
       "</g>\n",
       "<!-- 140014884454864&#45;&gt;140014884455032 -->\n",
       "<g class=\"edge\" id=\"edge5\"><title>140014884454864-&gt;140014884455032</title>\n",
       "<path d=\"M121.5,-166.366C121.5,-158.152 121.5,-148.658 121.5,-139.725\" fill=\"none\" stroke=\"black\"/>\n",
       "<polygon fill=\"black\" points=\"125,-139.607 121.5,-129.607 118,-139.607 125,-139.607\" stroke=\"black\"/>\n",
       "</g>\n",
       "<!-- 140014884455424 -->\n",
       "<g class=\"node\" id=\"node7\"><title>140014884455424</title>\n",
       "<polygon fill=\"none\" points=\"27.5,-0.5 27.5,-46.5 215.5,-46.5 215.5,-0.5 27.5,-0.5\" stroke=\"black\"/>\n",
       "<text font-family=\"Times,serif\" font-size=\"14.00\" text-anchor=\"middle\" x=\"52.5\" y=\"-19.8\">Dense</text>\n",
       "<polyline fill=\"none\" points=\"77.5,-0.5 77.5,-46.5 \" stroke=\"black\"/>\n",
       "<text font-family=\"Times,serif\" font-size=\"14.00\" text-anchor=\"middle\" x=\"105\" y=\"-31.3\">input:</text>\n",
       "<polyline fill=\"none\" points=\"77.5,-23.5 132.5,-23.5 \" stroke=\"black\"/>\n",
       "<text font-family=\"Times,serif\" font-size=\"14.00\" text-anchor=\"middle\" x=\"105\" y=\"-8.3\">output:</text>\n",
       "<polyline fill=\"none\" points=\"132.5,-0.5 132.5,-46.5 \" stroke=\"black\"/>\n",
       "<text font-family=\"Times,serif\" font-size=\"14.00\" text-anchor=\"middle\" x=\"174\" y=\"-31.3\">(None, 512)</text>\n",
       "<polyline fill=\"none\" points=\"132.5,-23.5 215.5,-23.5 \" stroke=\"black\"/>\n",
       "<text font-family=\"Times,serif\" font-size=\"14.00\" text-anchor=\"middle\" x=\"174\" y=\"-8.3\">(None, 6)</text>\n",
       "</g>\n",
       "<!-- 140014884455032&#45;&gt;140014884455424 -->\n",
       "<g class=\"edge\" id=\"edge6\"><title>140014884455032-&gt;140014884455424</title>\n",
       "<path d=\"M121.5,-83.3664C121.5,-75.1516 121.5,-65.6579 121.5,-56.7252\" fill=\"none\" stroke=\"black\"/>\n",
       "<polygon fill=\"black\" points=\"125,-56.6068 121.5,-46.6068 118,-56.6069 125,-56.6068\" stroke=\"black\"/>\n",
       "</g>\n",
       "</g>\n",
       "</svg>"
      ],
      "text/plain": [
       "<IPython.core.display.SVG object>"
      ]
     },
     "execution_count": 5,
     "metadata": {},
     "output_type": "execute_result"
    }
   ],
   "source": [
    "from IPython.display import SVG\n",
    "from keras.utils.vis_utils import model_to_dot\n",
    "\n",
    "SVG(model_to_dot(model, show_shapes=True, show_layer_names=False).create(prog='dot', format='svg'))"
   ]
  },
  {
   "cell_type": "markdown",
   "metadata": {},
   "source": [
    "# Summary"
   ]
  },
  {
   "cell_type": "code",
   "execution_count": 6,
   "metadata": {},
   "outputs": [
    {
     "name": "stdout",
     "output_type": "stream",
     "text": [
      "_________________________________________________________________\n",
      "Layer (type)                 Output Shape              Param #   \n",
      "=================================================================\n",
      "conv2d_1 (Conv2D)            (None, 21, 21, 32)        8224      \n",
      "_________________________________________________________________\n",
      "conv2d_2 (Conv2D)            (None, 11, 11, 64)        32832     \n",
      "_________________________________________________________________\n",
      "conv2d_3 (Conv2D)            (None, 11, 11, 64)        36928     \n",
      "_________________________________________________________________\n",
      "flatten_1 (Flatten)          (None, 7744)              0         \n",
      "_________________________________________________________________\n",
      "dense_1 (Dense)              (None, 512)               3965440   \n",
      "_________________________________________________________________\n",
      "dense_2 (Dense)              (None, 6)                 3078      \n",
      "=================================================================\n",
      "Total params: 4,046,502\n",
      "Trainable params: 4,046,502\n",
      "Non-trainable params: 0\n",
      "_________________________________________________________________\n"
     ]
    }
   ],
   "source": [
    "model.summary()"
   ]
  }
 ],
 "metadata": {
  "kernelspec": {
   "display_name": "Python 3",
   "language": "python",
   "name": "python3"
  },
  "language_info": {
   "codemirror_mode": {
    "name": "ipython",
    "version": 3
   },
   "file_extension": ".py",
   "mimetype": "text/x-python",
   "name": "python",
   "nbconvert_exporter": "python",
   "pygments_lexer": "ipython3",
   "version": "3.5.2"
  }
 },
 "nbformat": 4,
 "nbformat_minor": 2
}
