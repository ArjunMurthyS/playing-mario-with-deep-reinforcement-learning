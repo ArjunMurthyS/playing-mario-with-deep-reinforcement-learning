{
 "cells": [
  {
   "cell_type": "code",
   "execution_count": 1,
   "metadata": {},
   "outputs": [],
   "source": [
    "import os\n",
    "os.environ['PATH'] += ':ffmpeg-3.4.2-64bit-static'"
   ]
  },
  {
   "cell_type": "markdown",
   "metadata": {},
   "source": [
    "# Setup"
   ]
  },
  {
   "cell_type": "code",
   "execution_count": 2,
   "metadata": {},
   "outputs": [],
   "source": [
    "exp_directory = 'results'\n",
    "agent_name = 'DeepQAgent'\n",
    "game_name = 'Enduro'\n",
    "render_mode='rgb_array'"
   ]
  },
  {
   "cell_type": "markdown",
   "metadata": {},
   "source": [
    "### Global Modules"
   ]
  },
  {
   "cell_type": "code",
   "execution_count": 3,
   "metadata": {},
   "outputs": [],
   "source": [
    "import os\n",
    "import datetime\n",
    "import pandas as pd\n",
    "from matplotlib import pyplot as plt\n",
    "%matplotlib inline\n",
    "from gym.wrappers import Monitor"
   ]
  },
  {
   "cell_type": "markdown",
   "metadata": {},
   "source": [
    "### Local Modules"
   ]
  },
  {
   "cell_type": "code",
   "execution_count": 4,
   "metadata": {},
   "outputs": [
    {
     "name": "stderr",
     "output_type": "stream",
     "text": [
      "/usr/local/anaconda5/lib/python3.6/site-packages/h5py/__init__.py:34: FutureWarning: Conversion of the second argument of issubdtype from `float` to `np.floating` is deprecated. In future, it will be treated as `np.float64 == np.dtype(float).type`.\n",
      "  from ._conv import register_converters as _register_converters\n",
      "Using TensorFlow backend.\n",
      "/usr/local/anaconda5/lib/python3.6/importlib/_bootstrap.py:219: RuntimeWarning: compiletime version 3.5 of module 'tensorflow.python.framework.fast_tensor_util' does not match runtime version 3.6\n",
      "  return f(*args, **kwds)\n"
     ]
    }
   ],
   "source": [
    "import base\n",
    "from src.agents import DeepQAgent, A3CAgent\n",
    "from src.util import BaseCallback, JupyterCallback\n",
    "from src.environment.atari import build_atari_environment"
   ]
  },
  {
   "cell_type": "markdown",
   "metadata": {},
   "source": [
    "## Constants"
   ]
  },
  {
   "cell_type": "code",
   "execution_count": 5,
   "metadata": {},
   "outputs": [],
   "source": [
    "agents = {\n",
    "    DeepQAgent.__name__: DeepQAgent,\n",
    "    A3CAgent.__name__: A3CAgent,\n",
    "}"
   ]
  },
  {
   "cell_type": "markdown",
   "metadata": {},
   "source": [
    "#### Output Directory"
   ]
  },
  {
   "cell_type": "code",
   "execution_count": 6,
   "metadata": {},
   "outputs": [
    {
     "data": {
      "text/plain": [
       "'results/Enduro/DeepQAgent/2018-04-16_19-43'"
      ]
     },
     "execution_count": 6,
     "metadata": {},
     "output_type": "execute_result"
    }
   ],
   "source": [
    "# setup the experiment directory\n",
    "now = datetime.datetime.today().strftime('%Y-%m-%d_%H-%M')\n",
    "exp_directory = '{}/{}/{}/{}'.format(exp_directory, game_name, agent_name, now)\n",
    "if not os.path.exists(exp_directory):\n",
    "    os.makedirs(exp_directory)\n",
    "exp_directory"
   ]
  },
  {
   "cell_type": "code",
   "execution_count": 7,
   "metadata": {},
   "outputs": [
    {
     "data": {
      "text/plain": [
       "'results/Enduro/DeepQAgent/2018-04-16_19-43/plots'"
      ]
     },
     "execution_count": 7,
     "metadata": {},
     "output_type": "execute_result"
    }
   ],
   "source": [
    "plot_dir = '{}/plots'.format(exp_directory)\n",
    "if not os.path.exists(plot_dir):\n",
    "    os.makedirs(plot_dir)\n",
    "plot_dir"
   ]
  },
  {
   "cell_type": "markdown",
   "metadata": {},
   "source": [
    "# Environment"
   ]
  },
  {
   "cell_type": "code",
   "execution_count": 8,
   "metadata": {},
   "outputs": [],
   "source": [
    "env = build_atari_environment(game_name)\n",
    "env = Monitor(env, '{}/monitor'.format(exp_directory), force=True)"
   ]
  },
  {
   "cell_type": "code",
   "execution_count": 9,
   "metadata": {},
   "outputs": [
    {
     "data": {
      "text/plain": [
       "Box(84, 84, 4)"
      ]
     },
     "execution_count": 9,
     "metadata": {},
     "output_type": "execute_result"
    }
   ],
   "source": [
    "env.observation_space"
   ]
  },
  {
   "cell_type": "code",
   "execution_count": 10,
   "metadata": {},
   "outputs": [
    {
     "data": {
      "text/plain": [
       "Discrete(9)"
      ]
     },
     "execution_count": 10,
     "metadata": {},
     "output_type": "execute_result"
    }
   ],
   "source": [
    "env.action_space"
   ]
  },
  {
   "cell_type": "markdown",
   "metadata": {},
   "source": [
    "# Agent"
   ]
  },
  {
   "cell_type": "code",
   "execution_count": 11,
   "metadata": {
    "scrolled": true
   },
   "outputs": [
    {
     "data": {
      "text/plain": [
       "DeepQAgent(\n",
       "    env=<Monitor<FrameStackEnv<ClipRewardEnv<PenalizeDeathEnv<DownsampleEnv<FireResetEnv<MaxFrameskipEnv<NoopResetEnv<TimeLimit<AtariEnv<EnduroNoFrameskip-v4>>>>>>>>>>>,\n",
       "    render_mode='rgb_array'\n",
       "    replay_memory_size=1000000,\n",
       "    discount_factor=0.99,\n",
       "    update_frequency=4,\n",
       "    optimizer=<keras.optimizers.Adam object at 0x2ac668148160>,\n",
       "    exploration_rate=AnnealingVariable(initial_value=1.0, final_value=0.1, steps=1000000),\n",
       "    loss=huber_loss,\n",
       "    target_update_freq=10000,\n",
       "    dueling_network=True\n",
       ")"
      ]
     },
     "execution_count": 11,
     "metadata": {},
     "output_type": "execute_result"
    }
   ],
   "source": [
    "agent = agents[agent_name](env, render_mode=render_mode)\n",
    "agent"
   ]
  },
  {
   "cell_type": "code",
   "execution_count": 12,
   "metadata": {},
   "outputs": [],
   "source": [
    "# write some info about the agent to disk\n",
    "with open('{}/agent.py'.format(exp_directory), 'w') as agent_file:\n",
    "    agent_file.write(repr(agent))"
   ]
  },
  {
   "cell_type": "markdown",
   "metadata": {},
   "source": [
    "## Initial"
   ]
  },
  {
   "cell_type": "code",
   "execution_count": 13,
   "metadata": {},
   "outputs": [
    {
     "name": "stderr",
     "output_type": "stream",
     "text": [
      "100%|██████████| 100/100 [16:32<00:00,  9.93s/game]\n"
     ]
    },
    {
     "data": {
      "text/plain": [
       "0     0.0\n",
       "1     0.0\n",
       "2     0.0\n",
       "3     0.0\n",
       "4     0.0\n",
       "5     0.0\n",
       "6     0.0\n",
       "7     0.0\n",
       "8     0.0\n",
       "9     0.0\n",
       "10    0.0\n",
       "11    0.0\n",
       "12    0.0\n",
       "13    0.0\n",
       "14    0.0\n",
       "15    0.0\n",
       "16    0.0\n",
       "17    0.0\n",
       "18    0.0\n",
       "19    0.0\n",
       "20    0.0\n",
       "21    0.0\n",
       "22    0.0\n",
       "23    0.0\n",
       "24    0.0\n",
       "25    0.0\n",
       "26    0.0\n",
       "27    0.0\n",
       "28    0.0\n",
       "29    0.0\n",
       "     ... \n",
       "70    0.0\n",
       "71    0.0\n",
       "72    0.0\n",
       "73    0.0\n",
       "74    0.0\n",
       "75    0.0\n",
       "76    0.0\n",
       "77    0.0\n",
       "78    0.0\n",
       "79    0.0\n",
       "80    0.0\n",
       "81    0.0\n",
       "82    0.0\n",
       "83    0.0\n",
       "84    0.0\n",
       "85    0.0\n",
       "86    0.0\n",
       "87    0.0\n",
       "88    0.0\n",
       "89    0.0\n",
       "90    0.0\n",
       "91    0.0\n",
       "92    0.0\n",
       "93    0.0\n",
       "94    0.0\n",
       "95    0.0\n",
       "96    0.0\n",
       "97    0.0\n",
       "98    0.0\n",
       "99    0.0\n",
       "Length: 100, dtype: float64"
      ]
     },
     "execution_count": 13,
     "metadata": {},
     "output_type": "execute_result"
    }
   ],
   "source": [
    "initial = agent.play()\n",
    "initial = pd.Series(initial)\n",
    "initial"
   ]
  },
  {
   "cell_type": "code",
   "execution_count": 14,
   "metadata": {},
   "outputs": [],
   "source": [
    "initial.to_csv('{}/initial.csv'.format(exp_directory))"
   ]
  },
  {
   "cell_type": "code",
   "execution_count": 15,
   "metadata": {},
   "outputs": [
    {
     "data": {
      "text/plain": [
       "count    100.0\n",
       "mean       0.0\n",
       "std        0.0\n",
       "min        0.0\n",
       "25%        0.0\n",
       "50%        0.0\n",
       "75%        0.0\n",
       "max        0.0\n",
       "dtype: float64"
      ]
     },
     "execution_count": 15,
     "metadata": {},
     "output_type": "execute_result"
    }
   ],
   "source": [
    "initial.describe()"
   ]
  },
  {
   "cell_type": "code",
   "execution_count": 16,
   "metadata": {},
   "outputs": [
    {
     "data": {
      "image/png": "[encoded data removed]",
      "text/plain": [
       "<matplotlib.figure.Figure at 0x2ac6bfe73518>"
      ]
     },
     "metadata": {},
     "output_type": "display_data"
    }
   ],
   "source": [
    "initial.hist()\n",
    "plt.savefig('{}/initial.pdf'.format(plot_dir))"
   ]
  },
  {
   "cell_type": "markdown",
   "metadata": {},
   "source": [
    "## Training"
   ]
  },
  {
   "cell_type": "code",
   "execution_count": 17,
   "metadata": {},
   "outputs": [
    {
     "name": "stderr",
     "output_type": "stream",
     "text": [
      "53155frame [01:08, 780.50frame/s]                        \n"
     ]
    }
   ],
   "source": [
    "agent.observe()"
   ]
  },
  {
   "cell_type": "code",
   "execution_count": 18,
   "metadata": {},
   "outputs": [],
   "source": [
    "callback = BaseCallback()"
   ]
  },
  {
   "cell_type": "code",
   "execution_count": 19,
   "metadata": {
    "scrolled": true
   },
   "outputs": [
    {
     "name": "stderr",
     "output_type": "stream",
     "text": [
      "10003304frame [18:42:15, 149.43frame/s, loss=19.9, score=483]                                 \n"
     ]
    }
   ],
   "source": [
    "agent.train(callback=callback)"
   ]
  },
  {
   "cell_type": "code",
   "execution_count": 20,
   "metadata": {},
   "outputs": [],
   "source": [
    "# save the training results\n",
    "scores = pd.Series(callback.scores)\n",
    "scores.to_csv('{}/scores.csv'.format(exp_directory))\n",
    "losses = pd.Series(callback.losses)\n",
    "losses.to_csv('{}/losses.csv'.format(exp_directory))"
   ]
  },
  {
   "cell_type": "code",
   "execution_count": 21,
   "metadata": {},
   "outputs": [
    {
     "data": {
      "image/png": "[encoded data removed]",
      "text/plain": [
       "<matplotlib.figure.Figure at 0x2ad191701f98>"
      ]
     },
     "metadata": {},
     "output_type": "display_data"
    }
   ],
   "source": [
    "train = pd.concat([scores, losses], axis=1)\n",
    "train.columns = ['Reward', 'Loss']\n",
    "train.index.name = 'Episode'\n",
    "_ = train.plot(figsize=(12, 5), subplots=True)\n",
    "plt.savefig('{}/training.pdf'.format(plot_dir))"
   ]
  },
  {
   "cell_type": "markdown",
   "metadata": {},
   "source": [
    "## Final"
   ]
  },
  {
   "cell_type": "code",
   "execution_count": 22,
   "metadata": {
    "scrolled": true
   },
   "outputs": [
    {
     "name": "stderr",
     "output_type": "stream",
     "text": [
      "100%|██████████| 100/100 [1:14:47<00:00, 44.87s/game]\n"
     ]
    },
    {
     "data": {
      "text/plain": [
       "0     1076.0\n",
       "1      726.0\n",
       "2     1048.0\n",
       "3      778.0\n",
       "4      793.0\n",
       "5     1331.0\n",
       "6     1284.0\n",
       "7     1350.0\n",
       "8     1048.0\n",
       "9     1551.0\n",
       "10    1553.0\n",
       "11    1372.0\n",
       "12    1053.0\n",
       "13    1023.0\n",
       "14    1019.0\n",
       "15    1011.0\n",
       "16    1023.0\n",
       "17    1331.0\n",
       "18     997.0\n",
       "19    1319.0\n",
       "20    1084.0\n",
       "21    1018.0\n",
       "22    1029.0\n",
       "23    1073.0\n",
       "24    1067.0\n",
       "25    1068.0\n",
       "26    1069.0\n",
       "27     948.0\n",
       "28    1395.0\n",
       "29    1340.0\n",
       "       ...  \n",
       "70    1648.0\n",
       "71    1045.0\n",
       "72    1009.0\n",
       "73    1075.0\n",
       "74    1027.0\n",
       "75    1078.0\n",
       "76    1376.0\n",
       "77    1099.0\n",
       "78    1385.0\n",
       "79    1048.0\n",
       "80    1085.0\n",
       "81    1265.0\n",
       "82    1039.0\n",
       "83    1054.0\n",
       "84    1087.0\n",
       "85    1331.0\n",
       "86     985.0\n",
       "87    1396.0\n",
       "88     990.0\n",
       "89    1574.0\n",
       "90    1310.0\n",
       "91     973.0\n",
       "92    1022.0\n",
       "93     959.0\n",
       "94    1061.0\n",
       "95    1033.0\n",
       "96    1052.0\n",
       "97    1268.0\n",
       "98    1091.0\n",
       "99    1057.0\n",
       "Length: 100, dtype: float64"
      ]
     },
     "execution_count": 22,
     "metadata": {},
     "output_type": "execute_result"
    }
   ],
   "source": [
    "final = agent.play()\n",
    "final = pd.Series(final)\n",
    "final"
   ]
  },
  {
   "cell_type": "code",
   "execution_count": 23,
   "metadata": {},
   "outputs": [],
   "source": [
    "final.to_csv('{}/final.csv'.format(exp_directory))"
   ]
  },
  {
   "cell_type": "code",
   "execution_count": 24,
   "metadata": {},
   "outputs": [
    {
     "data": {
      "text/plain": [
       "count     100.000000\n",
       "mean     1182.980000\n",
       "std       232.734339\n",
       "min       726.000000\n",
       "25%      1027.750000\n",
       "50%      1075.000000\n",
       "75%      1351.750000\n",
       "max      1839.000000\n",
       "dtype: float64"
      ]
     },
     "execution_count": 24,
     "metadata": {},
     "output_type": "execute_result"
    }
   ],
   "source": [
    "final.describe()"
   ]
  },
  {
   "cell_type": "code",
   "execution_count": 25,
   "metadata": {},
   "outputs": [
    {
     "data": {
      "image/png": "[encoded data removed]",
      "text/plain": [
       "<matplotlib.figure.Figure at 0x2acfcaa77518>"
      ]
     },
     "metadata": {},
     "output_type": "display_data"
    }
   ],
   "source": [
    "final.hist()\n",
    "plt.savefig('{}/final.pdf'.format(plot_dir))"
   ]
  },
  {
   "cell_type": "markdown",
   "metadata": {},
   "source": [
    "## Saving Weights"
   ]
  },
  {
   "cell_type": "code",
   "execution_count": 26,
   "metadata": {},
   "outputs": [],
   "source": [
    "agent.model.save_weights('{}/weights.h5'.format(exp_directory), overwrite=True)"
   ]
  },
  {
   "cell_type": "markdown",
   "metadata": {},
   "source": [
    " "
   ]
  }
 ],
 "metadata": {
  "kernelspec": {
   "display_name": "Python 3.6 [python/3.6 cuda/8.0.44]",
   "language": "python",
   "name": "python36"
  },
  "language_info": {
   "codemirror_mode": {
    "name": "ipython",
    "version": 3
   },
   "file_extension": ".py",
   "mimetype": "text/x-python",
   "name": "python",
   "nbconvert_exporter": "python",
   "pygments_lexer": "ipython3",
   "version": "3.6.3"
  }
 },
 "nbformat": 4,
 "nbformat_minor": 2
}
