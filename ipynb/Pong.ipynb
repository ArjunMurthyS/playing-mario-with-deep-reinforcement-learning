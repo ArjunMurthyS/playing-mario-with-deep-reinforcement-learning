{
 "cells": [
  {
   "cell_type": "code",
   "execution_count": 1,
   "metadata": {},
   "outputs": [],
   "source": [
    "import os\n",
    "os.environ['PATH'] += ':ffmpeg-3.4.2-64bit-static'"
   ]
  },
  {
   "cell_type": "markdown",
   "metadata": {},
   "source": [
    "# Setup"
   ]
  },
  {
   "cell_type": "code",
   "execution_count": 2,
   "metadata": {},
   "outputs": [],
   "source": [
    "exp_directory = 'results'\n",
    "agent_name = 'DeepQAgent'\n",
    "game_name = 'Pong'\n",
    "render_mode='rgb_array'"
   ]
  },
  {
   "cell_type": "markdown",
   "metadata": {},
   "source": [
    "### Global Modules"
   ]
  },
  {
   "cell_type": "code",
   "execution_count": 3,
   "metadata": {},
   "outputs": [],
   "source": [
    "import os\n",
    "import datetime\n",
    "import pandas as pd\n",
    "from matplotlib import pyplot as plt\n",
    "%matplotlib inline\n",
    "from gym.wrappers import Monitor"
   ]
  },
  {
   "cell_type": "markdown",
   "metadata": {},
   "source": [
    "### Local Modules"
   ]
  },
  {
   "cell_type": "code",
   "execution_count": 4,
   "metadata": {},
   "outputs": [
    {
     "name": "stderr",
     "output_type": "stream",
     "text": [
      "/usr/local/anaconda5/lib/python3.6/site-packages/h5py/__init__.py:34: FutureWarning: Conversion of the second argument of issubdtype from `float` to `np.floating` is deprecated. In future, it will be treated as `np.float64 == np.dtype(float).type`.\n",
      "  from ._conv import register_converters as _register_converters\n",
      "Using TensorFlow backend.\n",
      "/usr/local/anaconda5/lib/python3.6/importlib/_bootstrap.py:219: RuntimeWarning: compiletime version 3.5 of module 'tensorflow.python.framework.fast_tensor_util' does not match runtime version 3.6\n",
      "  return f(*args, **kwds)\n"
     ]
    }
   ],
   "source": [
    "import base\n",
    "from src.agents import DeepQAgent, A3CAgent\n",
    "from src.util import BaseCallback, JupyterCallback\n",
    "from src.environment.atari import build_atari_environment"
   ]
  },
  {
   "cell_type": "markdown",
   "metadata": {},
   "source": [
    "## Constants"
   ]
  },
  {
   "cell_type": "code",
   "execution_count": 5,
   "metadata": {},
   "outputs": [],
   "source": [
    "agents = {\n",
    "    DeepQAgent.__name__: DeepQAgent,\n",
    "    A3CAgent.__name__: A3CAgent,\n",
    "}"
   ]
  },
  {
   "cell_type": "markdown",
   "metadata": {},
   "source": [
    "#### Output Directory"
   ]
  },
  {
   "cell_type": "code",
   "execution_count": 6,
   "metadata": {},
   "outputs": [
    {
     "data": {
      "text/plain": [
       "'results/Pong/DeepQAgent/2018-04-16_01-56'"
      ]
     },
     "execution_count": 6,
     "metadata": {},
     "output_type": "execute_result"
    }
   ],
   "source": [
    "# setup the experiment directory\n",
    "now = datetime.datetime.today().strftime('%Y-%m-%d_%H-%M')\n",
    "exp_directory = '{}/{}/{}/{}'.format(exp_directory, game_name, agent_name, now)\n",
    "if not os.path.exists(exp_directory):\n",
    "    os.makedirs(exp_directory)\n",
    "exp_directory"
   ]
  },
  {
   "cell_type": "code",
   "execution_count": 7,
   "metadata": {},
   "outputs": [
    {
     "data": {
      "text/plain": [
       "'results/Pong/DeepQAgent/2018-04-16_01-56/plots'"
      ]
     },
     "execution_count": 7,
     "metadata": {},
     "output_type": "execute_result"
    }
   ],
   "source": [
    "plot_dir = '{}/plots'.format(exp_directory)\n",
    "if not os.path.exists(plot_dir):\n",
    "    os.makedirs(plot_dir)\n",
    "plot_dir"
   ]
  },
  {
   "cell_type": "markdown",
   "metadata": {},
   "source": [
    "# Environment"
   ]
  },
  {
   "cell_type": "code",
   "execution_count": 8,
   "metadata": {},
   "outputs": [],
   "source": [
    "env = build_atari_environment(game_name)\n",
    "env = Monitor(env, '{}/monitor'.format(exp_directory), force=True)"
   ]
  },
  {
   "cell_type": "code",
   "execution_count": 9,
   "metadata": {},
   "outputs": [
    {
     "data": {
      "text/plain": [
       "Box(84, 84, 4)"
      ]
     },
     "execution_count": 9,
     "metadata": {},
     "output_type": "execute_result"
    }
   ],
   "source": [
    "env.observation_space"
   ]
  },
  {
   "cell_type": "code",
   "execution_count": 10,
   "metadata": {},
   "outputs": [
    {
     "data": {
      "text/plain": [
       "Discrete(6)"
      ]
     },
     "execution_count": 10,
     "metadata": {},
     "output_type": "execute_result"
    }
   ],
   "source": [
    "env.action_space"
   ]
  },
  {
   "cell_type": "markdown",
   "metadata": {},
   "source": [
    "# Agent"
   ]
  },
  {
   "cell_type": "code",
   "execution_count": 11,
   "metadata": {
    "scrolled": true
   },
   "outputs": [
    {
     "data": {
      "text/plain": [
       "DeepQAgent(\n",
       "    env=<Monitor<FrameStackEnv<ClipRewardEnv<PenalizeDeathEnv<DownsampleEnv<FireResetEnv<MaxFrameskipEnv<NoopResetEnv<TimeLimit<AtariEnv<PongNoFrameskip-v4>>>>>>>>>>>,\n",
       "    render_mode='rgb_array'\n",
       "    replay_memory_size=1000000,\n",
       "    discount_factor=0.99,\n",
       "    update_frequency=4,\n",
       "    optimizer=<keras.optimizers.Adam object at 0x2b186e9fd1d0>,\n",
       "    exploration_rate=AnnealingVariable(initial_value=1.0, final_value=0.1, steps=1000000),\n",
       "    loss=huber_loss,\n",
       "    target_update_freq=10000,\n",
       "    dueling_network=True\n",
       ")"
      ]
     },
     "execution_count": 11,
     "metadata": {},
     "output_type": "execute_result"
    }
   ],
   "source": [
    "agent = agents[agent_name](env, render_mode=render_mode)\n",
    "agent"
   ]
  },
  {
   "cell_type": "code",
   "execution_count": 12,
   "metadata": {},
   "outputs": [],
   "source": [
    "# write some info about the agent to disk\n",
    "with open('{}/agent.py'.format(exp_directory), 'w') as agent_file:\n",
    "    agent_file.write(repr(agent))"
   ]
  },
  {
   "cell_type": "markdown",
   "metadata": {},
   "source": [
    "## Initial"
   ]
  },
  {
   "cell_type": "code",
   "execution_count": 13,
   "metadata": {
    "scrolled": true
   },
   "outputs": [
    {
     "name": "stderr",
     "output_type": "stream",
     "text": [
      "100%|██████████| 100/100 [03:53<00:00,  2.34s/game]\n"
     ]
    },
    {
     "data": {
      "text/plain": [
       "0    -21.0\n",
       "1    -21.0\n",
       "2    -21.0\n",
       "3    -21.0\n",
       "4    -21.0\n",
       "5    -21.0\n",
       "6    -21.0\n",
       "7    -21.0\n",
       "8    -21.0\n",
       "9    -21.0\n",
       "10   -21.0\n",
       "11   -21.0\n",
       "12   -21.0\n",
       "13   -21.0\n",
       "14   -21.0\n",
       "15   -21.0\n",
       "16   -21.0\n",
       "17   -21.0\n",
       "18   -21.0\n",
       "19   -21.0\n",
       "20   -21.0\n",
       "21   -21.0\n",
       "22   -21.0\n",
       "23   -21.0\n",
       "24   -21.0\n",
       "25   -21.0\n",
       "26   -21.0\n",
       "27   -21.0\n",
       "28   -21.0\n",
       "29   -21.0\n",
       "      ... \n",
       "70   -21.0\n",
       "71   -21.0\n",
       "72   -21.0\n",
       "73   -21.0\n",
       "74   -21.0\n",
       "75   -21.0\n",
       "76   -21.0\n",
       "77   -21.0\n",
       "78   -21.0\n",
       "79   -21.0\n",
       "80   -21.0\n",
       "81   -21.0\n",
       "82   -21.0\n",
       "83   -21.0\n",
       "84   -21.0\n",
       "85   -21.0\n",
       "86   -21.0\n",
       "87   -21.0\n",
       "88   -21.0\n",
       "89   -21.0\n",
       "90   -21.0\n",
       "91   -21.0\n",
       "92   -21.0\n",
       "93   -21.0\n",
       "94   -21.0\n",
       "95   -21.0\n",
       "96   -21.0\n",
       "97   -21.0\n",
       "98   -21.0\n",
       "99   -21.0\n",
       "Length: 100, dtype: float64"
      ]
     },
     "execution_count": 13,
     "metadata": {},
     "output_type": "execute_result"
    }
   ],
   "source": [
    "initial = agent.play()\n",
    "initial = pd.Series(initial)\n",
    "initial"
   ]
  },
  {
   "cell_type": "code",
   "execution_count": 14,
   "metadata": {},
   "outputs": [],
   "source": [
    "initial.to_csv('{}/initial.csv'.format(exp_directory))"
   ]
  },
  {
   "cell_type": "code",
   "execution_count": 15,
   "metadata": {},
   "outputs": [
    {
     "data": {
      "text/plain": [
       "count    100.0\n",
       "mean     -21.0\n",
       "std        0.0\n",
       "min      -21.0\n",
       "25%      -21.0\n",
       "50%      -21.0\n",
       "75%      -21.0\n",
       "max      -21.0\n",
       "dtype: float64"
      ]
     },
     "execution_count": 15,
     "metadata": {},
     "output_type": "execute_result"
    }
   ],
   "source": [
    "initial.describe()"
   ]
  },
  {
   "cell_type": "code",
   "execution_count": 16,
   "metadata": {},
   "outputs": [
    {
     "data": {
      "image/png": "[encoded data removed]",
      "text/plain": [
       "<matplotlib.figure.Figure at 0x2b193e9235c0>"
      ]
     },
     "metadata": {},
     "output_type": "display_data"
    }
   ],
   "source": [
    "initial.hist()\n",
    "plt.savefig('{}/initial.pdf'.format(plot_dir))"
   ]
  },
  {
   "cell_type": "markdown",
   "metadata": {},
   "source": [
    "## Training"
   ]
  },
  {
   "cell_type": "code",
   "execution_count": 17,
   "metadata": {},
   "outputs": [
    {
     "name": "stderr",
     "output_type": "stream",
     "text": [
      "50437frame [00:54, 919.58frame/s]                        \n"
     ]
    }
   ],
   "source": [
    "agent.observe()"
   ]
  },
  {
   "cell_type": "code",
   "execution_count": 18,
   "metadata": {},
   "outputs": [],
   "source": [
    "callback = BaseCallback()"
   ]
  },
  {
   "cell_type": "code",
   "execution_count": 19,
   "metadata": {
    "scrolled": false
   },
   "outputs": [
    {
     "name": "stderr",
     "output_type": "stream",
     "text": [
      " 98%|█████████▊| 9840098/10000000 [17:13:04<17:04, 156.01frame/s, loss=0.0692, score=20]   "
     ]
    },
    {
     "ename": "KeyboardInterrupt",
     "evalue": "",
     "output_type": "error",
     "traceback": [
      "\u001b[0;31m---------------------------------------------------------------------------\u001b[0m",
      "\u001b[0;31mKeyboardInterrupt\u001b[0m                         Traceback (most recent call last)",
      "\u001b[0;32m<ipython-input-19-96c0cc5757b8>\u001b[0m in \u001b[0;36m<module>\u001b[0;34m()\u001b[0m\n\u001b[0;32m----> 1\u001b[0;31m \u001b[0magent\u001b[0m\u001b[0;34m.\u001b[0m\u001b[0mtrain\u001b[0m\u001b[0;34m(\u001b[0m\u001b[0mcallback\u001b[0m\u001b[0;34m=\u001b[0m\u001b[0mcallback\u001b[0m\u001b[0;34m)\u001b[0m\u001b[0;34m\u001b[0m\u001b[0m\n\u001b[0m",
      "\u001b[0;32m~/deep-learning-project/src/agents/deep_q_agent.py\u001b[0m in \u001b[0;36mtrain\u001b[0;34m(self, frames_to_play, batch_size, callback)\u001b[0m\n\u001b[1;32m    255\u001b[0m             \u001b[0;32mwhile\u001b[0m \u001b[0;32mnot\u001b[0m \u001b[0mdone\u001b[0m\u001b[0;34m:\u001b[0m\u001b[0;34m\u001b[0m\u001b[0m\n\u001b[1;32m    256\u001b[0m                 \u001b[0;31m# predict the best action based on the current state\u001b[0m\u001b[0;34m\u001b[0m\u001b[0;34m\u001b[0m\u001b[0m\n\u001b[0;32m--> 257\u001b[0;31m                 \u001b[0maction\u001b[0m \u001b[0;34m=\u001b[0m \u001b[0mself\u001b[0m\u001b[0;34m.\u001b[0m\u001b[0mpredict_action\u001b[0m\u001b[0;34m(\u001b[0m\u001b[0mstate\u001b[0m\u001b[0;34m,\u001b[0m \u001b[0mself\u001b[0m\u001b[0;34m.\u001b[0m\u001b[0mexploration_rate\u001b[0m\u001b[0;34m.\u001b[0m\u001b[0mvalue\u001b[0m\u001b[0;34m)\u001b[0m\u001b[0;34m\u001b[0m\u001b[0m\n\u001b[0m\u001b[1;32m    258\u001b[0m                 \u001b[0;31m# step the exploration rate forward\u001b[0m\u001b[0;34m\u001b[0m\u001b[0;34m\u001b[0m\u001b[0m\n\u001b[1;32m    259\u001b[0m                 \u001b[0mself\u001b[0m\u001b[0;34m.\u001b[0m\u001b[0mexploration_rate\u001b[0m\u001b[0;34m.\u001b[0m\u001b[0mstep\u001b[0m\u001b[0;34m(\u001b[0m\u001b[0;34m)\u001b[0m\u001b[0;34m\u001b[0m\u001b[0m\n",
      "\u001b[0;32m~/deep-learning-project/src/agents/deep_q_agent.py\u001b[0m in \u001b[0;36mpredict_action\u001b[0;34m(self, frames, exploration_rate)\u001b[0m\n\u001b[1;32m    218\u001b[0m             \u001b[0mframes\u001b[0m \u001b[0;34m=\u001b[0m \u001b[0mframes\u001b[0m\u001b[0;34m[\u001b[0m\u001b[0mnp\u001b[0m\u001b[0;34m.\u001b[0m\u001b[0mnewaxis\u001b[0m\u001b[0;34m,\u001b[0m \u001b[0;34m:\u001b[0m\u001b[0;34m,\u001b[0m \u001b[0;34m:\u001b[0m\u001b[0;34m,\u001b[0m \u001b[0;34m:\u001b[0m\u001b[0;34m]\u001b[0m\u001b[0;34m\u001b[0m\u001b[0m\n\u001b[1;32m    219\u001b[0m             \u001b[0;31m# predict the values of each action\u001b[0m\u001b[0;34m\u001b[0m\u001b[0;34m\u001b[0m\u001b[0m\n\u001b[0;32m--> 220\u001b[0;31m             \u001b[0mactions\u001b[0m \u001b[0;34m=\u001b[0m \u001b[0mself\u001b[0m\u001b[0;34m.\u001b[0m\u001b[0mmodel\u001b[0m\u001b[0;34m.\u001b[0m\u001b[0mpredict\u001b[0m\u001b[0;34m(\u001b[0m\u001b[0;34m[\u001b[0m\u001b[0mframes\u001b[0m\u001b[0;34m,\u001b[0m \u001b[0mself\u001b[0m\u001b[0;34m.\u001b[0m\u001b[0mpredict_mask\u001b[0m\u001b[0;34m]\u001b[0m\u001b[0;34m,\u001b[0m \u001b[0mbatch_size\u001b[0m\u001b[0;34m=\u001b[0m\u001b[0;36m1\u001b[0m\u001b[0;34m)\u001b[0m\u001b[0;34m\u001b[0m\u001b[0m\n\u001b[0m\u001b[1;32m    221\u001b[0m             \u001b[0;31m# return the action with the highest estimated future reward\u001b[0m\u001b[0;34m\u001b[0m\u001b[0;34m\u001b[0m\u001b[0m\n\u001b[1;32m    222\u001b[0m             \u001b[0;32mreturn\u001b[0m \u001b[0mnp\u001b[0m\u001b[0;34m.\u001b[0m\u001b[0margmax\u001b[0m\u001b[0;34m(\u001b[0m\u001b[0mactions\u001b[0m\u001b[0;34m)\u001b[0m\u001b[0;34m\u001b[0m\u001b[0m\n",
      "\u001b[0;32m~/.local/lib/python3.6/site-packages/keras/engine/training.py\u001b[0m in \u001b[0;36mpredict\u001b[0;34m(self, x, batch_size, verbose, steps)\u001b[0m\n\u001b[1;32m   1798\u001b[0m         \u001b[0mf\u001b[0m \u001b[0;34m=\u001b[0m \u001b[0mself\u001b[0m\u001b[0;34m.\u001b[0m\u001b[0mpredict_function\u001b[0m\u001b[0;34m\u001b[0m\u001b[0m\n\u001b[1;32m   1799\u001b[0m         return self._predict_loop(f, ins, batch_size=batch_size,\n\u001b[0;32m-> 1800\u001b[0;31m                                   verbose=verbose, steps=steps)\n\u001b[0m\u001b[1;32m   1801\u001b[0m \u001b[0;34m\u001b[0m\u001b[0m\n\u001b[1;32m   1802\u001b[0m     def train_on_batch(self, x, y,\n",
      "\u001b[0;32m~/.local/lib/python3.6/site-packages/keras/engine/training.py\u001b[0m in \u001b[0;36m_predict_loop\u001b[0;34m(self, f, ins, batch_size, verbose, steps)\u001b[0m\n\u001b[1;32m   1299\u001b[0m                     \u001b[0mins_batch\u001b[0m\u001b[0;34m[\u001b[0m\u001b[0mi\u001b[0m\u001b[0;34m]\u001b[0m \u001b[0;34m=\u001b[0m \u001b[0mins_batch\u001b[0m\u001b[0;34m[\u001b[0m\u001b[0mi\u001b[0m\u001b[0;34m]\u001b[0m\u001b[0;34m.\u001b[0m\u001b[0mtoarray\u001b[0m\u001b[0;34m(\u001b[0m\u001b[0;34m)\u001b[0m\u001b[0;34m\u001b[0m\u001b[0m\n\u001b[1;32m   1300\u001b[0m \u001b[0;34m\u001b[0m\u001b[0m\n\u001b[0;32m-> 1301\u001b[0;31m                 \u001b[0mbatch_outs\u001b[0m \u001b[0;34m=\u001b[0m \u001b[0mf\u001b[0m\u001b[0;34m(\u001b[0m\u001b[0mins_batch\u001b[0m\u001b[0;34m)\u001b[0m\u001b[0;34m\u001b[0m\u001b[0m\n\u001b[0m\u001b[1;32m   1302\u001b[0m                 \u001b[0;32mif\u001b[0m \u001b[0;32mnot\u001b[0m \u001b[0misinstance\u001b[0m\u001b[0;34m(\u001b[0m\u001b[0mbatch_outs\u001b[0m\u001b[0;34m,\u001b[0m \u001b[0mlist\u001b[0m\u001b[0;34m)\u001b[0m\u001b[0;34m:\u001b[0m\u001b[0;34m\u001b[0m\u001b[0m\n\u001b[1;32m   1303\u001b[0m                     \u001b[0mbatch_outs\u001b[0m \u001b[0;34m=\u001b[0m \u001b[0;34m[\u001b[0m\u001b[0mbatch_outs\u001b[0m\u001b[0;34m]\u001b[0m\u001b[0;34m\u001b[0m\u001b[0m\n",
      "\u001b[0;32m~/.local/lib/python3.6/site-packages/keras/backend/tensorflow_backend.py\u001b[0m in \u001b[0;36m__call__\u001b[0;34m(self, inputs)\u001b[0m\n\u001b[1;32m   2473\u001b[0m         \u001b[0msession\u001b[0m \u001b[0;34m=\u001b[0m \u001b[0mget_session\u001b[0m\u001b[0;34m(\u001b[0m\u001b[0;34m)\u001b[0m\u001b[0;34m\u001b[0m\u001b[0m\n\u001b[1;32m   2474\u001b[0m         updated = session.run(fetches=fetches, feed_dict=feed_dict,\n\u001b[0;32m-> 2475\u001b[0;31m                               **self.session_kwargs)\n\u001b[0m\u001b[1;32m   2476\u001b[0m         \u001b[0;32mreturn\u001b[0m \u001b[0mupdated\u001b[0m\u001b[0;34m[\u001b[0m\u001b[0;34m:\u001b[0m\u001b[0mlen\u001b[0m\u001b[0;34m(\u001b[0m\u001b[0mself\u001b[0m\u001b[0;34m.\u001b[0m\u001b[0moutputs\u001b[0m\u001b[0;34m)\u001b[0m\u001b[0;34m]\u001b[0m\u001b[0;34m\u001b[0m\u001b[0m\n\u001b[1;32m   2477\u001b[0m \u001b[0;34m\u001b[0m\u001b[0m\n",
      "\u001b[0;32m~/.local/lib/python3.6/site-packages/tensorflow/python/client/session.py\u001b[0m in \u001b[0;36mrun\u001b[0;34m(self, fetches, feed_dict, options, run_metadata)\u001b[0m\n\u001b[1;32m    887\u001b[0m     \u001b[0;32mtry\u001b[0m\u001b[0;34m:\u001b[0m\u001b[0;34m\u001b[0m\u001b[0m\n\u001b[1;32m    888\u001b[0m       result = self._run(None, fetches, feed_dict, options_ptr,\n\u001b[0;32m--> 889\u001b[0;31m                          run_metadata_ptr)\n\u001b[0m\u001b[1;32m    890\u001b[0m       \u001b[0;32mif\u001b[0m \u001b[0mrun_metadata\u001b[0m\u001b[0;34m:\u001b[0m\u001b[0;34m\u001b[0m\u001b[0m\n\u001b[1;32m    891\u001b[0m         \u001b[0mproto_data\u001b[0m \u001b[0;34m=\u001b[0m \u001b[0mtf_session\u001b[0m\u001b[0;34m.\u001b[0m\u001b[0mTF_GetBuffer\u001b[0m\u001b[0;34m(\u001b[0m\u001b[0mrun_metadata_ptr\u001b[0m\u001b[0;34m)\u001b[0m\u001b[0;34m\u001b[0m\u001b[0m\n",
      "\u001b[0;32m~/.local/lib/python3.6/site-packages/tensorflow/python/client/session.py\u001b[0m in \u001b[0;36m_run\u001b[0;34m(self, handle, fetches, feed_dict, options, run_metadata)\u001b[0m\n\u001b[1;32m   1118\u001b[0m     \u001b[0;32mif\u001b[0m \u001b[0mfinal_fetches\u001b[0m \u001b[0;32mor\u001b[0m \u001b[0mfinal_targets\u001b[0m \u001b[0;32mor\u001b[0m \u001b[0;34m(\u001b[0m\u001b[0mhandle\u001b[0m \u001b[0;32mand\u001b[0m \u001b[0mfeed_dict_tensor\u001b[0m\u001b[0;34m)\u001b[0m\u001b[0;34m:\u001b[0m\u001b[0;34m\u001b[0m\u001b[0m\n\u001b[1;32m   1119\u001b[0m       results = self._do_run(handle, final_targets, final_fetches,\n\u001b[0;32m-> 1120\u001b[0;31m                              feed_dict_tensor, options, run_metadata)\n\u001b[0m\u001b[1;32m   1121\u001b[0m     \u001b[0;32melse\u001b[0m\u001b[0;34m:\u001b[0m\u001b[0;34m\u001b[0m\u001b[0m\n\u001b[1;32m   1122\u001b[0m       \u001b[0mresults\u001b[0m \u001b[0;34m=\u001b[0m \u001b[0;34m[\u001b[0m\u001b[0;34m]\u001b[0m\u001b[0;34m\u001b[0m\u001b[0m\n",
      "\u001b[0;32m~/.local/lib/python3.6/site-packages/tensorflow/python/client/session.py\u001b[0m in \u001b[0;36m_do_run\u001b[0;34m(self, handle, target_list, fetch_list, feed_dict, options, run_metadata)\u001b[0m\n\u001b[1;32m   1315\u001b[0m     \u001b[0;32mif\u001b[0m \u001b[0mhandle\u001b[0m \u001b[0;32mis\u001b[0m \u001b[0;32mNone\u001b[0m\u001b[0;34m:\u001b[0m\u001b[0;34m\u001b[0m\u001b[0m\n\u001b[1;32m   1316\u001b[0m       return self._do_call(_run_fn, self._session, feeds, fetches, targets,\n\u001b[0;32m-> 1317\u001b[0;31m                            options, run_metadata)\n\u001b[0m\u001b[1;32m   1318\u001b[0m     \u001b[0;32melse\u001b[0m\u001b[0;34m:\u001b[0m\u001b[0;34m\u001b[0m\u001b[0m\n\u001b[1;32m   1319\u001b[0m       \u001b[0;32mreturn\u001b[0m \u001b[0mself\u001b[0m\u001b[0;34m.\u001b[0m\u001b[0m_do_call\u001b[0m\u001b[0;34m(\u001b[0m\u001b[0m_prun_fn\u001b[0m\u001b[0;34m,\u001b[0m \u001b[0mself\u001b[0m\u001b[0;34m.\u001b[0m\u001b[0m_session\u001b[0m\u001b[0;34m,\u001b[0m \u001b[0mhandle\u001b[0m\u001b[0;34m,\u001b[0m \u001b[0mfeeds\u001b[0m\u001b[0;34m,\u001b[0m \u001b[0mfetches\u001b[0m\u001b[0;34m)\u001b[0m\u001b[0;34m\u001b[0m\u001b[0m\n",
      "\u001b[0;32m~/.local/lib/python3.6/site-packages/tensorflow/python/client/session.py\u001b[0m in \u001b[0;36m_do_call\u001b[0;34m(self, fn, *args)\u001b[0m\n\u001b[1;32m   1321\u001b[0m   \u001b[0;32mdef\u001b[0m \u001b[0m_do_call\u001b[0m\u001b[0;34m(\u001b[0m\u001b[0mself\u001b[0m\u001b[0;34m,\u001b[0m \u001b[0mfn\u001b[0m\u001b[0;34m,\u001b[0m \u001b[0;34m*\u001b[0m\u001b[0margs\u001b[0m\u001b[0;34m)\u001b[0m\u001b[0;34m:\u001b[0m\u001b[0;34m\u001b[0m\u001b[0m\n\u001b[1;32m   1322\u001b[0m     \u001b[0;32mtry\u001b[0m\u001b[0;34m:\u001b[0m\u001b[0;34m\u001b[0m\u001b[0m\n\u001b[0;32m-> 1323\u001b[0;31m       \u001b[0;32mreturn\u001b[0m \u001b[0mfn\u001b[0m\u001b[0;34m(\u001b[0m\u001b[0;34m*\u001b[0m\u001b[0margs\u001b[0m\u001b[0;34m)\u001b[0m\u001b[0;34m\u001b[0m\u001b[0m\n\u001b[0m\u001b[1;32m   1324\u001b[0m     \u001b[0;32mexcept\u001b[0m \u001b[0merrors\u001b[0m\u001b[0;34m.\u001b[0m\u001b[0mOpError\u001b[0m \u001b[0;32mas\u001b[0m \u001b[0me\u001b[0m\u001b[0;34m:\u001b[0m\u001b[0;34m\u001b[0m\u001b[0m\n\u001b[1;32m   1325\u001b[0m       \u001b[0mmessage\u001b[0m \u001b[0;34m=\u001b[0m \u001b[0mcompat\u001b[0m\u001b[0;34m.\u001b[0m\u001b[0mas_text\u001b[0m\u001b[0;34m(\u001b[0m\u001b[0me\u001b[0m\u001b[0;34m.\u001b[0m\u001b[0mmessage\u001b[0m\u001b[0;34m)\u001b[0m\u001b[0;34m\u001b[0m\u001b[0m\n",
      "\u001b[0;32m~/.local/lib/python3.6/site-packages/tensorflow/python/client/session.py\u001b[0m in \u001b[0;36m_run_fn\u001b[0;34m(session, feed_dict, fetch_list, target_list, options, run_metadata)\u001b[0m\n\u001b[1;32m   1300\u001b[0m           return tf_session.TF_Run(session, options,\n\u001b[1;32m   1301\u001b[0m                                    \u001b[0mfeed_dict\u001b[0m\u001b[0;34m,\u001b[0m \u001b[0mfetch_list\u001b[0m\u001b[0;34m,\u001b[0m \u001b[0mtarget_list\u001b[0m\u001b[0;34m,\u001b[0m\u001b[0;34m\u001b[0m\u001b[0m\n\u001b[0;32m-> 1302\u001b[0;31m                                    status, run_metadata)\n\u001b[0m\u001b[1;32m   1303\u001b[0m \u001b[0;34m\u001b[0m\u001b[0m\n\u001b[1;32m   1304\u001b[0m     \u001b[0;32mdef\u001b[0m \u001b[0m_prun_fn\u001b[0m\u001b[0;34m(\u001b[0m\u001b[0msession\u001b[0m\u001b[0;34m,\u001b[0m \u001b[0mhandle\u001b[0m\u001b[0;34m,\u001b[0m \u001b[0mfeed_dict\u001b[0m\u001b[0;34m,\u001b[0m \u001b[0mfetch_list\u001b[0m\u001b[0;34m)\u001b[0m\u001b[0;34m:\u001b[0m\u001b[0;34m\u001b[0m\u001b[0m\n",
      "\u001b[0;31mKeyboardInterrupt\u001b[0m: "
     ]
    }
   ],
   "source": [
    "agent.train(callback=callback)"
   ]
  },
  {
   "cell_type": "code",
   "execution_count": 20,
   "metadata": {},
   "outputs": [],
   "source": [
    "# save the training results\n",
    "scores = pd.Series(callback.scores)\n",
    "scores.to_csv('{}/scores.csv'.format(exp_directory))\n",
    "losses = pd.Series(callback.losses)\n",
    "losses.to_csv('{}/losses.csv'.format(exp_directory))"
   ]
  },
  {
   "cell_type": "code",
   "execution_count": 21,
   "metadata": {},
   "outputs": [
    {
     "data": {
      "image/png": "[encoded data removed]",
      "text/plain": [
       "<matplotlib.figure.Figure at 0x2b24a829e908>"
      ]
     },
     "metadata": {},
     "output_type": "display_data"
    }
   ],
   "source": [
    "train = pd.concat([scores, losses], axis=1)\n",
    "train.columns = ['Reward', 'Loss']\n",
    "train.index.name = 'Episode'\n",
    "_ = train.plot(figsize=(12, 5), subplots=True)\n",
    "plt.savefig('{}/training.pdf'.format(plot_dir))"
   ]
  },
  {
   "cell_type": "markdown",
   "metadata": {},
   "source": [
    "## Final"
   ]
  },
  {
   "cell_type": "code",
   "execution_count": 23,
   "metadata": {
    "scrolled": true
   },
   "outputs": [
    {
     "name": "stderr",
     "output_type": "stream",
     "text": [
      "\n",
      "  0%|          | 0/100 [00:00<?, ?game/s]\u001b[A\n",
      "  1%|          | 1/100 [00:05<09:11,  5.57s/game]\u001b[A\n",
      "  2%|▏         | 2/100 [00:10<08:34,  5.25s/game]\u001b[A\n",
      "  3%|▎         | 3/100 [00:15<08:33,  5.30s/game]\u001b[A\n",
      "  4%|▍         | 4/100 [00:21<08:25,  5.27s/game]\u001b[A\n",
      "  5%|▌         | 5/100 [00:26<08:21,  5.28s/game]\u001b[A\n",
      "  6%|▌         | 6/100 [00:31<08:09,  5.21s/game]\u001b[A\n",
      "  7%|▋         | 7/100 [00:36<08:00,  5.17s/game]\u001b[A\n",
      "  8%|▊         | 8/100 [00:40<07:49,  5.10s/game]\u001b[A\n",
      "  9%|▉         | 9/100 [00:45<07:44,  5.11s/game]\u001b[A\n",
      " 10%|█         | 10/100 [00:51<07:47,  5.19s/game]\u001b[A\n",
      " 11%|█         | 11/100 [00:57<07:42,  5.19s/game]\u001b[A\n",
      " 12%|█▏        | 12/100 [01:01<07:32,  5.15s/game]\u001b[A\n",
      " 13%|█▎        | 13/100 [01:06<07:25,  5.12s/game]\u001b[A\n",
      " 14%|█▍        | 14/100 [01:11<07:18,  5.10s/game]\u001b[A\n",
      " 15%|█▌        | 15/100 [01:16<07:11,  5.07s/game]\u001b[A\n",
      " 16%|█▌        | 16/100 [01:20<07:02,  5.03s/game]\u001b[A\n",
      " 17%|█▋        | 17/100 [01:25<06:57,  5.03s/game]\u001b[A\n",
      " 18%|█▊        | 18/100 [01:30<06:52,  5.03s/game]\u001b[A\n",
      " 19%|█▉        | 19/100 [01:35<06:45,  5.01s/game]\u001b[A\n",
      " 20%|██        | 20/100 [01:40<06:42,  5.04s/game]\u001b[A\n",
      " 21%|██        | 21/100 [01:45<06:38,  5.04s/game]\u001b[A\n",
      " 22%|██▏       | 22/100 [01:50<06:31,  5.02s/game]\u001b[A\n",
      " 23%|██▎       | 23/100 [01:55<06:25,  5.01s/game]\u001b[A\n",
      " 24%|██▍       | 24/100 [02:00<06:20,  5.01s/game]\u001b[A\n",
      " 25%|██▌       | 25/100 [02:04<06:14,  4.99s/game]\u001b[A\n",
      " 26%|██▌       | 26/100 [02:09<06:08,  4.98s/game]\u001b[A\n",
      " 27%|██▋       | 27/100 [02:14<06:02,  4.97s/game]\u001b[A\n",
      " 28%|██▊       | 28/100 [02:19<05:57,  4.97s/game]\u001b[A\n",
      " 29%|██▉       | 29/100 [02:23<05:51,  4.96s/game]\u001b[A\n",
      " 30%|███       | 30/100 [02:28<05:46,  4.96s/game]\u001b[A\n",
      " 31%|███       | 31/100 [02:33<05:41,  4.95s/game]\u001b[A\n",
      " 32%|███▏      | 32/100 [02:38<05:35,  4.94s/game]\u001b[A\n",
      " 33%|███▎      | 33/100 [02:43<05:32,  4.96s/game]\u001b[A\n",
      " 34%|███▍      | 34/100 [02:48<05:26,  4.95s/game]\u001b[A\n",
      " 35%|███▌      | 35/100 [02:52<05:21,  4.94s/game]\u001b[A\n",
      " 36%|███▌      | 36/100 [02:57<05:15,  4.93s/game]\u001b[A\n",
      " 37%|███▋      | 37/100 [03:02<05:09,  4.92s/game]\u001b[A\n",
      " 38%|███▊      | 38/100 [03:06<05:04,  4.92s/game]\u001b[A\n",
      " 39%|███▉      | 39/100 [03:12<05:00,  4.92s/game]\u001b[A\n",
      " 40%|████      | 40/100 [03:17<04:55,  4.93s/game]\u001b[A\n",
      " 41%|████      | 41/100 [03:22<04:51,  4.94s/game]\u001b[A\n",
      " 42%|████▏     | 42/100 [03:27<04:45,  4.93s/game]\u001b[A\n",
      " 43%|████▎     | 43/100 [03:31<04:40,  4.92s/game]\u001b[A\n",
      " 44%|████▍     | 44/100 [03:36<04:35,  4.92s/game]\u001b[A\n",
      " 45%|████▌     | 45/100 [03:41<04:30,  4.92s/game]\u001b[A\n",
      " 46%|████▌     | 46/100 [03:46<04:25,  4.91s/game]\u001b[A\n",
      " 47%|████▋     | 47/100 [03:50<04:19,  4.90s/game]\u001b[A\n",
      " 48%|████▊     | 48/100 [03:55<04:14,  4.90s/game]\u001b[A\n",
      " 49%|████▉     | 49/100 [03:59<04:09,  4.89s/game]\u001b[A\n",
      " 50%|█████     | 50/100 [04:04<04:04,  4.89s/game]\u001b[A\n",
      " 51%|█████     | 51/100 [04:09<03:59,  4.89s/game]\u001b[A\n",
      " 52%|█████▏    | 52/100 [04:14<03:54,  4.90s/game]\u001b[A\n",
      " 53%|█████▎    | 53/100 [04:19<03:50,  4.90s/game]\u001b[A\n",
      " 54%|█████▍    | 54/100 [04:24<03:45,  4.90s/game]\u001b[A\n",
      " 55%|█████▌    | 55/100 [04:29<03:40,  4.90s/game]\u001b[A\n",
      " 56%|█████▌    | 56/100 [04:33<03:35,  4.89s/game]\u001b[A\n",
      " 57%|█████▋    | 57/100 [04:39<03:30,  4.91s/game]\u001b[A\n",
      " 58%|█████▊    | 58/100 [04:44<03:26,  4.91s/game]\u001b[A\n",
      " 59%|█████▉    | 59/100 [04:49<03:21,  4.91s/game]\u001b[A\n",
      " 60%|██████    | 60/100 [04:54<03:16,  4.91s/game]\u001b[A\n",
      " 61%|██████    | 61/100 [04:59<03:11,  4.90s/game]\u001b[A\n",
      " 62%|██████▏   | 62/100 [05:04<03:06,  4.91s/game]\u001b[A\n",
      " 63%|██████▎   | 63/100 [05:08<03:01,  4.90s/game]\u001b[A\n",
      " 64%|██████▍   | 64/100 [05:13<02:56,  4.90s/game]\u001b[A\n",
      " 65%|██████▌   | 65/100 [05:18<02:51,  4.90s/game]\u001b[A\n",
      " 66%|██████▌   | 66/100 [05:23<02:46,  4.89s/game]\u001b[A\n",
      " 67%|██████▋   | 67/100 [05:27<02:41,  4.90s/game]\u001b[A\n",
      " 68%|██████▊   | 68/100 [05:32<02:36,  4.89s/game]\u001b[A\n",
      " 69%|██████▉   | 69/100 [05:37<02:31,  4.89s/game]\u001b[A\n",
      " 70%|███████   | 70/100 [05:41<02:26,  4.88s/game]\u001b[A\n",
      " 71%|███████   | 71/100 [05:46<02:21,  4.88s/game]\u001b[A\n",
      " 72%|███████▏  | 72/100 [05:51<02:16,  4.88s/game]\u001b[A\n",
      " 73%|███████▎  | 73/100 [05:56<02:11,  4.88s/game]\u001b[A\n",
      " 74%|███████▍  | 74/100 [06:01<02:06,  4.88s/game]\u001b[A\n",
      " 75%|███████▌  | 75/100 [06:06<02:02,  4.88s/game]\u001b[A\n",
      " 76%|███████▌  | 76/100 [06:10<01:57,  4.88s/game]\u001b[A\n",
      " 77%|███████▋  | 77/100 [06:15<01:52,  4.88s/game]\u001b[A\n",
      " 78%|███████▊  | 78/100 [06:20<01:47,  4.87s/game]\u001b[A\n",
      " 79%|███████▉  | 79/100 [06:25<01:42,  4.88s/game]\u001b[A\n",
      " 80%|████████  | 80/100 [06:29<01:37,  4.87s/game]\u001b[A\n",
      " 81%|████████  | 81/100 [06:35<01:32,  4.88s/game]\u001b[A\n",
      " 82%|████████▏ | 82/100 [06:40<01:27,  4.88s/game]\u001b[A\n",
      " 83%|████████▎ | 83/100 [06:44<01:22,  4.88s/game]\u001b[A\n",
      " 84%|████████▍ | 84/100 [06:49<01:18,  4.88s/game]\u001b[A\n",
      " 85%|████████▌ | 85/100 [06:54<01:13,  4.88s/game]\u001b[A\n",
      " 86%|████████▌ | 86/100 [06:58<01:08,  4.87s/game]\u001b[A\n",
      " 87%|████████▋ | 87/100 [07:03<01:03,  4.87s/game]\u001b[A\n",
      " 88%|████████▊ | 88/100 [07:08<00:58,  4.87s/game]\u001b[A\n",
      " 89%|████████▉ | 89/100 [07:13<00:53,  4.87s/game]\u001b[A\n",
      " 90%|█████████ | 90/100 [07:18<00:48,  4.87s/game]\u001b[A\n",
      " 91%|█████████ | 91/100 [07:23<00:43,  4.87s/game]\u001b[A\n",
      " 92%|█████████▏| 92/100 [07:28<00:39,  4.88s/game]\u001b[A\n",
      " 93%|█████████▎| 93/100 [07:33<00:34,  4.88s/game]\u001b[A\n",
      " 94%|█████████▍| 94/100 [07:38<00:29,  4.88s/game]\u001b[A\n",
      " 95%|█████████▌| 95/100 [07:42<00:24,  4.87s/game]\u001b[A\n",
      " 96%|█████████▌| 96/100 [07:47<00:19,  4.87s/game]\u001b[A\n",
      " 97%|█████████▋| 97/100 [07:52<00:14,  4.87s/game]\u001b[A\n",
      " 98%|█████████▊| 98/100 [07:58<00:09,  4.88s/game]\u001b[A\n",
      " 99%|█████████▉| 99/100 [08:02<00:04,  4.87s/game]\u001b[A\n",
      "100%|██████████| 100/100 [08:06<00:00,  4.87s/game]\u001b[A\n",
      "\u001b[A"
     ]
    },
    {
     "data": {
      "text/plain": [
       "0     20.0\n",
       "1     20.0\n",
       "2     20.0\n",
       "3     19.0\n",
       "4     18.0\n",
       "5     21.0\n",
       "6     20.0\n",
       "7     21.0\n",
       "8     19.0\n",
       "9     15.0\n",
       "10    15.0\n",
       "11    20.0\n",
       "12    21.0\n",
       "13    20.0\n",
       "14    19.0\n",
       "15    21.0\n",
       "16    21.0\n",
       "17    17.0\n",
       "18    20.0\n",
       "19    17.0\n",
       "20    19.0\n",
       "21    20.0\n",
       "22    20.0\n",
       "23    20.0\n",
       "24    20.0\n",
       "25    21.0\n",
       "26    21.0\n",
       "27    20.0\n",
       "28    20.0\n",
       "29    20.0\n",
       "      ... \n",
       "70    18.0\n",
       "71    19.0\n",
       "72    19.0\n",
       "73    21.0\n",
       "74    20.0\n",
       "75    21.0\n",
       "76    20.0\n",
       "77    20.0\n",
       "78    21.0\n",
       "79    20.0\n",
       "80    17.0\n",
       "81    19.0\n",
       "82    19.0\n",
       "83    18.0\n",
       "84    19.0\n",
       "85    21.0\n",
       "86    18.0\n",
       "87    18.0\n",
       "88    19.0\n",
       "89    20.0\n",
       "90    20.0\n",
       "91    18.0\n",
       "92    19.0\n",
       "93    20.0\n",
       "94    20.0\n",
       "95    20.0\n",
       "96    19.0\n",
       "97    19.0\n",
       "98    20.0\n",
       "99    21.0\n",
       "Length: 100, dtype: float64"
      ]
     },
     "execution_count": 23,
     "metadata": {},
     "output_type": "execute_result"
    }
   ],
   "source": [
    "final = agent.play()\n",
    "final = pd.Series(final)\n",
    "final"
   ]
  },
  {
   "cell_type": "code",
   "execution_count": 24,
   "metadata": {},
   "outputs": [],
   "source": [
    "final.to_csv('{}/final.csv'.format(exp_directory))"
   ]
  },
  {
   "cell_type": "code",
   "execution_count": 25,
   "metadata": {},
   "outputs": [
    {
     "data": {
      "text/plain": [
       "count    100.000000\n",
       "mean      19.640000\n",
       "std        1.314411\n",
       "min       15.000000\n",
       "25%       19.000000\n",
       "50%       20.000000\n",
       "75%       21.000000\n",
       "max       21.000000\n",
       "dtype: float64"
      ]
     },
     "execution_count": 25,
     "metadata": {},
     "output_type": "execute_result"
    }
   ],
   "source": [
    "final.describe()"
   ]
  },
  {
   "cell_type": "code",
   "execution_count": 26,
   "metadata": {},
   "outputs": [
    {
     "data": {
      "image/png": "[encoded data removed]",
      "text/plain": [
       "<matplotlib.figure.Figure at 0x2b24a83a5f28>"
      ]
     },
     "metadata": {},
     "output_type": "display_data"
    }
   ],
   "source": [
    "final.hist()\n",
    "plt.savefig('{}/final.pdf'.format(plot_dir))"
   ]
  },
  {
   "cell_type": "markdown",
   "metadata": {},
   "source": [
    "## Saving Weights"
   ]
  },
  {
   "cell_type": "code",
   "execution_count": 27,
   "metadata": {},
   "outputs": [],
   "source": [
    "agent.model.save_weights('{}/weights.h5'.format(exp_directory), overwrite=True)"
   ]
  },
  {
   "cell_type": "markdown",
   "metadata": {},
   "source": [
    " "
   ]
  }
 ],
 "metadata": {
  "kernelspec": {
   "display_name": "Python 3.6 [python/3.6 cuda/8.0.44]",
   "language": "python",
   "name": "python36"
  }
 },
 "nbformat": 4,
 "nbformat_minor": 2
}
