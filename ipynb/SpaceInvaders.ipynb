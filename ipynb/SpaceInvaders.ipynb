{
 "cells": [
  {
   "cell_type": "code",
   "execution_count": 1,
   "metadata": {},
   "outputs": [],
   "source": [
    "import os\n",
    "os.environ['PATH'] += ':ffmpeg-3.4.2-64bit-static'"
   ]
  },
  {
   "cell_type": "markdown",
   "metadata": {},
   "source": [
    "# Setup"
   ]
  },
  {
   "cell_type": "code",
   "execution_count": 2,
   "metadata": {},
   "outputs": [],
   "source": [
    "exp_directory = 'results'\n",
    "agent_name = 'DeepQAgent'\n",
    "game_name = 'SpaceInvaders'\n",
    "render_mode='rgb_array'"
   ]
  },
  {
   "cell_type": "markdown",
   "metadata": {},
   "source": [
    "### Global Modules"
   ]
  },
  {
   "cell_type": "code",
   "execution_count": 3,
   "metadata": {},
   "outputs": [],
   "source": [
    "import os\n",
    "import datetime\n",
    "import pandas as pd\n",
    "from matplotlib import pyplot as plt\n",
    "%matplotlib inline\n",
    "from gym.wrappers import Monitor"
   ]
  },
  {
   "cell_type": "markdown",
   "metadata": {},
   "source": [
    "### Local Modules"
   ]
  },
  {
   "cell_type": "code",
   "execution_count": 4,
   "metadata": {},
   "outputs": [
    {
     "name": "stderr",
     "output_type": "stream",
     "text": [
      "/usr/local/anaconda5/lib/python3.6/site-packages/h5py/__init__.py:34: FutureWarning: Conversion of the second argument of issubdtype from `float` to `np.floating` is deprecated. In future, it will be treated as `np.float64 == np.dtype(float).type`.\n",
      "  from ._conv import register_converters as _register_converters\n",
      "Using TensorFlow backend.\n",
      "/usr/local/anaconda5/lib/python3.6/importlib/_bootstrap.py:219: RuntimeWarning: compiletime version 3.5 of module 'tensorflow.python.framework.fast_tensor_util' does not match runtime version 3.6\n",
      "  return f(*args, **kwds)\n"
     ]
    }
   ],
   "source": [
    "import base\n",
    "from src.agents import DeepQAgent, A3CAgent\n",
    "from src.util import BaseCallback, JupyterCallback\n",
    "from src.environment.atari import build_atari_environment"
   ]
  },
  {
   "cell_type": "markdown",
   "metadata": {},
   "source": [
    "## Constants"
   ]
  },
  {
   "cell_type": "code",
   "execution_count": 5,
   "metadata": {},
   "outputs": [],
   "source": [
    "agents = {\n",
    "    DeepQAgent.__name__: DeepQAgent,\n",
    "    A3CAgent.__name__: A3CAgent,\n",
    "}"
   ]
  },
  {
   "cell_type": "markdown",
   "metadata": {},
   "source": [
    "#### Output Directory"
   ]
  },
  {
   "cell_type": "code",
   "execution_count": 6,
   "metadata": {},
   "outputs": [
    {
     "data": {
      "text/plain": [
       "'results/SpaceInvaders/DeepQAgent/2018-04-16_01-56'"
      ]
     },
     "execution_count": 6,
     "metadata": {},
     "output_type": "execute_result"
    }
   ],
   "source": [
    "# setup the experiment directory\n",
    "now = datetime.datetime.today().strftime('%Y-%m-%d_%H-%M')\n",
    "exp_directory = '{}/{}/{}/{}'.format(exp_directory, game_name, agent_name, now)\n",
    "if not os.path.exists(exp_directory):\n",
    "    os.makedirs(exp_directory)\n",
    "exp_directory"
   ]
  },
  {
   "cell_type": "code",
   "execution_count": 7,
   "metadata": {},
   "outputs": [
    {
     "data": {
      "text/plain": [
       "'results/SpaceInvaders/DeepQAgent/2018-04-16_01-56/plots'"
      ]
     },
     "execution_count": 7,
     "metadata": {},
     "output_type": "execute_result"
    }
   ],
   "source": [
    "plot_dir = '{}/plots'.format(exp_directory)\n",
    "if not os.path.exists(plot_dir):\n",
    "    os.makedirs(plot_dir)\n",
    "plot_dir"
   ]
  },
  {
   "cell_type": "markdown",
   "metadata": {},
   "source": [
    "# Environment"
   ]
  },
  {
   "cell_type": "code",
   "execution_count": 8,
   "metadata": {},
   "outputs": [],
   "source": [
    "env = build_atari_environment(game_name)\n",
    "env = Monitor(env, '{}/monitor'.format(exp_directory), force=True)"
   ]
  },
  {
   "cell_type": "code",
   "execution_count": 9,
   "metadata": {},
   "outputs": [
    {
     "data": {
      "text/plain": [
       "Box(84, 84, 4)"
      ]
     },
     "execution_count": 9,
     "metadata": {},
     "output_type": "execute_result"
    }
   ],
   "source": [
    "env.observation_space"
   ]
  },
  {
   "cell_type": "code",
   "execution_count": 10,
   "metadata": {},
   "outputs": [
    {
     "data": {
      "text/plain": [
       "Discrete(6)"
      ]
     },
     "execution_count": 10,
     "metadata": {},
     "output_type": "execute_result"
    }
   ],
   "source": [
    "env.action_space"
   ]
  },
  {
   "cell_type": "markdown",
   "metadata": {},
   "source": [
    "# Agent"
   ]
  },
  {
   "cell_type": "code",
   "execution_count": 11,
   "metadata": {
    "scrolled": true
   },
   "outputs": [
    {
     "data": {
      "text/plain": [
       "DeepQAgent(\n",
       "    env=<Monitor<FrameStackEnv<ClipRewardEnv<PenalizeDeathEnv<DownsampleEnv<FireResetEnv<MaxFrameskipEnv<NoopResetEnv<TimeLimit<AtariEnv<SpaceInvadersNoFrameskip-v4>>>>>>>>>>>,\n",
       "    render_mode='rgb_array'\n",
       "    replay_memory_size=1000000,\n",
       "    discount_factor=0.99,\n",
       "    update_frequency=4,\n",
       "    optimizer=<keras.optimizers.Adam object at 0x2b8cc9a9e208>,\n",
       "    exploration_rate=AnnealingVariable(initial_value=1.0, final_value=0.1, steps=1000000),\n",
       "    loss=huber_loss,\n",
       "    target_update_freq=10000,\n",
       "    dueling_network=True\n",
       ")"
      ]
     },
     "execution_count": 11,
     "metadata": {},
     "output_type": "execute_result"
    }
   ],
   "source": [
    "agent = agents[agent_name](env, render_mode=render_mode)\n",
    "agent"
   ]
  },
  {
   "cell_type": "code",
   "execution_count": 12,
   "metadata": {},
   "outputs": [],
   "source": [
    "# write some info about the agent to disk\n",
    "with open('{}/agent.py'.format(exp_directory), 'w') as agent_file:\n",
    "    agent_file.write(repr(agent))"
   ]
  },
  {
   "cell_type": "markdown",
   "metadata": {},
   "source": [
    "## Initial"
   ]
  },
  {
   "cell_type": "code",
   "execution_count": 13,
   "metadata": {
    "scrolled": true
   },
   "outputs": [
    {
     "name": "stderr",
     "output_type": "stream",
     "text": [
      "100%|██████████| 100/100 [02:48<00:00,  1.69s/game]\n"
     ]
    },
    {
     "data": {
      "text/plain": [
       "0     -3.0\n",
       "1      2.0\n",
       "2      1.0\n",
       "3      0.0\n",
       "4     15.0\n",
       "5      2.0\n",
       "6      0.0\n",
       "7      7.0\n",
       "8      6.0\n",
       "9      5.0\n",
       "10    14.0\n",
       "11     5.0\n",
       "12    15.0\n",
       "13     6.0\n",
       "14     5.0\n",
       "15    10.0\n",
       "16     3.0\n",
       "17    13.0\n",
       "18     5.0\n",
       "19     6.0\n",
       "20     6.0\n",
       "21     5.0\n",
       "22     4.0\n",
       "23    14.0\n",
       "24     4.0\n",
       "25     5.0\n",
       "26     9.0\n",
       "27     9.0\n",
       "28     3.0\n",
       "29    13.0\n",
       "      ... \n",
       "70     9.0\n",
       "71     5.0\n",
       "72    -2.0\n",
       "73     8.0\n",
       "74     9.0\n",
       "75     6.0\n",
       "76     6.0\n",
       "77     6.0\n",
       "78    19.0\n",
       "79     1.0\n",
       "80     7.0\n",
       "81     3.0\n",
       "82    -1.0\n",
       "83    18.0\n",
       "84    13.0\n",
       "85     1.0\n",
       "86    10.0\n",
       "87    12.0\n",
       "88     3.0\n",
       "89    17.0\n",
       "90     0.0\n",
       "91     9.0\n",
       "92     6.0\n",
       "93     0.0\n",
       "94     2.0\n",
       "95     3.0\n",
       "96     2.0\n",
       "97    11.0\n",
       "98     3.0\n",
       "99    -3.0\n",
       "Length: 100, dtype: float64"
      ]
     },
     "execution_count": 13,
     "metadata": {},
     "output_type": "execute_result"
    }
   ],
   "source": [
    "initial = agent.play()\n",
    "initial = pd.Series(initial)\n",
    "initial"
   ]
  },
  {
   "cell_type": "code",
   "execution_count": 14,
   "metadata": {},
   "outputs": [],
   "source": [
    "initial.to_csv('{}/initial.csv'.format(exp_directory))"
   ]
  },
  {
   "cell_type": "code",
   "execution_count": 15,
   "metadata": {},
   "outputs": [
    {
     "data": {
      "text/plain": [
       "count    100.000000\n",
       "mean       6.890000\n",
       "std        5.635198\n",
       "min       -3.000000\n",
       "25%        2.750000\n",
       "50%        6.000000\n",
       "75%       10.250000\n",
       "max       23.000000\n",
       "dtype: float64"
      ]
     },
     "execution_count": 15,
     "metadata": {},
     "output_type": "execute_result"
    }
   ],
   "source": [
    "initial.describe()"
   ]
  },
  {
   "cell_type": "code",
   "execution_count": 16,
   "metadata": {},
   "outputs": [
    {
     "data": {
      "image/png": "[encoded data removed]",
      "text/plain": [
       "<matplotlib.figure.Figure at 0x2b8d9ffa0a20>"
      ]
     },
     "metadata": {},
     "output_type": "display_data"
    }
   ],
   "source": [
    "initial.hist()\n",
    "plt.savefig('{}/initial.pdf'.format(plot_dir))"
   ]
  },
  {
   "cell_type": "markdown",
   "metadata": {},
   "source": [
    "## Training"
   ]
  },
  {
   "cell_type": "code",
   "execution_count": 17,
   "metadata": {},
   "outputs": [
    {
     "name": "stderr",
     "output_type": "stream",
     "text": [
      "50443frame [00:57, 883.06frame/s]                        \n"
     ]
    }
   ],
   "source": [
    "agent.observe()"
   ]
  },
  {
   "cell_type": "code",
   "execution_count": 18,
   "metadata": {},
   "outputs": [],
   "source": [
    "callback = BaseCallback()"
   ]
  },
  {
   "cell_type": "code",
   "execution_count": 19,
   "metadata": {
    "scrolled": true
   },
   "outputs": [
    {
     "name": "stderr",
     "output_type": "stream",
     "text": [
      " 97%|█████████▋| 9677373/10000000 [17:14:13<35:02, 153.47frame/s, loss=1.29, score=68]   "
     ]
    },
    {
     "ename": "KeyboardInterrupt",
     "evalue": "",
     "output_type": "error",
     "traceback": [
      "\u001b[0;31m---------------------------------------------------------------------------\u001b[0m",
      "\u001b[0;31mKeyboardInterrupt\u001b[0m                         Traceback (most recent call last)",
      "\u001b[0;32m<ipython-input-19-96c0cc5757b8>\u001b[0m in \u001b[0;36m<module>\u001b[0;34m()\u001b[0m\n\u001b[0;32m----> 1\u001b[0;31m \u001b[0magent\u001b[0m\u001b[0;34m.\u001b[0m\u001b[0mtrain\u001b[0m\u001b[0;34m(\u001b[0m\u001b[0mcallback\u001b[0m\u001b[0;34m=\u001b[0m\u001b[0mcallback\u001b[0m\u001b[0;34m)\u001b[0m\u001b[0;34m\u001b[0m\u001b[0m\n\u001b[0m",
      "\u001b[0;32m~/deep-learning-project/src/agents/deep_q_agent.py\u001b[0m in \u001b[0;36mtrain\u001b[0;34m(self, frames_to_play, batch_size, callback)\u001b[0m\n\u001b[1;32m    255\u001b[0m             \u001b[0;32mwhile\u001b[0m \u001b[0;32mnot\u001b[0m \u001b[0mdone\u001b[0m\u001b[0;34m:\u001b[0m\u001b[0;34m\u001b[0m\u001b[0m\n\u001b[1;32m    256\u001b[0m                 \u001b[0;31m# predict the best action based on the current state\u001b[0m\u001b[0;34m\u001b[0m\u001b[0;34m\u001b[0m\u001b[0m\n\u001b[0;32m--> 257\u001b[0;31m                 \u001b[0maction\u001b[0m \u001b[0;34m=\u001b[0m \u001b[0mself\u001b[0m\u001b[0;34m.\u001b[0m\u001b[0mpredict_action\u001b[0m\u001b[0;34m(\u001b[0m\u001b[0mstate\u001b[0m\u001b[0;34m,\u001b[0m \u001b[0mself\u001b[0m\u001b[0;34m.\u001b[0m\u001b[0mexploration_rate\u001b[0m\u001b[0;34m.\u001b[0m\u001b[0mvalue\u001b[0m\u001b[0;34m)\u001b[0m\u001b[0;34m\u001b[0m\u001b[0m\n\u001b[0m\u001b[1;32m    258\u001b[0m                 \u001b[0;31m# step the exploration rate forward\u001b[0m\u001b[0;34m\u001b[0m\u001b[0;34m\u001b[0m\u001b[0m\n\u001b[1;32m    259\u001b[0m                 \u001b[0mself\u001b[0m\u001b[0;34m.\u001b[0m\u001b[0mexploration_rate\u001b[0m\u001b[0;34m.\u001b[0m\u001b[0mstep\u001b[0m\u001b[0;34m(\u001b[0m\u001b[0;34m)\u001b[0m\u001b[0;34m\u001b[0m\u001b[0m\n",
      "\u001b[0;32m~/deep-learning-project/src/agents/deep_q_agent.py\u001b[0m in \u001b[0;36mpredict_action\u001b[0;34m(self, frames, exploration_rate)\u001b[0m\n\u001b[1;32m    218\u001b[0m             \u001b[0mframes\u001b[0m \u001b[0;34m=\u001b[0m \u001b[0mframes\u001b[0m\u001b[0;34m[\u001b[0m\u001b[0mnp\u001b[0m\u001b[0;34m.\u001b[0m\u001b[0mnewaxis\u001b[0m\u001b[0;34m,\u001b[0m \u001b[0;34m:\u001b[0m\u001b[0;34m,\u001b[0m \u001b[0;34m:\u001b[0m\u001b[0;34m,\u001b[0m \u001b[0;34m:\u001b[0m\u001b[0;34m]\u001b[0m\u001b[0;34m\u001b[0m\u001b[0m\n\u001b[1;32m    219\u001b[0m             \u001b[0;31m# predict the values of each action\u001b[0m\u001b[0;34m\u001b[0m\u001b[0;34m\u001b[0m\u001b[0m\n\u001b[0;32m--> 220\u001b[0;31m             \u001b[0mactions\u001b[0m \u001b[0;34m=\u001b[0m \u001b[0mself\u001b[0m\u001b[0;34m.\u001b[0m\u001b[0mmodel\u001b[0m\u001b[0;34m.\u001b[0m\u001b[0mpredict\u001b[0m\u001b[0;34m(\u001b[0m\u001b[0;34m[\u001b[0m\u001b[0mframes\u001b[0m\u001b[0;34m,\u001b[0m \u001b[0mself\u001b[0m\u001b[0;34m.\u001b[0m\u001b[0mpredict_mask\u001b[0m\u001b[0;34m]\u001b[0m\u001b[0;34m,\u001b[0m \u001b[0mbatch_size\u001b[0m\u001b[0;34m=\u001b[0m\u001b[0;36m1\u001b[0m\u001b[0;34m)\u001b[0m\u001b[0;34m\u001b[0m\u001b[0m\n\u001b[0m\u001b[1;32m    221\u001b[0m             \u001b[0;31m# return the action with the highest estimated future reward\u001b[0m\u001b[0;34m\u001b[0m\u001b[0;34m\u001b[0m\u001b[0m\n\u001b[1;32m    222\u001b[0m             \u001b[0;32mreturn\u001b[0m \u001b[0mnp\u001b[0m\u001b[0;34m.\u001b[0m\u001b[0margmax\u001b[0m\u001b[0;34m(\u001b[0m\u001b[0mactions\u001b[0m\u001b[0;34m)\u001b[0m\u001b[0;34m\u001b[0m\u001b[0m\n",
      "\u001b[0;32m~/.local/lib/python3.6/site-packages/keras/engine/training.py\u001b[0m in \u001b[0;36mpredict\u001b[0;34m(self, x, batch_size, verbose, steps)\u001b[0m\n\u001b[1;32m   1798\u001b[0m         \u001b[0mf\u001b[0m \u001b[0;34m=\u001b[0m \u001b[0mself\u001b[0m\u001b[0;34m.\u001b[0m\u001b[0mpredict_function\u001b[0m\u001b[0;34m\u001b[0m\u001b[0m\n\u001b[1;32m   1799\u001b[0m         return self._predict_loop(f, ins, batch_size=batch_size,\n\u001b[0;32m-> 1800\u001b[0;31m                                   verbose=verbose, steps=steps)\n\u001b[0m\u001b[1;32m   1801\u001b[0m \u001b[0;34m\u001b[0m\u001b[0m\n\u001b[1;32m   1802\u001b[0m     def train_on_batch(self, x, y,\n",
      "\u001b[0;32m~/.local/lib/python3.6/site-packages/keras/engine/training.py\u001b[0m in \u001b[0;36m_predict_loop\u001b[0;34m(self, f, ins, batch_size, verbose, steps)\u001b[0m\n\u001b[1;32m   1299\u001b[0m                     \u001b[0mins_batch\u001b[0m\u001b[0;34m[\u001b[0m\u001b[0mi\u001b[0m\u001b[0;34m]\u001b[0m \u001b[0;34m=\u001b[0m \u001b[0mins_batch\u001b[0m\u001b[0;34m[\u001b[0m\u001b[0mi\u001b[0m\u001b[0;34m]\u001b[0m\u001b[0;34m.\u001b[0m\u001b[0mtoarray\u001b[0m\u001b[0;34m(\u001b[0m\u001b[0;34m)\u001b[0m\u001b[0;34m\u001b[0m\u001b[0m\n\u001b[1;32m   1300\u001b[0m \u001b[0;34m\u001b[0m\u001b[0m\n\u001b[0;32m-> 1301\u001b[0;31m                 \u001b[0mbatch_outs\u001b[0m \u001b[0;34m=\u001b[0m \u001b[0mf\u001b[0m\u001b[0;34m(\u001b[0m\u001b[0mins_batch\u001b[0m\u001b[0;34m)\u001b[0m\u001b[0;34m\u001b[0m\u001b[0m\n\u001b[0m\u001b[1;32m   1302\u001b[0m                 \u001b[0;32mif\u001b[0m \u001b[0;32mnot\u001b[0m \u001b[0misinstance\u001b[0m\u001b[0;34m(\u001b[0m\u001b[0mbatch_outs\u001b[0m\u001b[0;34m,\u001b[0m \u001b[0mlist\u001b[0m\u001b[0;34m)\u001b[0m\u001b[0;34m:\u001b[0m\u001b[0;34m\u001b[0m\u001b[0m\n\u001b[1;32m   1303\u001b[0m                     \u001b[0mbatch_outs\u001b[0m \u001b[0;34m=\u001b[0m \u001b[0;34m[\u001b[0m\u001b[0mbatch_outs\u001b[0m\u001b[0;34m]\u001b[0m\u001b[0;34m\u001b[0m\u001b[0m\n",
      "\u001b[0;32m~/.local/lib/python3.6/site-packages/keras/backend/tensorflow_backend.py\u001b[0m in \u001b[0;36m__call__\u001b[0;34m(self, inputs)\u001b[0m\n\u001b[1;32m   2473\u001b[0m         \u001b[0msession\u001b[0m \u001b[0;34m=\u001b[0m \u001b[0mget_session\u001b[0m\u001b[0;34m(\u001b[0m\u001b[0;34m)\u001b[0m\u001b[0;34m\u001b[0m\u001b[0m\n\u001b[1;32m   2474\u001b[0m         updated = session.run(fetches=fetches, feed_dict=feed_dict,\n\u001b[0;32m-> 2475\u001b[0;31m                               **self.session_kwargs)\n\u001b[0m\u001b[1;32m   2476\u001b[0m         \u001b[0;32mreturn\u001b[0m \u001b[0mupdated\u001b[0m\u001b[0;34m[\u001b[0m\u001b[0;34m:\u001b[0m\u001b[0mlen\u001b[0m\u001b[0;34m(\u001b[0m\u001b[0mself\u001b[0m\u001b[0;34m.\u001b[0m\u001b[0moutputs\u001b[0m\u001b[0;34m)\u001b[0m\u001b[0;34m]\u001b[0m\u001b[0;34m\u001b[0m\u001b[0m\n\u001b[1;32m   2477\u001b[0m \u001b[0;34m\u001b[0m\u001b[0m\n",
      "\u001b[0;32m~/.local/lib/python3.6/site-packages/tensorflow/python/client/session.py\u001b[0m in \u001b[0;36mrun\u001b[0;34m(self, fetches, feed_dict, options, run_metadata)\u001b[0m\n\u001b[1;32m    887\u001b[0m     \u001b[0;32mtry\u001b[0m\u001b[0;34m:\u001b[0m\u001b[0;34m\u001b[0m\u001b[0m\n\u001b[1;32m    888\u001b[0m       result = self._run(None, fetches, feed_dict, options_ptr,\n\u001b[0;32m--> 889\u001b[0;31m                          run_metadata_ptr)\n\u001b[0m\u001b[1;32m    890\u001b[0m       \u001b[0;32mif\u001b[0m \u001b[0mrun_metadata\u001b[0m\u001b[0;34m:\u001b[0m\u001b[0;34m\u001b[0m\u001b[0m\n\u001b[1;32m    891\u001b[0m         \u001b[0mproto_data\u001b[0m \u001b[0;34m=\u001b[0m \u001b[0mtf_session\u001b[0m\u001b[0;34m.\u001b[0m\u001b[0mTF_GetBuffer\u001b[0m\u001b[0;34m(\u001b[0m\u001b[0mrun_metadata_ptr\u001b[0m\u001b[0;34m)\u001b[0m\u001b[0;34m\u001b[0m\u001b[0m\n",
      "\u001b[0;32m~/.local/lib/python3.6/site-packages/tensorflow/python/client/session.py\u001b[0m in \u001b[0;36m_run\u001b[0;34m(self, handle, fetches, feed_dict, options, run_metadata)\u001b[0m\n\u001b[1;32m   1118\u001b[0m     \u001b[0;32mif\u001b[0m \u001b[0mfinal_fetches\u001b[0m \u001b[0;32mor\u001b[0m \u001b[0mfinal_targets\u001b[0m \u001b[0;32mor\u001b[0m \u001b[0;34m(\u001b[0m\u001b[0mhandle\u001b[0m \u001b[0;32mand\u001b[0m \u001b[0mfeed_dict_tensor\u001b[0m\u001b[0;34m)\u001b[0m\u001b[0;34m:\u001b[0m\u001b[0;34m\u001b[0m\u001b[0m\n\u001b[1;32m   1119\u001b[0m       results = self._do_run(handle, final_targets, final_fetches,\n\u001b[0;32m-> 1120\u001b[0;31m                              feed_dict_tensor, options, run_metadata)\n\u001b[0m\u001b[1;32m   1121\u001b[0m     \u001b[0;32melse\u001b[0m\u001b[0;34m:\u001b[0m\u001b[0;34m\u001b[0m\u001b[0m\n\u001b[1;32m   1122\u001b[0m       \u001b[0mresults\u001b[0m \u001b[0;34m=\u001b[0m \u001b[0;34m[\u001b[0m\u001b[0;34m]\u001b[0m\u001b[0;34m\u001b[0m\u001b[0m\n",
      "\u001b[0;32m~/.local/lib/python3.6/site-packages/tensorflow/python/client/session.py\u001b[0m in \u001b[0;36m_do_run\u001b[0;34m(self, handle, target_list, fetch_list, feed_dict, options, run_metadata)\u001b[0m\n\u001b[1;32m   1315\u001b[0m     \u001b[0;32mif\u001b[0m \u001b[0mhandle\u001b[0m \u001b[0;32mis\u001b[0m \u001b[0;32mNone\u001b[0m\u001b[0;34m:\u001b[0m\u001b[0;34m\u001b[0m\u001b[0m\n\u001b[1;32m   1316\u001b[0m       return self._do_call(_run_fn, self._session, feeds, fetches, targets,\n\u001b[0;32m-> 1317\u001b[0;31m                            options, run_metadata)\n\u001b[0m\u001b[1;32m   1318\u001b[0m     \u001b[0;32melse\u001b[0m\u001b[0;34m:\u001b[0m\u001b[0;34m\u001b[0m\u001b[0m\n\u001b[1;32m   1319\u001b[0m       \u001b[0;32mreturn\u001b[0m \u001b[0mself\u001b[0m\u001b[0;34m.\u001b[0m\u001b[0m_do_call\u001b[0m\u001b[0;34m(\u001b[0m\u001b[0m_prun_fn\u001b[0m\u001b[0;34m,\u001b[0m \u001b[0mself\u001b[0m\u001b[0;34m.\u001b[0m\u001b[0m_session\u001b[0m\u001b[0;34m,\u001b[0m \u001b[0mhandle\u001b[0m\u001b[0;34m,\u001b[0m \u001b[0mfeeds\u001b[0m\u001b[0;34m,\u001b[0m \u001b[0mfetches\u001b[0m\u001b[0;34m)\u001b[0m\u001b[0;34m\u001b[0m\u001b[0m\n",
      "\u001b[0;32m~/.local/lib/python3.6/site-packages/tensorflow/python/client/session.py\u001b[0m in \u001b[0;36m_do_call\u001b[0;34m(self, fn, *args)\u001b[0m\n\u001b[1;32m   1321\u001b[0m   \u001b[0;32mdef\u001b[0m \u001b[0m_do_call\u001b[0m\u001b[0;34m(\u001b[0m\u001b[0mself\u001b[0m\u001b[0;34m,\u001b[0m \u001b[0mfn\u001b[0m\u001b[0;34m,\u001b[0m \u001b[0;34m*\u001b[0m\u001b[0margs\u001b[0m\u001b[0;34m)\u001b[0m\u001b[0;34m:\u001b[0m\u001b[0;34m\u001b[0m\u001b[0m\n\u001b[1;32m   1322\u001b[0m     \u001b[0;32mtry\u001b[0m\u001b[0;34m:\u001b[0m\u001b[0;34m\u001b[0m\u001b[0m\n\u001b[0;32m-> 1323\u001b[0;31m       \u001b[0;32mreturn\u001b[0m \u001b[0mfn\u001b[0m\u001b[0;34m(\u001b[0m\u001b[0;34m*\u001b[0m\u001b[0margs\u001b[0m\u001b[0;34m)\u001b[0m\u001b[0;34m\u001b[0m\u001b[0m\n\u001b[0m\u001b[1;32m   1324\u001b[0m     \u001b[0;32mexcept\u001b[0m \u001b[0merrors\u001b[0m\u001b[0;34m.\u001b[0m\u001b[0mOpError\u001b[0m \u001b[0;32mas\u001b[0m \u001b[0me\u001b[0m\u001b[0;34m:\u001b[0m\u001b[0;34m\u001b[0m\u001b[0m\n\u001b[1;32m   1325\u001b[0m       \u001b[0mmessage\u001b[0m \u001b[0;34m=\u001b[0m \u001b[0mcompat\u001b[0m\u001b[0;34m.\u001b[0m\u001b[0mas_text\u001b[0m\u001b[0;34m(\u001b[0m\u001b[0me\u001b[0m\u001b[0;34m.\u001b[0m\u001b[0mmessage\u001b[0m\u001b[0;34m)\u001b[0m\u001b[0;34m\u001b[0m\u001b[0m\n",
      "\u001b[0;32m~/.local/lib/python3.6/site-packages/tensorflow/python/client/session.py\u001b[0m in \u001b[0;36m_run_fn\u001b[0;34m(session, feed_dict, fetch_list, target_list, options, run_metadata)\u001b[0m\n\u001b[1;32m   1300\u001b[0m           return tf_session.TF_Run(session, options,\n\u001b[1;32m   1301\u001b[0m                                    \u001b[0mfeed_dict\u001b[0m\u001b[0;34m,\u001b[0m \u001b[0mfetch_list\u001b[0m\u001b[0;34m,\u001b[0m \u001b[0mtarget_list\u001b[0m\u001b[0;34m,\u001b[0m\u001b[0;34m\u001b[0m\u001b[0m\n\u001b[0;32m-> 1302\u001b[0;31m                                    status, run_metadata)\n\u001b[0m\u001b[1;32m   1303\u001b[0m \u001b[0;34m\u001b[0m\u001b[0m\n\u001b[1;32m   1304\u001b[0m     \u001b[0;32mdef\u001b[0m \u001b[0m_prun_fn\u001b[0m\u001b[0;34m(\u001b[0m\u001b[0msession\u001b[0m\u001b[0;34m,\u001b[0m \u001b[0mhandle\u001b[0m\u001b[0;34m,\u001b[0m \u001b[0mfeed_dict\u001b[0m\u001b[0;34m,\u001b[0m \u001b[0mfetch_list\u001b[0m\u001b[0;34m)\u001b[0m\u001b[0;34m:\u001b[0m\u001b[0;34m\u001b[0m\u001b[0m\n",
      "\u001b[0;31mKeyboardInterrupt\u001b[0m: "
     ]
    },
    {
     "name": "stderr",
     "output_type": "stream",
     "text": [
      "\r",
      " 97%|█████████▋| 9677373/10000000 [17:14:29<35:02, 153.47frame/s, loss=1.29, score=68]"
     ]
    }
   ],
   "source": [
    "agent.train(callback=callback)"
   ]
  },
  {
   "cell_type": "code",
   "execution_count": 20,
   "metadata": {},
   "outputs": [],
   "source": [
    "# save the training results\n",
    "scores = pd.Series(callback.scores)\n",
    "scores.to_csv('{}/scores.csv'.format(exp_directory))\n",
    "losses = pd.Series(callback.losses)\n",
    "losses.to_csv('{}/losses.csv'.format(exp_directory))"
   ]
  },
  {
   "cell_type": "code",
   "execution_count": 21,
   "metadata": {},
   "outputs": [
    {
     "data": {
      "image/png": "[encoded data removed]",
      "text/plain": [
       "<matplotlib.figure.Figure at 0x2b9903b58ba8>"
      ]
     },
     "metadata": {},
     "output_type": "display_data"
    }
   ],
   "source": [
    "train = pd.concat([scores, losses], axis=1)\n",
    "train.columns = ['Reward', 'Loss']\n",
    "train.index.name = 'Episode'\n",
    "_ = train.plot(figsize=(12, 5), subplots=True)\n",
    "plt.savefig('{}/training.pdf'.format(plot_dir))"
   ]
  },
  {
   "cell_type": "markdown",
   "metadata": {},
   "source": [
    "## Final"
   ]
  },
  {
   "cell_type": "code",
   "execution_count": 23,
   "metadata": {
    "scrolled": true
   },
   "outputs": [
    {
     "name": "stderr",
     "output_type": "stream",
     "text": [
      "\n",
      "  0%|          | 0/100 [00:00<?, ?game/s]\u001b[A\n",
      "  1%|          | 1/100 [00:02<03:55,  2.38s/game]\u001b[A\n",
      "  2%|▏         | 2/100 [00:05<04:05,  2.50s/game]\u001b[A\n",
      "  3%|▎         | 3/100 [00:09<05:05,  3.15s/game]\u001b[A\n",
      "  4%|▍         | 4/100 [00:11<04:36,  2.88s/game]\u001b[A\n",
      "  5%|▌         | 5/100 [00:14<04:26,  2.80s/game]\u001b[A\n",
      "  6%|▌         | 6/100 [00:18<04:46,  3.05s/game]\u001b[A\n",
      "  7%|▋         | 7/100 [00:22<04:57,  3.20s/game]\u001b[A\n",
      "  8%|▊         | 8/100 [00:27<05:13,  3.41s/game]\u001b[A\n",
      "  9%|▉         | 9/100 [00:30<05:11,  3.43s/game]\u001b[A\n",
      " 10%|█         | 10/100 [00:33<05:01,  3.35s/game]\u001b[A\n",
      " 11%|█         | 11/100 [00:36<04:53,  3.29s/game]\u001b[A\n",
      " 12%|█▏        | 12/100 [00:39<04:52,  3.32s/game]\u001b[A\n",
      " 13%|█▎        | 13/100 [00:41<04:40,  3.23s/game]\u001b[A\n",
      " 14%|█▍        | 14/100 [00:45<04:37,  3.22s/game]\u001b[A\n",
      " 15%|█▌        | 15/100 [00:47<04:27,  3.15s/game]\u001b[A\n",
      " 16%|█▌        | 16/100 [00:50<04:27,  3.18s/game]\u001b[A\n",
      " 17%|█▋        | 17/100 [00:52<04:16,  3.09s/game]\u001b[A\n",
      " 18%|█▊        | 18/100 [00:57<04:20,  3.18s/game]\u001b[A\n",
      " 19%|█▉        | 19/100 [00:59<04:14,  3.14s/game]\u001b[A\n",
      " 20%|██        | 20/100 [01:04<04:16,  3.21s/game]\u001b[A\n",
      " 21%|██        | 21/100 [01:08<04:18,  3.27s/game]\u001b[A\n",
      " 22%|██▏       | 22/100 [01:11<04:12,  3.24s/game]\u001b[A\n",
      " 23%|██▎       | 23/100 [01:15<04:13,  3.30s/game]\u001b[A\n",
      " 24%|██▍       | 24/100 [01:21<04:16,  3.38s/game]\u001b[A\n",
      " 25%|██▌       | 25/100 [01:24<04:13,  3.38s/game]\u001b[A\n",
      " 26%|██▌       | 26/100 [01:29<04:13,  3.43s/game]\u001b[A\n",
      " 27%|██▋       | 27/100 [01:32<04:08,  3.41s/game]\u001b[A\n",
      " 28%|██▊       | 28/100 [01:36<04:09,  3.46s/game]\u001b[A\n",
      " 29%|██▉       | 29/100 [01:38<04:01,  3.40s/game]\u001b[A\n",
      " 30%|███       | 30/100 [01:42<04:00,  3.43s/game]\u001b[A\n",
      " 31%|███       | 31/100 [01:46<03:57,  3.44s/game]\u001b[A\n",
      " 32%|███▏      | 32/100 [01:50<03:54,  3.45s/game]\u001b[A\n",
      " 33%|███▎      | 33/100 [01:54<03:52,  3.47s/game]\u001b[A\n",
      " 34%|███▍      | 34/100 [01:58<03:49,  3.48s/game]\u001b[A\n",
      " 35%|███▌      | 35/100 [02:00<03:44,  3.45s/game]\u001b[A\n",
      " 36%|███▌      | 36/100 [02:05<03:43,  3.50s/game]\u001b[A\n",
      " 37%|███▋      | 37/100 [02:11<03:43,  3.55s/game]\u001b[A\n",
      " 38%|███▊      | 38/100 [02:13<03:38,  3.52s/game]\u001b[A\n",
      " 39%|███▉      | 39/100 [02:17<03:35,  3.53s/game]\u001b[A\n",
      " 40%|████      | 40/100 [02:22<03:33,  3.56s/game]\u001b[A\n",
      " 41%|████      | 41/100 [02:26<03:30,  3.57s/game]\u001b[A\n",
      " 42%|████▏     | 42/100 [02:31<03:28,  3.60s/game]\u001b[A\n",
      " 43%|████▎     | 43/100 [02:36<03:27,  3.64s/game]\u001b[A\n",
      " 44%|████▍     | 44/100 [02:40<03:24,  3.65s/game]\u001b[A\n",
      " 45%|████▌     | 45/100 [02:44<03:21,  3.67s/game]\u001b[A\n",
      " 46%|████▌     | 46/100 [02:50<03:19,  3.70s/game]\u001b[A\n",
      " 47%|████▋     | 47/100 [02:53<03:15,  3.69s/game]\u001b[A\n",
      " 48%|████▊     | 48/100 [02:59<03:14,  3.75s/game]\u001b[A\n",
      " 49%|████▉     | 49/100 [03:02<03:09,  3.72s/game]\u001b[A\n",
      " 50%|█████     | 50/100 [03:04<03:04,  3.70s/game]\u001b[A\n",
      " 51%|█████     | 51/100 [03:09<03:02,  3.72s/game]\u001b[A\n",
      " 52%|█████▏    | 52/100 [03:13<02:58,  3.73s/game]\u001b[A\n",
      " 53%|█████▎    | 53/100 [03:17<02:55,  3.73s/game]\u001b[A\n",
      " 54%|█████▍    | 54/100 [03:20<02:50,  3.71s/game]\u001b[A\n",
      " 55%|█████▌    | 55/100 [03:24<02:47,  3.72s/game]\u001b[A\n",
      " 56%|█████▌    | 56/100 [03:26<02:42,  3.69s/game]\u001b[A\n",
      " 57%|█████▋    | 57/100 [03:30<02:38,  3.69s/game]\u001b[A\n",
      " 58%|█████▊    | 58/100 [03:32<02:34,  3.67s/game]\u001b[A\n",
      " 59%|█████▉    | 59/100 [03:35<02:29,  3.65s/game]\u001b[A\n",
      " 60%|██████    | 60/100 [03:39<02:26,  3.66s/game]\u001b[A\n",
      " 61%|██████    | 61/100 [03:43<02:22,  3.66s/game]\u001b[A\n",
      " 62%|██████▏   | 62/100 [03:46<02:18,  3.66s/game]\u001b[A\n",
      " 63%|██████▎   | 63/100 [03:48<02:14,  3.63s/game]\u001b[A\n",
      " 64%|██████▍   | 64/100 [03:52<02:10,  3.63s/game]\u001b[A\n",
      " 65%|██████▌   | 65/100 [03:54<02:06,  3.61s/game]\u001b[A\n",
      " 66%|██████▌   | 66/100 [03:57<02:02,  3.59s/game]\u001b[A\n",
      " 67%|██████▋   | 67/100 [04:01<01:59,  3.61s/game]\u001b[A\n",
      " 68%|██████▊   | 68/100 [04:07<01:56,  3.64s/game]\u001b[A\n",
      " 69%|██████▉   | 69/100 [04:11<01:53,  3.65s/game]\u001b[A\n",
      " 70%|███████   | 70/100 [04:13<01:48,  3.63s/game]\u001b[A\n",
      " 71%|███████   | 71/100 [04:17<01:45,  3.63s/game]\u001b[A\n",
      " 72%|███████▏  | 72/100 [04:21<01:41,  3.64s/game]\u001b[A\n",
      " 73%|███████▎  | 73/100 [04:26<01:38,  3.65s/game]\u001b[A\n",
      " 74%|███████▍  | 74/100 [04:29<01:34,  3.64s/game]\u001b[A\n",
      " 75%|███████▌  | 75/100 [04:32<01:30,  3.64s/game]\u001b[A\n",
      " 76%|███████▌  | 76/100 [04:36<01:27,  3.64s/game]\u001b[A\n",
      " 77%|███████▋  | 77/100 [04:39<01:23,  3.62s/game]\u001b[A\n",
      " 78%|███████▊  | 78/100 [04:42<01:19,  3.62s/game]\u001b[A\n",
      " 79%|███████▉  | 79/100 [04:47<01:16,  3.64s/game]\u001b[A\n",
      " 80%|████████  | 80/100 [04:50<01:12,  3.63s/game]\u001b[A\n",
      " 81%|████████  | 81/100 [04:55<01:09,  3.65s/game]\u001b[A\n",
      " 82%|████████▏ | 82/100 [04:57<01:05,  3.62s/game]\u001b[A\n",
      " 83%|████████▎ | 83/100 [04:59<01:01,  3.61s/game]\u001b[A\n",
      " 84%|████████▍ | 84/100 [05:01<00:57,  3.59s/game]\u001b[A\n",
      " 85%|████████▌ | 85/100 [05:06<00:54,  3.61s/game]\u001b[A\n",
      " 86%|████████▌ | 86/100 [05:09<00:50,  3.59s/game]\u001b[A\n",
      " 87%|████████▋ | 87/100 [05:11<00:46,  3.58s/game]\u001b[A\n",
      " 88%|████████▊ | 88/100 [05:13<00:42,  3.56s/game]\u001b[A\n",
      " 89%|████████▉ | 89/100 [05:15<00:39,  3.55s/game]\u001b[A\n",
      " 90%|█████████ | 90/100 [05:21<00:35,  3.57s/game]\u001b[A\n",
      " 91%|█████████ | 91/100 [05:23<00:31,  3.55s/game]\u001b[A\n",
      " 92%|█████████▏| 92/100 [05:26<00:28,  3.55s/game]\u001b[A\n",
      " 93%|█████████▎| 93/100 [05:31<00:24,  3.56s/game]\u001b[A\n",
      " 94%|█████████▍| 94/100 [05:33<00:21,  3.55s/game]\u001b[A\n",
      " 95%|█████████▌| 95/100 [05:36<00:17,  3.54s/game]\u001b[A\n",
      " 96%|█████████▌| 96/100 [05:38<00:14,  3.53s/game]\u001b[A\n",
      " 97%|█████████▋| 97/100 [05:43<00:10,  3.54s/game]\u001b[A\n",
      " 98%|█████████▊| 98/100 [05:46<00:07,  3.54s/game]\u001b[A\n",
      " 99%|█████████▉| 99/100 [05:51<00:03,  3.55s/game]\u001b[A\n",
      "100%|██████████| 100/100 [05:55<00:00,  3.55s/game]\u001b[A\n",
      "\u001b[A"
     ]
    },
    {
     "data": {
      "text/plain": [
       "0     33.0\n",
       "1     33.0\n",
       "2     67.0\n",
       "3     32.0\n",
       "4     31.0\n",
       "5     66.0\n",
       "6     68.0\n",
       "7     72.0\n",
       "8     60.0\n",
       "9     28.0\n",
       "10    33.0\n",
       "11    70.0\n",
       "12    30.0\n",
       "13    49.0\n",
       "14    32.0\n",
       "15    61.0\n",
       "16    23.0\n",
       "17    67.0\n",
       "18    31.0\n",
       "19    68.0\n",
       "20    64.0\n",
       "21    32.0\n",
       "22    61.0\n",
       "23    85.0\n",
       "24    58.0\n",
       "25    65.0\n",
       "26    29.0\n",
       "27    69.0\n",
       "28    23.0\n",
       "29    56.0\n",
       "      ... \n",
       "70    68.0\n",
       "71    68.0\n",
       "72    65.0\n",
       "73    32.0\n",
       "74    59.0\n",
       "75    66.0\n",
       "76    34.0\n",
       "77    60.0\n",
       "78    66.0\n",
       "79    63.0\n",
       "80    67.0\n",
       "81    34.0\n",
       "82    34.0\n",
       "83    32.0\n",
       "84    70.0\n",
       "85    34.0\n",
       "86    33.0\n",
       "87    31.0\n",
       "88    34.0\n",
       "89    68.0\n",
       "90    32.0\n",
       "91    43.0\n",
       "92    84.0\n",
       "93    32.0\n",
       "94    32.0\n",
       "95    32.0\n",
       "96    67.0\n",
       "97    53.0\n",
       "98    66.0\n",
       "99    49.0\n",
       "Length: 100, dtype: float64"
      ]
     },
     "execution_count": 23,
     "metadata": {},
     "output_type": "execute_result"
    }
   ],
   "source": [
    "final = agent.play()\n",
    "final = pd.Series(final)\n",
    "final"
   ]
  },
  {
   "cell_type": "code",
   "execution_count": 24,
   "metadata": {},
   "outputs": [],
   "source": [
    "final.to_csv('{}/final.csv'.format(exp_directory))"
   ]
  },
  {
   "cell_type": "code",
   "execution_count": 25,
   "metadata": {},
   "outputs": [
    {
     "data": {
      "text/plain": [
       "count    100.000000\n",
       "mean      52.790000\n",
       "std       17.785078\n",
       "min       23.000000\n",
       "25%       33.000000\n",
       "50%       60.500000\n",
       "75%       68.000000\n",
       "max       90.000000\n",
       "dtype: float64"
      ]
     },
     "execution_count": 25,
     "metadata": {},
     "output_type": "execute_result"
    }
   ],
   "source": [
    "final.describe()"
   ]
  },
  {
   "cell_type": "code",
   "execution_count": 26,
   "metadata": {},
   "outputs": [
    {
     "data": {
      "image/png": "[encoded data removed]",
      "text/plain": [
       "<matplotlib.figure.Figure at 0x2b9903c78a58>"
      ]
     },
     "metadata": {},
     "output_type": "display_data"
    }
   ],
   "source": [
    "final.hist()\n",
    "plt.savefig('{}/final.pdf'.format(plot_dir))"
   ]
  },
  {
   "cell_type": "markdown",
   "metadata": {},
   "source": [
    "## Saving Weights"
   ]
  },
  {
   "cell_type": "code",
   "execution_count": 27,
   "metadata": {},
   "outputs": [],
   "source": [
    "agent.model.save_weights('{}/weights.h5'.format(exp_directory), overwrite=True)"
   ]
  },
  {
   "cell_type": "markdown",
   "metadata": {},
   "source": [
    " "
   ]
  }
 ],
 "metadata": {
  "kernelspec": {
   "display_name": "Python 3.6 [python/3.6 cuda/8.0.44]",
   "language": "python",
   "name": "python36"
  }
 },
 "nbformat": 4,
 "nbformat_minor": 2
}
