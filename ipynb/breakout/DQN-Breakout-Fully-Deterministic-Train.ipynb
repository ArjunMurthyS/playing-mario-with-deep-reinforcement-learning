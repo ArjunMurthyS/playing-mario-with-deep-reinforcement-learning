{
 "cells": [
  {
   "cell_type": "code",
   "execution_count": 1,
   "metadata": {},
   "outputs": [
    {
     "name": "stderr",
     "output_type": "stream",
     "text": [
      "/usr/local/anaconda5/lib/python3.6/site-packages/h5py/__init__.py:34: FutureWarning: Conversion of the second argument of issubdtype from `float` to `np.floating` is deprecated. In future, it will be treated as `np.float64 == np.dtype(float).type`.\n",
      "  from ._conv import register_converters as _register_converters\n",
      "Using TensorFlow backend.\n",
      "/usr/local/anaconda5/lib/python3.6/importlib/_bootstrap.py:219: RuntimeWarning: compiletime version 3.5 of module 'tensorflow.python.framework.fast_tensor_util' does not match runtime version 3.6\n",
      "  return f(*args, **kwds)\n"
     ]
    }
   ],
   "source": [
    "import gym\n",
    "from keras.optimizers import Adam"
   ]
  },
  {
   "cell_type": "code",
   "execution_count": 2,
   "metadata": {},
   "outputs": [],
   "source": [
    "import base\n",
    "from src.agents import DeepQAgent\n",
    "from src.util import JupyterCallback\n",
    "from src.downsamplers import downsample_breakout"
   ]
  },
  {
   "cell_type": "markdown",
   "metadata": {},
   "source": [
    "# Environment"
   ]
  },
  {
   "cell_type": "code",
   "execution_count": 3,
   "metadata": {},
   "outputs": [],
   "source": [
    "# Deterministic - use a static number of frames for frame skipping\n",
    "# v4 - disable 25% chance of ignoring action and repeating last action\n",
    "env = gym.make('BreakoutDeterministic-v4')"
   ]
  },
  {
   "cell_type": "code",
   "execution_count": 4,
   "metadata": {},
   "outputs": [
    {
     "data": {
      "text/plain": [
       "Box(210, 160, 3)"
      ]
     },
     "execution_count": 4,
     "metadata": {},
     "output_type": "execute_result"
    }
   ],
   "source": [
    "env.observation_space"
   ]
  },
  {
   "cell_type": "code",
   "execution_count": 5,
   "metadata": {},
   "outputs": [
    {
     "data": {
      "text/plain": [
       "Discrete(4)"
      ]
     },
     "execution_count": 5,
     "metadata": {},
     "output_type": "execute_result"
    }
   ],
   "source": [
    "env.action_space"
   ]
  },
  {
   "cell_type": "markdown",
   "metadata": {},
   "source": [
    "# Agent"
   ]
  },
  {
   "cell_type": "code",
   "execution_count": 6,
   "metadata": {
    "scrolled": true
   },
   "outputs": [
    {
     "data": {
      "text/plain": [
       "DeepQAgent(\n",
       "    env=<TimeLimit<AtariEnv<BreakoutDeterministic-v4>>>,\n",
       "    downsample=Downsampler(y=(32, 14), x=(8, 8), cut=[142]),\n",
       "    replay_memory_size=250000,\n",
       "    agent_history_length=4,\n",
       "    discount_factor=0.99,\n",
       "    update_frequency=4,\n",
       "    optimizer=<keras.optimizers.Adam object at 0x2ba8b006d240>,\n",
       "    exploration_rate=AnnealingVariable(initial_value=1.0, final_value=0.1, steps=1000000),\n",
       "    null_op_max=30,\n",
       "    null_op=0,\n",
       "    loss=<function huber_loss at 0x2ba8c37cb1e0>,\n",
       "    image_size=(84, 84),\n",
       "    render_mode='rgb_array'\n",
       ")"
      ]
     },
     "execution_count": 6,
     "metadata": {},
     "output_type": "execute_result"
    }
   ],
   "source": [
    "agent = DeepQAgent(env, downsample_breakout,\n",
    "    replay_memory_size=250000,\n",
    "    optimizer=Adam(lr=1e-4),\n",
    "    render_mode='rgb_array'\n",
    ")\n",
    "agent"
   ]
  },
  {
   "cell_type": "code",
   "execution_count": 7,
   "metadata": {},
   "outputs": [
    {
     "name": "stderr",
     "output_type": "stream",
     "text": [
      "100%|██████████| 30/30 [00:12<00:00,  2.34game/s]\n"
     ]
    },
    {
     "data": {
      "text/plain": [
       "array([-1.,  1., -1.,  0., -1.,  2.,  1., -1.,  0., -1.,  0.,  0., -1.,\n",
       "       -1., -1.,  0., -1.,  1., -1., -1.,  1., -1., -1., -1.,  1., -1.,\n",
       "       -1., -1., -1., -1.])"
      ]
     },
     "execution_count": 7,
     "metadata": {},
     "output_type": "execute_result"
    }
   ],
   "source": [
    "res_random = agent.play(games=30)\n",
    "res_random"
   ]
  },
  {
   "cell_type": "code",
   "execution_count": 8,
   "metadata": {},
   "outputs": [
    {
     "data": {
      "text/plain": [
       "-0.4"
      ]
     },
     "execution_count": 8,
     "metadata": {},
     "output_type": "execute_result"
    }
   ],
   "source": [
    "res_random.mean()"
   ]
  },
  {
   "cell_type": "code",
   "execution_count": 9,
   "metadata": {},
   "outputs": [
    {
     "name": "stderr",
     "output_type": "stream",
     "text": [
      "100%|██████████| 50000/50000 [00:50<00:00, 986.21frame/s] \n"
     ]
    }
   ],
   "source": [
    "agent.observe(50000)"
   ]
  },
  {
   "cell_type": "code",
   "execution_count": 10,
   "metadata": {},
   "outputs": [
    {
     "data": {
      "image/png": "[encoded data removed]",
      "text/plain": [
       "<matplotlib.figure.Figure at 0x2bb123f3dac8>"
      ]
     },
     "metadata": {},
     "output_type": "display_data"
    },
    {
     "name": "stderr",
     "output_type": "stream",
     "text": [
      "100%|██████████| 5000000/5000000 [7:53:45<00:00, 183.59frame/s]\n"
     ]
    }
   ],
   "source": [
    "callback = JupyterCallback()\n",
    "agent.train(frames_to_play=5000000, callback=callback)"
   ]
  },
  {
   "cell_type": "code",
   "execution_count": 11,
   "metadata": {},
   "outputs": [
    {
     "name": "stderr",
     "output_type": "stream",
     "text": [
      "100%|██████████| 30/30 [01:32<00:00,  3.07s/game]\n"
     ]
    },
    {
     "data": {
      "text/plain": [
       "array([29., 34., 46., 27., 35., 48., 39., 26., 30., 31., 43., 42., 29.,\n",
       "       30., 42., 28., 30., 42., 28., 29., 31., 27., 65., 23., 28., 26.,\n",
       "       31., 35., 20., 25.])"
      ]
     },
     "execution_count": 11,
     "metadata": {},
     "output_type": "execute_result"
    }
   ],
   "source": [
    "res_trained = agent.play(games=30)\n",
    "res_trained"
   ]
  },
  {
   "cell_type": "code",
   "execution_count": 12,
   "metadata": {},
   "outputs": [
    {
     "data": {
      "text/plain": [
       "33.3"
      ]
     },
     "execution_count": 12,
     "metadata": {},
     "output_type": "execute_result"
    }
   ],
   "source": [
    "res_trained.mean()"
   ]
  },
  {
   "cell_type": "code",
   "execution_count": 13,
   "metadata": {},
   "outputs": [],
   "source": [
    "!mkdir -p models\n",
    "!mkdir -p models/dqn"
   ]
  },
  {
   "cell_type": "code",
   "execution_count": 14,
   "metadata": {},
   "outputs": [],
   "source": [
    "agent.model.save_weights('./models/dqn/breakout.h5', overwrite=True)"
   ]
  },
  {
   "cell_type": "markdown",
   "metadata": {},
   "source": [
    " "
   ]
  }
 ],
 "metadata": {
  "kernelspec": {
   "display_name": "Python 3.6 [python/3.6 cuda/8.0.44]",
   "language": "python",
   "name": "python36"
  },
  "language_info": {
   "codemirror_mode": {
    "name": "ipython",
    "version": 3
   },
   "file_extension": ".py",
   "mimetype": "text/x-python",
   "name": "python",
   "nbconvert_exporter": "python",
   "pygments_lexer": "ipython3",
   "version": "3.6.3"
  }
 },
 "nbformat": 4,
 "nbformat_minor": 2
}
