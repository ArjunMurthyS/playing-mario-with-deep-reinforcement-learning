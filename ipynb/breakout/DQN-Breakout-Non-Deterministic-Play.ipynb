{
 "cells": [
  {
   "cell_type": "code",
   "execution_count": 1,
   "metadata": {},
   "outputs": [],
   "source": [
    "!mkdir -p results results/dqn"
   ]
  },
  {
   "cell_type": "code",
   "execution_count": 2,
   "metadata": {},
   "outputs": [],
   "source": [
    "%matplotlib inline\n",
    "import pandas as pd"
   ]
  },
  {
   "cell_type": "code",
   "execution_count": 3,
   "metadata": {},
   "outputs": [],
   "source": [
    "import gym\n",
    "from gym.wrappers import Monitor"
   ]
  },
  {
   "cell_type": "code",
   "execution_count": 4,
   "metadata": {},
   "outputs": [
    {
     "name": "stderr",
     "output_type": "stream",
     "text": [
      "/usr/local/lib/python3.6/site-packages/h5py/__init__.py:36: FutureWarning: Conversion of the second argument of issubdtype from `float` to `np.floating` is deprecated. In future, it will be treated as `np.float64 == np.dtype(float).type`.\n",
      "  from ._conv import register_converters as _register_converters\n",
      "Using TensorFlow backend.\n"
     ]
    }
   ],
   "source": [
    "import base\n",
    "from src.agents import DeepQAgent\n",
    "from src.downsamplers import downsample_breakout"
   ]
  },
  {
   "cell_type": "markdown",
   "metadata": {},
   "source": [
    "# Environment"
   ]
  },
  {
   "cell_type": "code",
   "execution_count": 5,
   "metadata": {},
   "outputs": [],
   "source": [
    "env = gym.make('Breakout-v4')\n",
    "env = Monitor(env, './monitor/dqn/breakout-non-deterministic')"
   ]
  },
  {
   "cell_type": "code",
   "execution_count": 6,
   "metadata": {},
   "outputs": [
    {
     "data": {
      "text/plain": [
       "Box(210, 160, 3)"
      ]
     },
     "execution_count": 6,
     "metadata": {},
     "output_type": "execute_result"
    }
   ],
   "source": [
    "env.observation_space"
   ]
  },
  {
   "cell_type": "code",
   "execution_count": 7,
   "metadata": {},
   "outputs": [
    {
     "data": {
      "text/plain": [
       "Discrete(4)"
      ]
     },
     "execution_count": 7,
     "metadata": {},
     "output_type": "execute_result"
    }
   ],
   "source": [
    "env.action_space"
   ]
  },
  {
   "cell_type": "markdown",
   "metadata": {},
   "source": [
    "# Agent"
   ]
  },
  {
   "cell_type": "code",
   "execution_count": 8,
   "metadata": {
    "scrolled": true
   },
   "outputs": [
    {
     "data": {
      "text/plain": [
       "DeepQAgent(\n",
       "    env=<Monitor<TimeLimit<AtariEnv<Breakout-v4>>>>,\n",
       "    downsample=Downsampler(y=(32, 14), x=(8, 8), cut=[142]),\n",
       "    replay_memory_size=0,\n",
       "    agent_history_length=4,\n",
       "    discount_factor=0.99,\n",
       "    update_frequency=4,\n",
       "    optimizer=<keras.optimizers.RMSprop object at 0x10ca15fd0>,\n",
       "    exploration_rate=AnnealingVariable(initial_value=1.0, final_value=0.1, steps=1000000),\n",
       "    null_op_max=30,\n",
       "    null_op=0,\n",
       "    loss=<function huber_loss at 0x11a9840d0>,\n",
       "    image_size=(84, 84),\n",
       "    render_mode='rgb_array'\n",
       ")"
      ]
     },
     "execution_count": 8,
     "metadata": {},
     "output_type": "execute_result"
    }
   ],
   "source": [
    "agent = DeepQAgent(env, downsample_breakout, \n",
    "    replay_memory_size=0,\n",
    "    render_mode='rgb_array'\n",
    ")\n",
    "agent.model.load_weights('./models/dqn/breakout-nondeterministic.h5')\n",
    "agent"
   ]
  },
  {
   "cell_type": "code",
   "execution_count": 9,
   "metadata": {},
   "outputs": [
    {
     "name": "stderr",
     "output_type": "stream",
     "text": [
      "100%|██████████| 100/100 [08:28<00:00,  5.09s/game]\n"
     ]
    },
    {
     "data": {
      "text/plain": [
       "0     19.0\n",
       "1     25.0\n",
       "2     35.0\n",
       "3     35.0\n",
       "4     20.0\n",
       "5     36.0\n",
       "6     33.0\n",
       "7     24.0\n",
       "8     38.0\n",
       "9     23.0\n",
       "10     7.0\n",
       "11    38.0\n",
       "12    37.0\n",
       "13    23.0\n",
       "14    70.0\n",
       "15    18.0\n",
       "16    18.0\n",
       "17    29.0\n",
       "18    32.0\n",
       "19    24.0\n",
       "20    15.0\n",
       "21    25.0\n",
       "22    26.0\n",
       "23    19.0\n",
       "24    41.0\n",
       "25    23.0\n",
       "26    34.0\n",
       "27    31.0\n",
       "28    34.0\n",
       "29    22.0\n",
       "      ... \n",
       "70    29.0\n",
       "71    19.0\n",
       "72    36.0\n",
       "73    35.0\n",
       "74    22.0\n",
       "75    25.0\n",
       "76    29.0\n",
       "77    24.0\n",
       "78    23.0\n",
       "79    17.0\n",
       "80    18.0\n",
       "81    24.0\n",
       "82    31.0\n",
       "83    33.0\n",
       "84    16.0\n",
       "85    21.0\n",
       "86    19.0\n",
       "87    30.0\n",
       "88    26.0\n",
       "89    37.0\n",
       "90    34.0\n",
       "91    34.0\n",
       "92    27.0\n",
       "93    21.0\n",
       "94    35.0\n",
       "95    15.0\n",
       "96    34.0\n",
       "97    17.0\n",
       "98    20.0\n",
       "99    16.0\n",
       "Length: 100, dtype: float64"
      ]
     },
     "execution_count": 9,
     "metadata": {},
     "output_type": "execute_result"
    }
   ],
   "source": [
    "fps = None # 60\n",
    "scores = agent.play(games=100, fps=fps)\n",
    "scores = pd.Series(scores)\n",
    "scores"
   ]
  },
  {
   "cell_type": "code",
   "execution_count": 10,
   "metadata": {},
   "outputs": [
    {
     "data": {
      "text/plain": [
       "27.29"
      ]
     },
     "execution_count": 10,
     "metadata": {},
     "output_type": "execute_result"
    }
   ],
   "source": [
    "scores.mean()"
   ]
  },
  {
   "cell_type": "markdown",
   "metadata": {},
   "source": [
    " "
   ]
  }
 ],
 "metadata": {
  "kernelspec": {
   "display_name": "Python 3",
   "language": "python",
   "name": "python3"
  },
  "language_info": {
   "codemirror_mode": {
    "name": "ipython",
    "version": 3
   },
   "file_extension": ".py",
   "mimetype": "text/x-python",
   "name": "python",
   "nbconvert_exporter": "python",
   "pygments_lexer": "ipython3",
   "version": "3.6.4"
  }
 },
 "nbformat": 4,
 "nbformat_minor": 2
}
