{
 "cells": [
  {
   "cell_type": "code",
   "execution_count": 1,
   "metadata": {},
   "outputs": [],
   "source": [
    "!mkdir -p results results/double_dqn"
   ]
  },
  {
   "cell_type": "code",
   "execution_count": 2,
   "metadata": {},
   "outputs": [],
   "source": [
    "%matplotlib inline\n",
    "import pandas as pd"
   ]
  },
  {
   "cell_type": "code",
   "execution_count": 3,
   "metadata": {},
   "outputs": [],
   "source": [
    "import gym\n",
    "from gym.wrappers import Monitor"
   ]
  },
  {
   "cell_type": "code",
   "execution_count": 4,
   "metadata": {},
   "outputs": [
    {
     "name": "stderr",
     "output_type": "stream",
     "text": [
      "/usr/local/lib/python3.6/site-packages/h5py/__init__.py:36: FutureWarning: Conversion of the second argument of issubdtype from `float` to `np.floating` is deprecated. In future, it will be treated as `np.float64 == np.dtype(float).type`.\n",
      "  from ._conv import register_converters as _register_converters\n",
      "Using TensorFlow backend.\n"
     ]
    }
   ],
   "source": [
    "import base\n",
    "from src.agents import DeepQAgent\n",
    "from src.downsamplers import downsample_breakout"
   ]
  },
  {
   "cell_type": "markdown",
   "metadata": {},
   "source": [
    "# Environment"
   ]
  },
  {
   "cell_type": "code",
   "execution_count": 5,
   "metadata": {},
   "outputs": [],
   "source": [
    "# Deterministic - use a static number of frames for frame skipping\n",
    "# v4 - disable 25% chance of ignoring action and repeating last action\n",
    "env = gym.make('BreakoutDeterministic-v4')\n",
    "env = Monitor(env, './monitor/double_dqn/breakout', force=True)"
   ]
  },
  {
   "cell_type": "code",
   "execution_count": 6,
   "metadata": {},
   "outputs": [
    {
     "data": {
      "text/plain": [
       "Box(210, 160, 3)"
      ]
     },
     "execution_count": 6,
     "metadata": {},
     "output_type": "execute_result"
    }
   ],
   "source": [
    "env.observation_space"
   ]
  },
  {
   "cell_type": "code",
   "execution_count": 7,
   "metadata": {},
   "outputs": [
    {
     "data": {
      "text/plain": [
       "Discrete(4)"
      ]
     },
     "execution_count": 7,
     "metadata": {},
     "output_type": "execute_result"
    }
   ],
   "source": [
    "env.action_space"
   ]
  },
  {
   "cell_type": "markdown",
   "metadata": {},
   "source": [
    "# Agent"
   ]
  },
  {
   "cell_type": "code",
   "execution_count": 8,
   "metadata": {
    "scrolled": true
   },
   "outputs": [
    {
     "data": {
      "text/plain": [
       "DeepQAgent(\n",
       "    env=<Monitor<TimeLimit<AtariEnv<BreakoutDeterministic-v4>>>>,\n",
       "    downsample=Downsampler(y=(32, 14), x=(8, 8), cut=[142]),\n",
       "    replay_memory_size=0,\n",
       "    agent_history_length=4,\n",
       "    discount_factor=0.99,\n",
       "    update_frequency=4,\n",
       "    optimizer=<keras.optimizers.RMSprop object at 0x10a514f98>,\n",
       "    exploration_rate=AnnealingVariable(initial_value=1.0, final_value=0.1, steps=1000000),\n",
       "    null_op_max=30,\n",
       "    null_op=0,\n",
       "    loss=<function huber_loss at 0x118487158>,\n",
       "    image_size=(84, 84),\n",
       "    render_mode='rgb_array'\n",
       ")"
      ]
     },
     "execution_count": 8,
     "metadata": {},
     "output_type": "execute_result"
    }
   ],
   "source": [
    "agent = DeepQAgent(env, downsample_breakout, \n",
    "    replay_memory_size=0,\n",
    "    render_mode='rgb_array'\n",
    ")\n",
    "agent.model.load_weights('./models/double_dqn/breakout.h5')\n",
    "agent"
   ]
  },
  {
   "cell_type": "code",
   "execution_count": 9,
   "metadata": {},
   "outputs": [
    {
     "name": "stderr",
     "output_type": "stream",
     "text": [
      "100%|██████████| 100/100 [06:14<00:00,  3.74s/game]\n"
     ]
    },
    {
     "data": {
      "text/plain": [
       "0     24.0\n",
       "1     25.0\n",
       "2     20.0\n",
       "3     52.0\n",
       "4     39.0\n",
       "5     51.0\n",
       "6     10.0\n",
       "7     55.0\n",
       "8     20.0\n",
       "9     19.0\n",
       "10    13.0\n",
       "11    17.0\n",
       "12    30.0\n",
       "13    23.0\n",
       "14     4.0\n",
       "15    18.0\n",
       "16    20.0\n",
       "17    20.0\n",
       "18    24.0\n",
       "19    14.0\n",
       "20    27.0\n",
       "21    47.0\n",
       "22    14.0\n",
       "23    11.0\n",
       "24    46.0\n",
       "25    23.0\n",
       "26    15.0\n",
       "27     5.0\n",
       "28    19.0\n",
       "29     6.0\n",
       "      ... \n",
       "70    16.0\n",
       "71    18.0\n",
       "72    31.0\n",
       "73    28.0\n",
       "74    18.0\n",
       "75    21.0\n",
       "76    29.0\n",
       "77    59.0\n",
       "78     7.0\n",
       "79    17.0\n",
       "80    31.0\n",
       "81    18.0\n",
       "82    70.0\n",
       "83    32.0\n",
       "84    34.0\n",
       "85    23.0\n",
       "86    17.0\n",
       "87    33.0\n",
       "88    14.0\n",
       "89    23.0\n",
       "90    28.0\n",
       "91    25.0\n",
       "92    22.0\n",
       "93    28.0\n",
       "94    29.0\n",
       "95     3.0\n",
       "96    16.0\n",
       "97    16.0\n",
       "98    39.0\n",
       "99    24.0\n",
       "Length: 100, dtype: float64"
      ]
     },
     "execution_count": 9,
     "metadata": {},
     "output_type": "execute_result"
    }
   ],
   "source": [
    "fps = None # 60\n",
    "scores = agent.play(games=100, fps=fps)\n",
    "scores = pd.Series(scores)\n",
    "scores"
   ]
  },
  {
   "cell_type": "code",
   "execution_count": 10,
   "metadata": {},
   "outputs": [
    {
     "data": {
      "text/plain": [
       "25.71"
      ]
     },
     "execution_count": 10,
     "metadata": {},
     "output_type": "execute_result"
    }
   ],
   "source": [
    "scores.mean()"
   ]
  },
  {
   "cell_type": "markdown",
   "metadata": {},
   "source": [
    " "
   ]
  }
 ],
 "metadata": {
  "kernelspec": {
   "display_name": "Python 3",
   "language": "python",
   "name": "python3"
  },
  "language_info": {
   "codemirror_mode": {
    "name": "ipython",
    "version": 3
   },
   "file_extension": ".py",
   "mimetype": "text/x-python",
   "name": "python",
   "nbconvert_exporter": "python",
   "pygments_lexer": "ipython3",
   "version": "3.6.4"
  }
 },
 "nbformat": 4,
 "nbformat_minor": 2
}
