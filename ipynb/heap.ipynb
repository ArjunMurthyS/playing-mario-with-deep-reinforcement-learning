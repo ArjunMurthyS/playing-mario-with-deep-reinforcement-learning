{
 "cells": [
  {
   "cell_type": "code",
   "execution_count": 1,
   "metadata": {},
   "outputs": [],
   "source": [
    "from heapq import heappush, heappop"
   ]
  },
  {
   "cell_type": "code",
   "execution_count": 2,
   "metadata": {},
   "outputs": [],
   "source": [
    "heap = []"
   ]
  },
  {
   "cell_type": "code",
   "execution_count": 3,
   "metadata": {},
   "outputs": [],
   "source": [
    "heappush(heap, (1, 'top'))\n",
    "heappush(heap, (2, 'topish'))\n",
    "heappush(heap, (3, 'bottomish'))\n",
    "heappush(heap, (4, 'bottom'))"
   ]
  },
  {
   "cell_type": "code",
   "execution_count": 4,
   "metadata": {},
   "outputs": [
    {
     "data": {
      "text/plain": [
       "[(1, 'top'), (2, 'topish'), (3, 'bottomish'), (4, 'bottom')]"
      ]
     },
     "execution_count": 4,
     "metadata": {},
     "output_type": "execute_result"
    }
   ],
   "source": [
    "heap"
   ]
  },
  {
   "cell_type": "code",
   "execution_count": 6,
   "metadata": {},
   "outputs": [
    {
     "data": {
      "text/plain": [
       "[(1, 'top'), (2, 'topish'), (3, 'bottomish'), (4, 'bottom')]"
      ]
     },
     "execution_count": 6,
     "metadata": {},
     "output_type": "execute_result"
    }
   ],
   "source": [
    "heap[:32]"
   ]
  },
  {
   "cell_type": "code",
   "execution_count": null,
   "metadata": {},
   "outputs": [],
   "source": []
  },
  {
   "cell_type": "code",
   "execution_count": 13,
   "metadata": {},
   "outputs": [],
   "source": [
    "heap = []"
   ]
  },
  {
   "cell_type": "code",
   "execution_count": 15,
   "metadata": {},
   "outputs": [],
   "source": [
    "for i in range(64):\n",
    "    heappush(heap, (i, 1 / (i + 0.000001)))"
   ]
  },
  {
   "cell_type": "code",
   "execution_count": 16,
   "metadata": {},
   "outputs": [
    {
     "data": {
      "text/plain": [
       "[(0, 1000000.0),\n",
       " (1, 0.9999990000010001),\n",
       " (2, 0.499999750000125),\n",
       " (3, 0.33333322222225925),\n",
       " (4, 0.24999993750001562),\n",
       " (5, 0.199999960000008),\n",
       " (6, 0.16666663888889352),\n",
       " (7, 0.1428571224489825),\n",
       " (8, 0.12499998437500197),\n",
       " (9, 0.11111109876543349),\n",
       " (10, 0.09999999000000101),\n",
       " (11, 0.09090908264462885),\n",
       " (12, 0.08333332638888948),\n",
       " (13, 0.07692307100591762),\n",
       " (14, 0.07142856632653098),\n",
       " (15, 0.06666666222222252),\n",
       " (16, 0.06249999609375024),\n",
       " (17, 0.05882352595155729),\n",
       " (18, 0.055555552469135974),\n",
       " (19, 0.05263157617728546),\n",
       " (20, 0.04999999750000012),\n",
       " (21, 0.04761904535147403),\n",
       " (22, 0.045454543388429844),\n",
       " (23, 0.04347825897920613),\n",
       " (24, 0.041666664930555625),\n",
       " (25, 0.03999999840000006),\n",
       " (26, 0.03846153698224858),\n",
       " (27, 0.037037035665294975),\n",
       " (28, 0.035714284438775556),\n",
       " (29, 0.034482757431629055),\n",
       " (30, 0.033333332222222255),\n",
       " (31, 0.032258063475546335),\n",
       " (32, 0.031249999023437534),\n",
       " (33, 0.030303029384756687),\n",
       " (34, 0.02941176384083048),\n",
       " (35, 0.028571427755102068),\n",
       " (36, 0.027777777006172864),\n",
       " (37, 0.027027026296566857),\n",
       " (38, 0.026315788781163457),\n",
       " (39, 0.025641024983563465),\n",
       " (40, 0.024999999375000016),\n",
       " (41, 0.024390243307555043),\n",
       " (42, 0.0238095232426304),\n",
       " (43, 0.023255813412655504),\n",
       " (44, 0.022727272210743815),\n",
       " (45, 0.022222221728395074),\n",
       " (46, 0.02173912996219283),\n",
       " (47, 0.021276595291987336),\n",
       " (48, 0.020833332899305567),\n",
       " (49, 0.020408162848813003),\n",
       " (50, 0.01999999960000001),\n",
       " (51, 0.0196078427527874),\n",
       " (52, 0.019230768860946754),\n",
       " (53, 0.01886792417230332),\n",
       " (54, 0.018518518175582997),\n",
       " (55, 0.018181817851239675),\n",
       " (56, 0.017857142538265314),\n",
       " (57, 0.017543859341335802),\n",
       " (58, 0.017241379013079674),\n",
       " (59, 0.016949152255099114),\n",
       " (60, 0.016666666388888893),\n",
       " (61, 0.016393442354205864),\n",
       " (62, 0.01612903199791884),\n",
       " (63, 0.015873015621063243)]"
      ]
     },
     "execution_count": 16,
     "metadata": {},
     "output_type": "execute_result"
    }
   ],
   "source": [
    "heap"
   ]
  },
  {
   "cell_type": "code",
   "execution_count": 18,
   "metadata": {},
   "outputs": [
    {
     "data": {
      "text/plain": [
       "[1000000.0,\n",
       " 0.9999990000010001,\n",
       " 0.499999750000125,\n",
       " 0.33333322222225925,\n",
       " 0.24999993750001562,\n",
       " 0.199999960000008,\n",
       " 0.16666663888889352,\n",
       " 0.1428571224489825,\n",
       " 0.12499998437500197,\n",
       " 0.11111109876543349,\n",
       " 0.09999999000000101,\n",
       " 0.09090908264462885,\n",
       " 0.08333332638888948,\n",
       " 0.07692307100591762,\n",
       " 0.07142856632653098,\n",
       " 0.06666666222222252,\n",
       " 0.06249999609375024,\n",
       " 0.05882352595155729,\n",
       " 0.055555552469135974,\n",
       " 0.05263157617728546,\n",
       " 0.04999999750000012,\n",
       " 0.04761904535147403,\n",
       " 0.045454543388429844,\n",
       " 0.04347825897920613,\n",
       " 0.041666664930555625,\n",
       " 0.03999999840000006,\n",
       " 0.03846153698224858,\n",
       " 0.037037035665294975,\n",
       " 0.035714284438775556,\n",
       " 0.034482757431629055,\n",
       " 0.033333332222222255,\n",
       " 0.032258063475546335]"
      ]
     },
     "execution_count": 18,
     "metadata": {},
     "output_type": "execute_result"
    }
   ],
   "source": [
    "[x[1] for x in heap[:32]]"
   ]
  },
  {
   "cell_type": "code",
   "execution_count": 172,
   "metadata": {},
   "outputs": [],
   "source": [
    "\"\"\"A priority queue for storing previous experiences to sample from.\"\"\"\n",
    "from heapq import heappush, heappushpop\n",
    "import numpy as np\n",
    "\n",
    "\n",
    "class PrioritizedReplayQueue(object):\n",
    "    \"\"\"A prioritized replay queue for replaying previous experiences.\"\"\"\n",
    "\n",
    "    def __init__(self, size: int) -> None:\n",
    "        \"\"\"\n",
    "        Initialize a new prioritized replay buffer with a given size.\n",
    "\n",
    "        Args:\n",
    "            size: the max number of experiences to store in the queue\n",
    "\n",
    "        Returns:\n",
    "            None\n",
    "\n",
    "        \"\"\"\n",
    "        # type check the size parameter\n",
    "        if not isinstance(size, int):\n",
    "            raise TypeError('`size` must be of type int')\n",
    "        # ensure the size is within a legal range of values\n",
    "        if size <= 0:\n",
    "            raise ValueError('`size` must be > 0')\n",
    "        self.size = size\n",
    "        # initialize the priority queue as a heap\n",
    "        self.heap = []\n",
    "\n",
    "    def __repr__(self) -> str:\n",
    "        \"\"\"Return an executable string representation of priority queue.\"\"\"\n",
    "        return '{}(size={})'.format(self.__class__.__name__, self.size)\n",
    "\n",
    "    def push(self,\n",
    "        s: np.ndarray,\n",
    "        a: int,\n",
    "        r: int,\n",
    "        d: bool,\n",
    "        s2: np.ndarray,\n",
    "        priority: float\n",
    "    ) -> None:\n",
    "        \"\"\"\n",
    "        Push a new experience onto the queue.\n",
    "\n",
    "        Args:\n",
    "            s: the current state\n",
    "            a: the action to get from current state `s` to next state `s2`\n",
    "            r: the reward resulting from taking action `a` in state `s`\n",
    "            d: the flag denoting whether the episode ended after action `a`\n",
    "            s2: the next state from taking action `a` in state `s`\n",
    "            priority: the priority of the item to push to the queue\n",
    "\n",
    "        Returns:\n",
    "            None\n",
    "\n",
    "        \"\"\"\n",
    "        # if the heap has arrived at capacity, use push pop to add new items\n",
    "        if len(self.heap) == self.size:\n",
    "            heappushpop(self.heap, (priority, (s, a, r, d, s2)))\n",
    "        # otherwise heap push the item onto the queue\n",
    "        else:\n",
    "            heappush(self.heap, (priority, (s, a, r, d, s2)))\n",
    "\n",
    "    def sample(self, size: int=32) -> bool:\n",
    "        \"\"\"\n",
    "        Return a random sample of items from the queue.\n",
    "\n",
    "        Args:\n",
    "            size: the number of items to sample and return\n",
    "\n",
    "        Returns:\n",
    "            A random sample from the queue sampled uniformly\n",
    "\n",
    "        \"\"\"\n",
    "        # extract a sample from the heap (priorities are in increasing order)\n",
    "        # i.e. the lowest priority value is the first item in the sample\n",
    "        sample_batch = [x[1] for x in self.heap[-size:]]\n",
    "        # initialize lists for each component of the batch\n",
    "        s = [None] * len(sample_batch)\n",
    "        a = [None] * len(sample_batch)\n",
    "        r = [None] * len(sample_batch)\n",
    "        d = [None] * len(sample_batch)\n",
    "        s2 = [None] * len(sample_batch)\n",
    "        # iterate over the indexes and copy references to the arrays\n",
    "        for batch, sample in enumerate(sample_batch):\n",
    "            _s, _a, _r, _d, _s2 = sample\n",
    "            s[batch] = np.array(_s, copy=False)\n",
    "            a[batch] = _a\n",
    "            r[batch] = _r\n",
    "            d[batch] = _d\n",
    "            s2[batch] = np.array(_s2, copy=False)\n",
    "        # convert the lists to arrays for returning for training\n",
    "        return (\n",
    "            np.array(s),\n",
    "            np.array(a, dtype=np.uint8),\n",
    "            np.array(r, dtype=np.int8),\n",
    "            np.array(d, dtype=np.bool),\n",
    "            np.array(s2),\n",
    "        )\n",
    "\n",
    "\n",
    "# explicitly define the outward facing API of this module\n",
    "__all__ = [PrioritizedReplayQueue.__name__]\n"
   ]
  },
  {
   "cell_type": "code",
   "execution_count": 195,
   "metadata": {},
   "outputs": [],
   "source": [
    "q = PrioritizedReplayQueue(10)"
   ]
  },
  {
   "cell_type": "code",
   "execution_count": 196,
   "metadata": {},
   "outputs": [],
   "source": [
    "def random_tuple():\n",
    "    s = np.random.random((1, 1, 4))\n",
    "    a = np.random.randint(low=0, high=10)\n",
    "    r = np.random.random() * 100\n",
    "    d = bool(np.random.randint(low=0, high=2))\n",
    "    s2 = np.random.random((1, 1, 4))\n",
    "    return s, a, r, d, s2"
   ]
  },
  {
   "cell_type": "code",
   "execution_count": 197,
   "metadata": {},
   "outputs": [],
   "source": [
    "for i in range(1, 20):\n",
    "    q.push(*random_tuple(), priority=i)"
   ]
  },
  {
   "cell_type": "code",
   "execution_count": 198,
   "metadata": {},
   "outputs": [
    {
     "data": {
      "text/plain": [
       "10"
      ]
     },
     "execution_count": 198,
     "metadata": {},
     "output_type": "execute_result"
    }
   ],
   "source": [
    "len(q.heap)"
   ]
  },
  {
   "cell_type": "code",
   "execution_count": 199,
   "metadata": {},
   "outputs": [
    {
     "data": {
      "text/plain": [
       "[(10,\n",
       "  (array([[[0.89768666, 0.08018801, 0.10921835, 0.13151239]]]),\n",
       "   6,\n",
       "   34.49071486953673,\n",
       "   True,\n",
       "   array([[[0.10291338, 0.20737608, 0.52643718, 0.8765454 ]]]))),\n",
       " (11,\n",
       "  (array([[[0.94195482, 0.16278842, 0.79449866, 0.07406484]]]),\n",
       "   1,\n",
       "   19.151353247570658,\n",
       "   False,\n",
       "   array([[[0.63640296, 0.07241644, 0.85594163, 0.56062317]]]))),\n",
       " (12,\n",
       "  (array([[[0.64947839, 0.56147468, 0.37459193, 0.92035482]]]),\n",
       "   7,\n",
       "   57.504834137531304,\n",
       "   False,\n",
       "   array([[[0.92825072, 0.49151014, 0.10880605, 0.86987566]]]))),\n",
       " (14,\n",
       "  (array([[[0.39882194, 0.37802063, 0.81945337, 0.39264481]]]),\n",
       "   1,\n",
       "   87.73986609079458,\n",
       "   True,\n",
       "   array([[[0.80591086, 0.20331002, 0.44784248, 0.66413382]]]))),\n",
       " (13,\n",
       "  (array([[[0.93978472, 0.22903392, 0.96407705, 0.74970004]]]),\n",
       "   0,\n",
       "   3.08778315365269,\n",
       "   True,\n",
       "   array([[[0.39237506, 0.56643398, 0.07347348, 0.73485008]]]))),\n",
       " (16,\n",
       "  (array([[[0.5586956 , 0.70812655, 0.97536463, 0.00831798]]]),\n",
       "   5,\n",
       "   21.072053867938244,\n",
       "   True,\n",
       "   array([[[0.81476428, 0.87760079, 0.76452989, 0.71162329]]]))),\n",
       " (15,\n",
       "  (array([[[0.2539993 , 0.97002454, 0.55672638, 0.64779817]]]),\n",
       "   0,\n",
       "   30.758564556266098,\n",
       "   False,\n",
       "   array([[[0.72156479, 0.8033102 , 0.14247161, 0.48794647]]]))),\n",
       " (17,\n",
       "  (array([[[0.60129811, 0.50520402, 0.49664635, 0.36332866]]]),\n",
       "   3,\n",
       "   55.1037431615202,\n",
       "   False,\n",
       "   array([[[0.76395245, 0.23939793, 0.40208338, 0.61407713]]]))),\n",
       " (19,\n",
       "  (array([[[0.34308517, 0.26919868, 0.83251812, 0.59681577]]]),\n",
       "   1,\n",
       "   18.58592636330113,\n",
       "   False,\n",
       "   array([[[0.28542885, 0.42125413, 0.84564135, 0.2590048 ]]]))),\n",
       " (18,\n",
       "  (array([[[0.84523251, 0.29486836, 0.07159574, 0.98895607]]]),\n",
       "   4,\n",
       "   16.412535200205603,\n",
       "   True,\n",
       "   array([[[0.78238487, 0.49850343, 0.53255337, 0.59578296]]])))]"
      ]
     },
     "execution_count": 199,
     "metadata": {},
     "output_type": "execute_result"
    }
   ],
   "source": [
    "q.heap"
   ]
  },
  {
   "cell_type": "code",
   "execution_count": 200,
   "metadata": {},
   "outputs": [],
   "source": [
    "s, a, r, d, s2 = q.sample(5)"
   ]
  },
  {
   "cell_type": "code",
   "execution_count": 201,
   "metadata": {},
   "outputs": [
    {
     "data": {
      "text/plain": [
       "array([[[[0.5586956 , 0.70812655, 0.97536463, 0.00831798]]],\n",
       "\n",
       "\n",
       "       [[[0.2539993 , 0.97002454, 0.55672638, 0.64779817]]],\n",
       "\n",
       "\n",
       "       [[[0.60129811, 0.50520402, 0.49664635, 0.36332866]]],\n",
       "\n",
       "\n",
       "       [[[0.34308517, 0.26919868, 0.83251812, 0.59681577]]],\n",
       "\n",
       "\n",
       "       [[[0.84523251, 0.29486836, 0.07159574, 0.98895607]]]])"
      ]
     },
     "execution_count": 201,
     "metadata": {},
     "output_type": "execute_result"
    }
   ],
   "source": [
    "s"
   ]
  },
  {
   "cell_type": "code",
   "execution_count": 202,
   "metadata": {},
   "outputs": [
    {
     "data": {
      "text/plain": [
       "array([5, 0, 3, 1, 4], dtype=uint8)"
      ]
     },
     "execution_count": 202,
     "metadata": {},
     "output_type": "execute_result"
    }
   ],
   "source": [
    "a"
   ]
  },
  {
   "cell_type": "code",
   "execution_count": 203,
   "metadata": {},
   "outputs": [
    {
     "data": {
      "text/plain": [
       "array([21, 30, 55, 18, 16], dtype=int8)"
      ]
     },
     "execution_count": 203,
     "metadata": {},
     "output_type": "execute_result"
    }
   ],
   "source": [
    "r"
   ]
  },
  {
   "cell_type": "code",
   "execution_count": 204,
   "metadata": {},
   "outputs": [
    {
     "data": {
      "text/plain": [
       "array([ True, False, False, False,  True])"
      ]
     },
     "execution_count": 204,
     "metadata": {},
     "output_type": "execute_result"
    }
   ],
   "source": [
    "d"
   ]
  },
  {
   "cell_type": "code",
   "execution_count": 205,
   "metadata": {},
   "outputs": [
    {
     "data": {
      "text/plain": [
       "array([[[[0.81476428, 0.87760079, 0.76452989, 0.71162329]]],\n",
       "\n",
       "\n",
       "       [[[0.72156479, 0.8033102 , 0.14247161, 0.48794647]]],\n",
       "\n",
       "\n",
       "       [[[0.76395245, 0.23939793, 0.40208338, 0.61407713]]],\n",
       "\n",
       "\n",
       "       [[[0.28542885, 0.42125413, 0.84564135, 0.2590048 ]]],\n",
       "\n",
       "\n",
       "       [[[0.78238487, 0.49850343, 0.53255337, 0.59578296]]]])"
      ]
     },
     "execution_count": 205,
     "metadata": {},
     "output_type": "execute_result"
    }
   ],
   "source": [
    "s2"
   ]
  },
  {
   "cell_type": "code",
   "execution_count": null,
   "metadata": {},
   "outputs": [],
   "source": []
  }
 ],
 "metadata": {
  "kernelspec": {
   "display_name": "Python 3",
   "language": "python",
   "name": "python3"
  },
  "language_info": {
   "codemirror_mode": {
    "name": "ipython",
    "version": 3
   },
   "file_extension": ".py",
   "mimetype": "text/x-python",
   "name": "python",
   "nbconvert_exporter": "python",
   "pygments_lexer": "ipython3",
   "version": "3.5.2"
  }
 },
 "nbformat": 4,
 "nbformat_minor": 2
}
