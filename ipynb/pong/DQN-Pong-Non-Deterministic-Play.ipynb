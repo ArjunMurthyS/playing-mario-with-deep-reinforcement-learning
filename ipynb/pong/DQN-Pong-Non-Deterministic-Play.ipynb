{
 "cells": [
  {
   "cell_type": "code",
   "execution_count": 1,
   "metadata": {},
   "outputs": [],
   "source": [
    "!mkdir -p results results/dqn"
   ]
  },
  {
   "cell_type": "code",
   "execution_count": 2,
   "metadata": {},
   "outputs": [],
   "source": [
    "%matplotlib inline\n",
    "import pandas as pd"
   ]
  },
  {
   "cell_type": "code",
   "execution_count": 3,
   "metadata": {},
   "outputs": [],
   "source": [
    "import gym\n",
    "from gym.wrappers import Monitor"
   ]
  },
  {
   "cell_type": "code",
   "execution_count": 4,
   "metadata": {},
   "outputs": [
    {
     "name": "stderr",
     "output_type": "stream",
     "text": [
      "/usr/local/lib/python3.5/dist-packages/h5py/__init__.py:36: FutureWarning: Conversion of the second argument of issubdtype from `float` to `np.floating` is deprecated. In future, it will be treated as `np.float64 == np.dtype(float).type`.\n",
      "  from ._conv import register_converters as _register_converters\n",
      "Using TensorFlow backend.\n"
     ]
    }
   ],
   "source": [
    "import base\n",
    "from src.agents import DeepQAgent\n",
    "from src.downsamplers import downsample_pong"
   ]
  },
  {
   "cell_type": "markdown",
   "metadata": {},
   "source": [
    "# Environment"
   ]
  },
  {
   "cell_type": "code",
   "execution_count": 5,
   "metadata": {},
   "outputs": [],
   "source": [
    "env = gym.make('Pong-v4')\n",
    "env = Monitor(env, './monitor/dqn/pong-non-deterministic', force=True)"
   ]
  },
  {
   "cell_type": "code",
   "execution_count": 6,
   "metadata": {},
   "outputs": [
    {
     "data": {
      "text/plain": [
       "Box(210, 160, 3)"
      ]
     },
     "execution_count": 6,
     "metadata": {},
     "output_type": "execute_result"
    }
   ],
   "source": [
    "env.observation_space"
   ]
  },
  {
   "cell_type": "code",
   "execution_count": 7,
   "metadata": {},
   "outputs": [
    {
     "data": {
      "text/plain": [
       "Discrete(6)"
      ]
     },
     "execution_count": 7,
     "metadata": {},
     "output_type": "execute_result"
    }
   ],
   "source": [
    "env.action_space"
   ]
  },
  {
   "cell_type": "markdown",
   "metadata": {},
   "source": [
    "# Agent"
   ]
  },
  {
   "cell_type": "code",
   "execution_count": 8,
   "metadata": {
    "scrolled": true
   },
   "outputs": [
    {
     "data": {
      "text/plain": [
       "DeepQAgent(\n",
       "    env=<Monitor<TimeLimit<AtariEnv<Pong-v4>>>>,\n",
       "    downsample=Downsampler(y=(34, 16), x=(15, 15), cut=[107, 87]),\n",
       "    replay_memory_size=0,\n",
       "    agent_history_length=4,\n",
       "    discount_factor=0.99,\n",
       "    update_frequency=4,\n",
       "    optimizer=<keras.optimizers.Adam object at 0x7f6061096eb8>,\n",
       "    exploration_rate=AnnealingVariable(initial_value=1.0, final_value=0.1, steps=1000000),\n",
       "    null_op_max=30,\n",
       "    null_op=0,\n",
       "    loss=<function huber_loss at 0x7f601a0591e0>,\n",
       "    image_size=(84, 84),\n",
       "    render_mode='human'\n",
       ")"
      ]
     },
     "execution_count": 8,
     "metadata": {},
     "output_type": "execute_result"
    }
   ],
   "source": [
    "agent = DeepQAgent(env, downsample_pong, replay_memory_size=0)\n",
    "agent.model.load_weights('./models/dqn/pong-nondeterministic.h5')\n",
    "agent"
   ]
  },
  {
   "cell_type": "code",
   "execution_count": 9,
   "metadata": {},
   "outputs": [
    {
     "name": "stderr",
     "output_type": "stream",
     "text": [
      "100%|██████████| 100/100 [14:32<00:00,  8.72s/game]\n"
     ]
    },
    {
     "data": {
      "text/plain": [
       "0     13.0\n",
       "1      4.0\n",
       "2      3.0\n",
       "3     11.0\n",
       "4      6.0\n",
       "5      7.0\n",
       "6      6.0\n",
       "7     10.0\n",
       "8     -1.0\n",
       "9      0.0\n",
       "10     9.0\n",
       "11    10.0\n",
       "12    12.0\n",
       "13     7.0\n",
       "14     8.0\n",
       "15    -3.0\n",
       "16    10.0\n",
       "17     4.0\n",
       "18    11.0\n",
       "19    11.0\n",
       "20     6.0\n",
       "21    13.0\n",
       "22     7.0\n",
       "23     8.0\n",
       "24    13.0\n",
       "25    12.0\n",
       "26    11.0\n",
       "27     8.0\n",
       "28     4.0\n",
       "29    15.0\n",
       "      ... \n",
       "70     4.0\n",
       "71    10.0\n",
       "72     8.0\n",
       "73     8.0\n",
       "74    16.0\n",
       "75    11.0\n",
       "76     6.0\n",
       "77    -9.0\n",
       "78     8.0\n",
       "79     9.0\n",
       "80    11.0\n",
       "81     8.0\n",
       "82     8.0\n",
       "83     7.0\n",
       "84    10.0\n",
       "85     4.0\n",
       "86     6.0\n",
       "87    10.0\n",
       "88     8.0\n",
       "89    10.0\n",
       "90    12.0\n",
       "91    -2.0\n",
       "92    11.0\n",
       "93    18.0\n",
       "94    13.0\n",
       "95     8.0\n",
       "96     3.0\n",
       "97    14.0\n",
       "98     5.0\n",
       "99     7.0\n",
       "Length: 100, dtype: float64"
      ]
     },
     "execution_count": 9,
     "metadata": {},
     "output_type": "execute_result"
    }
   ],
   "source": [
    "fps = None # 60\n",
    "scores = agent.play(games=100, fps=fps)\n",
    "scores = pd.Series(scores)\n",
    "scores"
   ]
  },
  {
   "cell_type": "code",
   "execution_count": 10,
   "metadata": {},
   "outputs": [],
   "source": [
    "scores.to_csv('results/dqn/non-deterministic.csv')"
   ]
  },
  {
   "cell_type": "code",
   "execution_count": 11,
   "metadata": {},
   "outputs": [
    {
     "data": {
      "image/png": "[encoded data removed]",
      "text/plain": [
       "<matplotlib.figure.Figure at 0x7f6013f59cf8>"
      ]
     },
     "metadata": {},
     "output_type": "display_data"
    }
   ],
   "source": [
    "_ = scores.hist()"
   ]
  },
  {
   "cell_type": "code",
   "execution_count": 12,
   "metadata": {},
   "outputs": [
    {
     "data": {
      "text/plain": [
       "count    100.000000\n",
       "mean       8.040000\n",
       "std        4.254338\n",
       "min       -9.000000\n",
       "25%        6.000000\n",
       "50%        8.000000\n",
       "75%       11.000000\n",
       "max       18.000000\n",
       "dtype: float64"
      ]
     },
     "execution_count": 12,
     "metadata": {},
     "output_type": "execute_result"
    }
   ],
   "source": [
    "scores.describe()"
   ]
  },
  {
   "cell_type": "markdown",
   "metadata": {},
   "source": [
    " "
   ]
  }
 ],
 "metadata": {
  "kernelspec": {
   "display_name": "Python 3",
   "language": "python",
   "name": "python3"
  },
  "language_info": {
   "codemirror_mode": {
    "name": "ipython",
    "version": 3
   },
   "file_extension": ".py",
   "mimetype": "text/x-python",
   "name": "python",
   "nbconvert_exporter": "python",
   "pygments_lexer": "ipython3",
   "version": "3.5.2"
  }
 },
 "nbformat": 4,
 "nbformat_minor": 2
}
