{
 "cells": [
  {
   "cell_type": "code",
   "execution_count": 1,
   "metadata": {},
   "outputs": [],
   "source": [
    "!mkdir -p results results/random"
   ]
  },
  {
   "cell_type": "code",
   "execution_count": 2,
   "metadata": {},
   "outputs": [],
   "source": [
    "%matplotlib inline\n",
    "import pandas as pd"
   ]
  },
  {
   "cell_type": "code",
   "execution_count": 3,
   "metadata": {},
   "outputs": [],
   "source": [
    "import gym\n",
    "from gym.wrappers import Monitor"
   ]
  },
  {
   "cell_type": "code",
   "execution_count": 4,
   "metadata": {},
   "outputs": [
    {
     "name": "stderr",
     "output_type": "stream",
     "text": [
      "/usr/local/lib/python3.6/site-packages/h5py/__init__.py:36: FutureWarning: Conversion of the second argument of issubdtype from `float` to `np.floating` is deprecated. In future, it will be treated as `np.float64 == np.dtype(float).type`.\n",
      "  from ._conv import register_converters as _register_converters\n",
      "Using TensorFlow backend.\n"
     ]
    }
   ],
   "source": [
    "import base\n",
    "from src.agents import RandomAgent"
   ]
  },
  {
   "cell_type": "markdown",
   "metadata": {},
   "source": [
    "# Environment"
   ]
  },
  {
   "cell_type": "code",
   "execution_count": 5,
   "metadata": {},
   "outputs": [],
   "source": [
    "env = gym.make('Pong-v4')\n",
    "env = Monitor(env, './monitor/random/nondeterministic', force=True)"
   ]
  },
  {
   "cell_type": "code",
   "execution_count": 6,
   "metadata": {},
   "outputs": [
    {
     "data": {
      "text/plain": [
       "Box(210, 160, 3)"
      ]
     },
     "execution_count": 6,
     "metadata": {},
     "output_type": "execute_result"
    }
   ],
   "source": [
    "env.observation_space"
   ]
  },
  {
   "cell_type": "code",
   "execution_count": 7,
   "metadata": {},
   "outputs": [
    {
     "data": {
      "text/plain": [
       "Discrete(6)"
      ]
     },
     "execution_count": 7,
     "metadata": {},
     "output_type": "execute_result"
    }
   ],
   "source": [
    "env.action_space"
   ]
  },
  {
   "cell_type": "markdown",
   "metadata": {},
   "source": [
    "# Agent"
   ]
  },
  {
   "cell_type": "code",
   "execution_count": 8,
   "metadata": {
    "scrolled": true
   },
   "outputs": [
    {
     "data": {
      "text/plain": [
       "RandomAgent(env=<Monitor<TimeLimit<AtariEnv<Pong-v4>>>>, render_mode=rgb_array)"
      ]
     },
     "execution_count": 8,
     "metadata": {},
     "output_type": "execute_result"
    }
   ],
   "source": [
    "agent = RandomAgent(env, render_mode='rgb_array')\n",
    "agent"
   ]
  },
  {
   "cell_type": "code",
   "execution_count": 9,
   "metadata": {},
   "outputs": [
    {
     "name": "stderr",
     "output_type": "stream",
     "text": [
      "100%|██████████| 100/100 [02:02<00:00,  1.23s/game]\n"
     ]
    },
    {
     "data": {
      "text/plain": [
       "0    -20.0\n",
       "1    -21.0\n",
       "2    -19.0\n",
       "3    -21.0\n",
       "4    -21.0\n",
       "5    -20.0\n",
       "6    -21.0\n",
       "7    -21.0\n",
       "8    -18.0\n",
       "9    -21.0\n",
       "10   -20.0\n",
       "11   -19.0\n",
       "12   -20.0\n",
       "13   -21.0\n",
       "14   -21.0\n",
       "15   -20.0\n",
       "16   -21.0\n",
       "17   -21.0\n",
       "18   -21.0\n",
       "19   -21.0\n",
       "20   -20.0\n",
       "21   -20.0\n",
       "22   -21.0\n",
       "23   -19.0\n",
       "24   -20.0\n",
       "25   -20.0\n",
       "26   -20.0\n",
       "27   -20.0\n",
       "28   -21.0\n",
       "29   -19.0\n",
       "      ... \n",
       "70   -21.0\n",
       "71   -21.0\n",
       "72   -21.0\n",
       "73   -19.0\n",
       "74   -21.0\n",
       "75   -18.0\n",
       "76   -21.0\n",
       "77   -21.0\n",
       "78   -19.0\n",
       "79   -20.0\n",
       "80   -21.0\n",
       "81   -21.0\n",
       "82   -20.0\n",
       "83   -21.0\n",
       "84   -20.0\n",
       "85   -21.0\n",
       "86   -21.0\n",
       "87   -20.0\n",
       "88   -21.0\n",
       "89   -18.0\n",
       "90   -21.0\n",
       "91   -20.0\n",
       "92   -20.0\n",
       "93   -20.0\n",
       "94   -20.0\n",
       "95   -20.0\n",
       "96   -21.0\n",
       "97   -20.0\n",
       "98   -20.0\n",
       "99   -21.0\n",
       "Length: 100, dtype: float64"
      ]
     },
     "execution_count": 9,
     "metadata": {},
     "output_type": "execute_result"
    }
   ],
   "source": [
    "fps = None # 60\n",
    "scores = agent.play(games=100, fps=fps)\n",
    "scores = pd.Series(scores)\n",
    "scores"
   ]
  },
  {
   "cell_type": "code",
   "execution_count": 10,
   "metadata": {},
   "outputs": [],
   "source": [
    "scores.to_csv('results/random/non-deterministic.csv')"
   ]
  },
  {
   "cell_type": "code",
   "execution_count": 11,
   "metadata": {},
   "outputs": [
    {
     "data": {
      "image/png": "[encoded data removed]",
      "text/plain": [
       "<matplotlib.figure.Figure at 0x119d52f98>"
      ]
     },
     "metadata": {},
     "output_type": "display_data"
    }
   ],
   "source": [
    "_ = scores.hist()"
   ]
  },
  {
   "cell_type": "code",
   "execution_count": 12,
   "metadata": {},
   "outputs": [
    {
     "data": {
      "text/plain": [
       "count    100.000000\n",
       "mean     -20.260000\n",
       "std        0.860115\n",
       "min      -21.000000\n",
       "25%      -21.000000\n",
       "50%      -20.000000\n",
       "75%      -20.000000\n",
       "max      -18.000000\n",
       "dtype: float64"
      ]
     },
     "execution_count": 12,
     "metadata": {},
     "output_type": "execute_result"
    }
   ],
   "source": [
    "scores.describe()"
   ]
  },
  {
   "cell_type": "markdown",
   "metadata": {},
   "source": [
    " "
   ]
  }
 ],
 "metadata": {
  "kernelspec": {
   "display_name": "Python 3",
   "language": "python",
   "name": "python3"
  },
  "language_info": {
   "codemirror_mode": {
    "name": "ipython",
    "version": 3
   },
   "file_extension": ".py",
   "mimetype": "text/x-python",
   "name": "python",
   "nbconvert_exporter": "python",
   "pygments_lexer": "ipython3",
   "version": "3.6.4"
  }
 },
 "nbformat": 4,
 "nbformat_minor": 2
}
