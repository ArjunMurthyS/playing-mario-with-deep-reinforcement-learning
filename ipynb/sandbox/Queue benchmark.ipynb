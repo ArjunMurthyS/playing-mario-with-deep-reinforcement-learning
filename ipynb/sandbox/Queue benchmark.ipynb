{
 "cells": [
  {
   "cell_type": "code",
   "execution_count": 1,
   "metadata": {},
   "outputs": [],
   "source": [
    "from collections import deque\n",
    "import numpy as np\n",
    "\n",
    "\n",
    "class ReplayQueue_deque(object):\n",
    "    \"\"\"A replay queue for replaying previous experiences.\"\"\"\n",
    "\n",
    "    def __init__(self, size: int=20000) -> None:\n",
    "        \"\"\"\n",
    "        Initialize a new replay buffer with a given size.\n",
    "\n",
    "        Args:\n",
    "            size: the size of the replay buffer\n",
    "                  (the number of previous experiences to store)\n",
    "\n",
    "        Returns:\n",
    "            None\n",
    "\n",
    "        \"\"\"\n",
    "        # verify size\n",
    "        if not isinstance(size, int):\n",
    "            raise TypeError('size must be of type int')\n",
    "        if size < 1:\n",
    "            raise ValueError('size must be at least 1')\n",
    "        # initialize the queue data-structure\n",
    "        self.queue = deque(maxlen=size)\n",
    "\n",
    "    def __repr__(self) -> str:\n",
    "        \"\"\"Return an executable string representation of self.\"\"\"\n",
    "        return '{}(size={})'.format(self.__class__.__name__, self.queue.maxlen)\n",
    "\n",
    "    def __len__(self) -> int:\n",
    "        \"\"\"Return the number of items in the queue.\"\"\"\n",
    "        return len(self.queue)\n",
    "\n",
    "    @property\n",
    "    def size(self) -> int:\n",
    "        \"\"\"Return the size of the queue.\"\"\"\n",
    "        return self.queue.maxlen\n",
    "\n",
    "    def push(self, *args) -> None:\n",
    "        \"\"\"\n",
    "        Push a new experience onto the queue.\n",
    "\n",
    "        Args:\n",
    "            *args: the experience s, a, r, d, s'\n",
    "\n",
    "        Returns:\n",
    "            None\n",
    "\n",
    "        \"\"\"\n",
    "        self.queue.append(args)\n",
    "\n",
    "    def dequeu(self) -> tuple:\n",
    "        \"\"\"Pop an item off the queue and return it.\"\"\"\n",
    "        return self.queue.popleft()\n",
    "\n",
    "    def sample(self, size: int=64, replace: bool=True):\n",
    "        \"\"\"\n",
    "        Return a random sample of items from the queue.\n",
    "\n",
    "        Args:\n",
    "            size: the number of items to sample and return\n",
    "\n",
    "        Returns:\n",
    "            TODO\n",
    "\n",
    "        \"\"\"\n",
    "        # generate an index of items to extract\n",
    "        idx_batch = set(np.random.randint(0, len(self), size))\n",
    "        # extract the batch from the queue\n",
    "        return [val for i, val in enumerate(self.queue) if i in idx_batch]"
   ]
  },
  {
   "cell_type": "code",
   "execution_count": 2,
   "metadata": {},
   "outputs": [],
   "source": [
    "def fill(size=20000):\n",
    "    q = ReplayQueue_deque(size)\n",
    "    for i in range(size):\n",
    "        q.push('arb')"
   ]
  },
  {
   "cell_type": "code",
   "execution_count": 4,
   "metadata": {},
   "outputs": [
    {
     "name": "stdout",
     "output_type": "stream",
     "text": [
      "5.71 ms ± 86.2 µs per loop (mean ± std. dev. of 7 runs, 100 loops each)\n"
     ]
    }
   ],
   "source": [
    "%timeit fill()"
   ]
  },
  {
   "cell_type": "code",
   "execution_count": 6,
   "metadata": {},
   "outputs": [],
   "source": [
    "size = 20000\n",
    "q = ReplayQueue_deque(size)\n",
    "for i in range(size):\n",
    "    q.push('arb')"
   ]
  },
  {
   "cell_type": "code",
   "execution_count": 7,
   "metadata": {},
   "outputs": [],
   "source": [
    "def sample(batches=100):\n",
    "    for i in range(batches):\n",
    "        q.sample"
   ]
  },
  {
   "cell_type": "code",
   "execution_count": 8,
   "metadata": {},
   "outputs": [
    {
     "name": "stdout",
     "output_type": "stream",
     "text": [
      "6.49 µs ± 77.6 ns per loop (mean ± std. dev. of 7 runs, 100000 loops each)\n"
     ]
    }
   ],
   "source": [
    "%timeit sample()"
   ]
  },
  {
   "cell_type": "code",
   "execution_count": null,
   "metadata": {},
   "outputs": [],
   "source": [
    "from collections import deque\n",
    "import numpy as np\n",
    "\n",
    "\n",
    "class ReplayQueue_deque(object):\n",
    "    \"\"\"A replay queue for replaying previous experiences.\"\"\"\n",
    "\n",
    "    def __init__(self, size: int=20000) -> None:\n",
    "        \"\"\"\n",
    "        Initialize a new replay buffer with a given size.\n",
    "\n",
    "        Args:\n",
    "            size: the size of the replay buffer\n",
    "                  (the number of previous experiences to store)\n",
    "\n",
    "        Returns:\n",
    "            None\n",
    "\n",
    "        \"\"\"\n",
    "        # verify size\n",
    "        if not isinstance(size, int):\n",
    "            raise TypeError('size must be of type int')\n",
    "        if size < 1:\n",
    "            raise ValueError('size must be at least 1')\n",
    "        # initialize the queue data-structure\n",
    "        self.queue = deque(maxlen=size)\n",
    "\n",
    "    def __repr__(self) -> str:\n",
    "        \"\"\"Return an executable string representation of self.\"\"\"\n",
    "        return '{}(size={})'.format(self.__class__.__name__, self.queue.maxlen)\n",
    "\n",
    "    def __len__(self) -> int:\n",
    "        \"\"\"Return the number of items in the queue.\"\"\"\n",
    "        return len(self.queue)\n",
    "\n",
    "    @property\n",
    "    def size(self) -> int:\n",
    "        \"\"\"Return the size of the queue.\"\"\"\n",
    "        return self.queue.maxlen\n",
    "\n",
    "    def push(self, *args) -> None:\n",
    "        \"\"\"\n",
    "        Push a new experience onto the queue.\n",
    "\n",
    "        Args:\n",
    "            *args: the experience s, a, r, d, s'\n",
    "\n",
    "        Returns:\n",
    "            None\n",
    "\n",
    "        \"\"\"\n",
    "        self.queue.append(args)\n",
    "\n",
    "    def dequeu(self) -> tuple:\n",
    "        \"\"\"Pop an item off the queue and return it.\"\"\"\n",
    "        return self.queue.popleft()\n",
    "\n",
    "    def sample(self, size: int=64, replace: bool=True):\n",
    "        \"\"\"\n",
    "        Return a random sample of items from the queue.\n",
    "\n",
    "        Args:\n",
    "            size: the number of items to sample and return\n",
    "\n",
    "        Returns:\n",
    "            TODO\n",
    "\n",
    "        \"\"\"\n",
    "        # generate an index of items to extract\n",
    "        idx_batch = set(np.random.randint(0, len(self), size))\n",
    "        # extract the batch from the queue\n",
    "        return [val for i, val in enumerate(self.queue) if i in idx_batch]"
   ]
  },
  {
   "cell_type": "code",
   "execution_count": 2,
   "metadata": {},
   "outputs": [],
   "source": [
    "def fill(size=20000):\n",
    "    q = ReplayQueue_deque(size)\n",
    "    for i in range(size):\n",
    "        q.push('arb')"
   ]
  },
  {
   "cell_type": "code",
   "execution_count": 4,
   "metadata": {},
   "outputs": [
    {
     "name": "stdout",
     "output_type": "stream",
     "text": [
      "5.71 ms ± 86.2 µs per loop (mean ± std. dev. of 7 runs, 100 loops each)\n"
     ]
    }
   ],
   "source": [
    "%timeit fill()"
   ]
  },
  {
   "cell_type": "code",
   "execution_count": 6,
   "metadata": {},
   "outputs": [],
   "source": [
    "size = 20000\n",
    "q = ReplayQueue_deque(size)\n",
    "for i in range(size):\n",
    "    q.push('arb')"
   ]
  },
  {
   "cell_type": "code",
   "execution_count": 7,
   "metadata": {},
   "outputs": [],
   "source": [
    "def sample(batches=100):\n",
    "    for i in range(batches):\n",
    "        q.sample"
   ]
  },
  {
   "cell_type": "code",
   "execution_count": 8,
   "metadata": {},
   "outputs": [
    {
     "name": "stdout",
     "output_type": "stream",
     "text": [
      "6.49 µs ± 77.6 ns per loop (mean ± std. dev. of 7 runs, 100000 loops each)\n"
     ]
    }
   ],
   "source": [
    "%timeit sample()"
   ]
  },
  {
   "cell_type": "code",
   "execution_count": null,
   "metadata": {},
   "outputs": [],
   "source": []
  },
  {
   "cell_type": "code",
   "execution_count": null,
   "metadata": {},
   "outputs": [],
   "source": []
  },
  {
   "cell_type": "code",
   "execution_count": null,
   "metadata": {},
   "outputs": [],
   "source": []
  },
  {
   "cell_type": "code",
   "execution_count": null,
   "metadata": {},
   "outputs": [],
   "source": []
  },
  {
   "cell_type": "code",
   "execution_count": null,
   "metadata": {},
   "outputs": [],
   "source": []
  },
  {
   "cell_type": "code",
   "execution_count": null,
   "metadata": {},
   "outputs": [],
   "source": []
  },
  {
   "cell_type": "code",
   "execution_count": null,
   "metadata": {},
   "outputs": [],
   "source": []
  }
 ],
 "metadata": {
  "kernelspec": {
   "display_name": "Python 3",
   "language": "python",
   "name": "python3"
  },
  "language_info": {
   "codemirror_mode": {
    "name": "ipython",
    "version": 3
   },
   "file_extension": ".py",
   "mimetype": "text/x-python",
   "name": "python",
   "nbconvert_exporter": "python",
   "pygments_lexer": "ipython3",
   "version": "3.6.4"
  }
 },
 "nbformat": 4,
 "nbformat_minor": 2
}
