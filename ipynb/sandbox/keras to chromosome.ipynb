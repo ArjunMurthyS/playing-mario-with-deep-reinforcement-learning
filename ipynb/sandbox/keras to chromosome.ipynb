{
 "cells": [
  {
   "cell_type": "code",
   "execution_count": 1,
   "metadata": {},
   "outputs": [],
   "source": [
    "import sys\n",
    "if '../..' not in sys.path:\n",
    "    sys.path.append('../..')\n",
    "import numpy as np\n",
    "from copy import deepcopy"
   ]
  },
  {
   "cell_type": "code",
   "execution_count": 2,
   "metadata": {},
   "outputs": [
    {
     "name": "stderr",
     "output_type": "stream",
     "text": [
      "/usr/local/lib/python3.6/site-packages/h5py/__init__.py:36: FutureWarning: Conversion of the second argument of issubdtype from `float` to `np.floating` is deprecated. In future, it will be treated as `np.float64 == np.dtype(float).type`.\n",
      "  from ._conv import register_converters as _register_converters\n",
      "Using TensorFlow backend.\n"
     ]
    }
   ],
   "source": [
    "from src.environment.atari import build_atari_environment\n",
    "from src.models.deep_q_model import build_deep_q_model"
   ]
  },
  {
   "cell_type": "code",
   "execution_count": 3,
   "metadata": {},
   "outputs": [],
   "source": [
    "env = build_atari_environment('Pong')"
   ]
  },
  {
   "cell_type": "code",
   "execution_count": 4,
   "metadata": {},
   "outputs": [],
   "source": [
    "model = build_deep_q_model(\n",
    "    image_size=env.observation_space.shape[:2],\n",
    "    num_frames=env.observation_space.shape[-1],\n",
    "    num_actions=env.action_space.n\n",
    ")"
   ]
  },
  {
   "cell_type": "code",
   "execution_count": 5,
   "metadata": {},
   "outputs": [
    {
     "data": {
      "text/plain": [
       "<keras.engine.training.Model at 0x1201ff5f8>"
      ]
     },
     "execution_count": 5,
     "metadata": {},
     "output_type": "execute_result"
    }
   ],
   "source": [
    "model"
   ]
  },
  {
   "cell_type": "code",
   "execution_count": 6,
   "metadata": {},
   "outputs": [
    {
     "name": "stdout",
     "output_type": "stream",
     "text": [
      "2 (8, 8, 4, 32) (32,)\n",
      "4 (4, 4, 32, 64) (64,)\n",
      "6 (3, 3, 64, 64) (64,)\n",
      "9 (7744, 512) (512,)\n",
      "11 (512, 6) (6,)\n"
     ]
    }
   ],
   "source": [
    "# iterate over all the layers in the model\n",
    "for i, layer in enumerate(model.layers):\n",
    "    # extract the weights for this layer\n",
    "    weights = layer.get_weights()\n",
    "    # if the weights have no length (computation or activation)\n",
    "    # then continue to the next layer\n",
    "    if len(weights) == 0:\n",
    "        continue\n",
    "    W = weights[0]\n",
    "    b = weights[1]\n",
    "    print(i, W.shape, b.shape)"
   ]
  },
  {
   "cell_type": "code",
   "execution_count": 33,
   "metadata": {},
   "outputs": [],
   "source": [
    "class DeepQChromosome(object):\n",
    "    \"\"\"A chromosome representing a Deep Q network candidate.\"\"\"\n",
    "\n",
    "    # indexes of the layers that this chromosome genomes\n",
    "    layer_indexes = [2, 4, 6, 9, 11]\n",
    "    # the shapes of the weights\n",
    "    W_shape = [\n",
    "        (8, 8, 4, 32),\n",
    "        (4, 4, 32, 64),\n",
    "        (3, 3, 64, 64),\n",
    "        (7744, 512),\n",
    "        (512, 6),\n",
    "    ]\n",
    "    # the shapes of the biases\n",
    "    b_shape = [\n",
    "        (32,),\n",
    "        (64,),\n",
    "        (64,),\n",
    "        (512,),\n",
    "        (6,),\n",
    "    ]\n",
    "\n",
    "    def __init__(self,\n",
    "        env, model,\n",
    "        theta: list=None,\n",
    "        sigma: float=0.2,\n",
    "        frames_to_play: int=20000,\n",
    "    ) -> None:\n",
    "        \"\"\"\n",
    "        Initialize a new chromosome.\n",
    "\n",
    "        Args:\n",
    "            env: the environment to validate on\n",
    "            model: the model to fit weights to\n",
    "            theta: the weights to initialize as the genotype\n",
    "            sigma: the random value std if theta is 'random'\n",
    "            frames_to_play: the number of frames to play at max\n",
    "\n",
    "        Returns:\n",
    "            None\n",
    "\n",
    "        \"\"\"\n",
    "        self.env = env\n",
    "        self.model = model\n",
    "        # if no theta, setup a blank list\n",
    "        if theta is None:\n",
    "            theta = [None] * len(self.layer_indexes)\n",
    "        # if random theta, randomize\n",
    "        elif theta == 'random':\n",
    "            theta = [None] * len(self.layer_indexes)\n",
    "            for i, (W, b) in enumerate(zip(self.W_shape, self.b_shape)):\n",
    "                W = sigma * np.random.uniform(0, 1, W)\n",
    "                b = sigma * np.random.uniform(0, 1, b)\n",
    "                theta[i] = W, b\n",
    "\n",
    "        self.theta = theta\n",
    "        self.sigma = sigma\n",
    "        self.frames_to_play = frames_to_play\n",
    "        self._fitness = None\n",
    "\n",
    "    def __lt__(self, other) -> bool:\n",
    "        \"\"\"\n",
    "        Return a boolean determining if this instance is < another.\n",
    "\n",
    "        Args:\n",
    "            other: the other chromosome to compare against\n",
    "\n",
    "        Returns:\n",
    "            true if self has a fitness < other\n",
    "\n",
    "        \"\"\"\n",
    "        return self.fitness < other.fitness\n",
    "\n",
    "    def __le__(self, other) -> bool:\n",
    "        \"\"\"\n",
    "        Return a boolean determining if this instance is <= another.\n",
    "\n",
    "        Args:\n",
    "            other: the other chromosome to compare against\n",
    "\n",
    "        Returns:\n",
    "            true if self has a fitness <= other\n",
    "\n",
    "        \"\"\"\n",
    "        return self.fitness <= other.fitness\n",
    "\n",
    "    def __eq__(self, other) -> bool:\n",
    "        \"\"\"\n",
    "        Return a boolean determining if this instance is == another.\n",
    "\n",
    "        Args:\n",
    "            other: the other chromosome to compare against\n",
    "\n",
    "        Returns:\n",
    "            true if self has a fitness == other\n",
    "\n",
    "        \"\"\"\n",
    "        return self.fitness == other.fitness\n",
    "\n",
    "    def get_from_model(self, model) -> None:\n",
    "        \"\"\"\n",
    "        Fill this chromosome's genotype with weights from a model.\n",
    "\n",
    "        Args:\n",
    "            model: the model to get the weights from\n",
    "\n",
    "        Returns:\n",
    "            None\n",
    "\n",
    "        \"\"\"\n",
    "        # iterate over the layers in the genotype\n",
    "        for i, layer_i in enumerate(self.layer_indexes):\n",
    "            # copy the weights from the model\n",
    "            self.theta[i] = model.layers[layer_i].get_weights()\n",
    "\n",
    "    def set_to_model(self, model) -> None:\n",
    "        \"\"\"\n",
    "        Set the weights of a model to the genotype of this chromosome.\n",
    "\n",
    "        Args:\n",
    "            model: the model to set the weights\n",
    "\n",
    "        Returns:\n",
    "            None\n",
    "\n",
    "        \"\"\"\n",
    "        # iterate over the layers in the genotype\n",
    "        for i, layer_i in enumerate(self.layer_indexes):\n",
    "            # copy the weights to the model\n",
    "            model.layers[layer_i].set_weights(self.theta[i])\n",
    "\n",
    "    def mutate(self) -> None:\n",
    "        \"\"\"Mutate the weights in this genotype.\"\"\"\n",
    "        for W, b in self.theta:\n",
    "            W += self.sigma * np.random.normal(0, 1, W.shape)\n",
    "            b += self.sigma * np.random.normal(0, 1, b.shape)\n",
    "\n",
    "    @property\n",
    "    def fitness(self):\n",
    "        \"\"\"Return the fitness of this individual.\"\"\"\n",
    "        if self._fitness is None:\n",
    "            self._fitness = self.evaluate()\n",
    "        return self._fitness\n",
    "\n",
    "    def evaluate(self, repetitions: int=None) -> float:\n",
    "        \"\"\"\n",
    "        Evaluate the chromosome for a given env and model frame.\n",
    "\n",
    "        Args:\n",
    "            repetitions:\n",
    "\n",
    "        Returns:\n",
    "            the score of 1 episode or after frames_to_play frames,\n",
    "            whichever occurs first\n",
    "\n",
    "        \"\"\"\n",
    "        # if we're repeating, go ahead and do so\n",
    "        if repetitions is not None:\n",
    "            score = np.mean(self.evaluate(1) for _ in range(repetitions))\n",
    "            # set the fitness\n",
    "            if self._fitness is None or score > self._fitness:\n",
    "                self._fitness = score\n",
    "\n",
    "            return self._fitness\n",
    "        # set the model with the weights from self\n",
    "        self.set_to_model(self.model)\n",
    "        # run an episode in the emulator\n",
    "        done = False\n",
    "        score = 0\n",
    "        loss = 0\n",
    "        frames = 0\n",
    "        # reset the game and get the initial state\n",
    "        state = self.env.reset()\n",
    "        self.env.render(mode='rgb_array')\n",
    "\n",
    "        while not done:\n",
    "            # predict an action from a stack of frames\n",
    "            state = state[np.newaxis, :, :, :]\n",
    "            mask = np.ones((env.observation_space.shape[-1], env.action_space.n))\n",
    "            actions = self.model.predict([state, mask], batch_size=1)\n",
    "            action = np.argmax(actions)\n",
    "            # fire the action and observe the next state, reward, and flag\n",
    "            state, reward, done, _ = self.env.step(action=action)\n",
    "            self.env.render(mode='rgb_array')\n",
    "            score += reward\n",
    "            frames += 1\n",
    "            # finish early if we surpass the frame limit\n",
    "            if frames >= self.frames_to_play:\n",
    "                break\n",
    "\n",
    "        # if there are no repetitions, then set the fitness\n",
    "        if repetitions is None and self._fitness is None:\n",
    "            self._fitness = score\n",
    "\n",
    "        return score"
   ]
  },
  {
   "cell_type": "code",
   "execution_count": 34,
   "metadata": {},
   "outputs": [],
   "source": [
    "qs = [DeepQChromosome(env, model, 'random') for _ in range(10)]"
   ]
  },
  {
   "cell_type": "code",
   "execution_count": 37,
   "metadata": {},
   "outputs": [],
   "source": [
    "q_sorted = sorted(qs)"
   ]
  },
  {
   "cell_type": "code",
   "execution_count": 36,
   "metadata": {},
   "outputs": [
    {
     "name": "stdout",
     "output_type": "stream",
     "text": [
      "-21.0\n",
      "-21.0\n",
      "-21.0\n",
      "-21.0\n",
      "-21.0\n",
      "-21.0\n",
      "-21.0\n",
      "-21.0\n",
      "-21.0\n",
      "-21.0\n"
     ]
    }
   ],
   "source": [
    "for q in q_sorted:\n",
    "    print(q.fitness)"
   ]
  },
  {
   "cell_type": "code",
   "execution_count": null,
   "metadata": {},
   "outputs": [],
   "source": []
  }
 ],
 "metadata": {
  "kernelspec": {
   "display_name": "Python 3",
   "language": "python",
   "name": "python3"
  },
  "language_info": {
   "codemirror_mode": {
    "name": "ipython",
    "version": 3
   },
   "file_extension": ".py",
   "mimetype": "text/x-python",
   "name": "python",
   "nbconvert_exporter": "python",
   "pygments_lexer": "ipython3",
   "version": "3.6.4"
  }
 },
 "nbformat": 4,
 "nbformat_minor": 2
}
