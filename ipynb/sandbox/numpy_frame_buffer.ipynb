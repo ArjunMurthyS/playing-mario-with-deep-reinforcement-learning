{
 "cells": [
  {
   "cell_type": "code",
   "execution_count": 53,
   "metadata": {},
   "outputs": [],
   "source": [
    "\"\"\"A queue for storing previous experiences to sample from.\"\"\"\n",
    "import numpy as np\n",
    "\n",
    "\n",
    "class ReplayQueue(object):\n",
    "    \"\"\"A queue for storing previous experiences to sample from.\"\"\"\n",
    "\n",
    "    def __init__(self,\n",
    "        size: int=250000,\n",
    "        image_size: tuple=(84, 84),\n",
    "        agent_history_length: int=4\n",
    "    ) -> None:\n",
    "        \"\"\"\n",
    "        Initialize a new replay buffer with a given size.\n",
    "\n",
    "        Args:\n",
    "            size: the maximum number of experiences to store\n",
    "            image_size: the size of the images to store\n",
    "            agent_history_length\n",
    "\n",
    "        Returns:\n",
    "            None\n",
    "\n",
    "        \"\"\"\n",
    "        # verify size\n",
    "        if not isinstance(size, int):\n",
    "            raise TypeError('size must be of type int')\n",
    "        if size < 1:\n",
    "            raise ValueError('size must be at least 1')\n",
    "        # assign size to self\n",
    "        self._size = size\n",
    "        self._buffer_size = agent_history_length + size\n",
    "        self.agent_history_length = agent_history_length\n",
    "        # setup the queues\n",
    "        self.s = np.zeros((*image_size, self._buffer_size)).astype('uint8')\n",
    "        self.a = np.zeros(self._buffer_size).astype('uint8')\n",
    "        self.r = np.zeros(self._buffer_size).astype('int8')\n",
    "        self.d = np.zeros(self._buffer_size).astype(bool)\n",
    "        # setup variables for the index and top\n",
    "        self.index = 0\n",
    "        self.top = 0\n",
    "\n",
    "    def __repr__(self) -> str:\n",
    "        \"\"\"Return an executable string representation of self.\"\"\"\n",
    "        return '{}(size={})'.format(self.__class__.__name__, self.size)\n",
    "\n",
    "    def __len__(self) -> int:\n",
    "        \"\"\"Return the number of items in the queue.\"\"\"\n",
    "        return self.top\n",
    "\n",
    "    @property\n",
    "    def size(self) -> int:\n",
    "        \"\"\"Return the size of the queue.\"\"\"\n",
    "        return self._size\n",
    "\n",
    "    @property\n",
    "    def num_bytes(self) -> int:\n",
    "        \"\"\"Return the number of byte this object consumes.\"\"\"\n",
    "        from sys import getsizeof\n",
    "        s = getsizeof(self.s)\n",
    "        a = getsizeof(self.a)\n",
    "        r = getsizeof(self.r)\n",
    "        d = getsizeof(self.d)\n",
    "\n",
    "        return s + a + r + d\n",
    "\n",
    "    def push(self, s, a, r, d) -> None:\n",
    "        \"\"\"\n",
    "        Push a new experience onto the queue.\n",
    "\n",
    "        Args:\n",
    "            s: the current state\n",
    "            a: the action to get from state to next state\n",
    "            r: the reward as a result of the action\n",
    "            d: a flag indicating if the episode (game) has ended\n",
    "\n",
    "        Returns:\n",
    "            None\n",
    "\n",
    "        \"\"\"\n",
    "        # ensure types are the smallest possible before storing in the queue\n",
    "        s = s.astype('uint8')\n",
    "        a = int(a)\n",
    "        r = int(r)\n",
    "        # push the variables onto the queue\n",
    "        self.s[:, :, self.index] = s.astype('uint8')\n",
    "        self.a[self.index] = int(a)\n",
    "        self.r[self.index] = int(r)\n",
    "        self.d[self.index] = d\n",
    "        # increment the index\n",
    "        if self.index == self.size - 1:\n",
    "            self.index = 0\n",
    "        else:\n",
    "            self.index += 1\n",
    "        # increment the top pointer\n",
    "        if self.top < self.size:\n",
    "            self.top += 1\n",
    "\n",
    "    def current(self) -> tuple:\n",
    "        \"\"\"Pop an item off the queue and return it.\"\"\"\n",
    "        s = self.s[:, :, self.index - self.agent_history_length:self.index]\n",
    "        a = self.a[self.index - self.agent_history_length:self.index]\n",
    "        r = self.r[self.index - self.agent_history_length:self.index]\n",
    "        d = self.d[self.index - self.agent_history_length:self.index]\n",
    "        s2 = self.s[:, :, self.index - self.agent_history_length + 1:self.index + 1]\n",
    "        return s, a, r, d, s2\n",
    "\n",
    "    def sample(self, size: int=32):\n",
    "        \"\"\"\n",
    "        Return a random sample of items from the queue.\n",
    "\n",
    "        Args:\n",
    "            size: the number of items to sample and return\n",
    "\n",
    "        Returns:\n",
    "            A random sample from the queue sampled uniformly\n",
    "\n",
    "        \"\"\"\n",
    "        # generate and index of items to sample\n",
    "        index = np.random.randint(0, len(self), size)\n",
    "        # extract the items for this batch\n",
    "        s = self.s[index - self.agent_history_length:index]\n",
    "        a = self.a[index - self.agent_history_length:index]\n",
    "        r = self.r[index - self.agent_history_length:index]\n",
    "        d = self.d[index - self.agent_history_length:index]\n",
    "        s2 = self.s2[index - self.agent_history_length + 1:index + 1]\n",
    "\n",
    "        return s, a, r, d, s2\n"
   ]
  },
  {
   "cell_type": "code",
   "execution_count": 54,
   "metadata": {},
   "outputs": [],
   "source": [
    "def random_state() -> tuple:\n",
    "    \"\"\"Return an arbitrary randomized state\"\"\"\n",
    "    s = np.random.randint(0, 256, (84, 84))\n",
    "    a = np.random.randint(6)\n",
    "    r = np.random.randint(2) - 1\n",
    "    d = bool(np.random.randint(1))\n",
    "    return s, a, r, d"
   ]
  },
  {
   "cell_type": "code",
   "execution_count": 55,
   "metadata": {},
   "outputs": [],
   "source": [
    "q = ReplayQueue(1000)\n",
    "\n",
    "for _ in range(4):\n",
    "    q.push(*random_state())"
   ]
  },
  {
   "cell_type": "code",
   "execution_count": 56,
   "metadata": {},
   "outputs": [
    {
     "name": "stdout",
     "output_type": "stream",
     "text": [
      "(84, 84, 4)\n",
      "(4,)\n",
      "(4,)\n",
      "(4,)\n",
      "(84, 84, 4)\n"
     ]
    }
   ],
   "source": [
    "for item in q.current():\n",
    "    print(item.shape)"
   ]
  },
  {
   "cell_type": "code",
   "execution_count": 57,
   "metadata": {},
   "outputs": [],
   "source": [
    "s, a, r, d, s2 = q.current()"
   ]
  },
  {
   "cell_type": "markdown",
   "metadata": {},
   "source": [
    "# Sample"
   ]
  },
  {
   "cell_type": "code",
   "execution_count": 59,
   "metadata": {},
   "outputs": [],
   "source": [
    "q = ReplayQueue(1000)\n",
    "\n",
    "for _ in range(100):\n",
    "    q.push(*random_state())"
   ]
  },
  {
   "cell_type": "code",
   "execution_count": 60,
   "metadata": {},
   "outputs": [
    {
     "ename": "TypeError",
     "evalue": "only integer scalar arrays can be converted to a scalar index",
     "output_type": "error",
     "traceback": [
      "\u001b[0;31m---------------------------------------------------------------------------\u001b[0m",
      "\u001b[0;31mTypeError\u001b[0m                                 Traceback (most recent call last)",
      "\u001b[0;32m<ipython-input-60-6de126b80394>\u001b[0m in \u001b[0;36m<module>\u001b[0;34m()\u001b[0m\n\u001b[0;32m----> 1\u001b[0;31m \u001b[0mq\u001b[0m\u001b[0;34m.\u001b[0m\u001b[0msample\u001b[0m\u001b[0;34m(\u001b[0m\u001b[0;34m)\u001b[0m\u001b[0;34m\u001b[0m\u001b[0m\n\u001b[0m",
      "\u001b[0;32m<ipython-input-53-fceb0b2af629>\u001b[0m in \u001b[0;36msample\u001b[0;34m(self, size)\u001b[0m\n\u001b[1;32m    120\u001b[0m         \u001b[0mindex\u001b[0m \u001b[0;34m=\u001b[0m \u001b[0mnp\u001b[0m\u001b[0;34m.\u001b[0m\u001b[0mrandom\u001b[0m\u001b[0;34m.\u001b[0m\u001b[0mrandint\u001b[0m\u001b[0;34m(\u001b[0m\u001b[0;36m0\u001b[0m\u001b[0;34m,\u001b[0m \u001b[0mlen\u001b[0m\u001b[0;34m(\u001b[0m\u001b[0mself\u001b[0m\u001b[0;34m)\u001b[0m\u001b[0;34m,\u001b[0m \u001b[0msize\u001b[0m\u001b[0;34m)\u001b[0m\u001b[0;34m\u001b[0m\u001b[0m\n\u001b[1;32m    121\u001b[0m         \u001b[0;31m# extract the items for this batch\u001b[0m\u001b[0;34m\u001b[0m\u001b[0;34m\u001b[0m\u001b[0m\n\u001b[0;32m--> 122\u001b[0;31m         \u001b[0ms\u001b[0m \u001b[0;34m=\u001b[0m \u001b[0mself\u001b[0m\u001b[0;34m.\u001b[0m\u001b[0ms\u001b[0m\u001b[0;34m[\u001b[0m\u001b[0mindex\u001b[0m \u001b[0;34m-\u001b[0m \u001b[0mself\u001b[0m\u001b[0;34m.\u001b[0m\u001b[0magent_history_length\u001b[0m\u001b[0;34m:\u001b[0m\u001b[0mindex\u001b[0m\u001b[0;34m]\u001b[0m\u001b[0;34m\u001b[0m\u001b[0m\n\u001b[0m\u001b[1;32m    123\u001b[0m         \u001b[0ma\u001b[0m \u001b[0;34m=\u001b[0m \u001b[0mself\u001b[0m\u001b[0;34m.\u001b[0m\u001b[0ma\u001b[0m\u001b[0;34m[\u001b[0m\u001b[0mindex\u001b[0m \u001b[0;34m-\u001b[0m \u001b[0mself\u001b[0m\u001b[0;34m.\u001b[0m\u001b[0magent_history_length\u001b[0m\u001b[0;34m:\u001b[0m\u001b[0mindex\u001b[0m\u001b[0;34m]\u001b[0m\u001b[0;34m\u001b[0m\u001b[0m\n\u001b[1;32m    124\u001b[0m         \u001b[0mr\u001b[0m \u001b[0;34m=\u001b[0m \u001b[0mself\u001b[0m\u001b[0;34m.\u001b[0m\u001b[0mr\u001b[0m\u001b[0;34m[\u001b[0m\u001b[0mindex\u001b[0m \u001b[0;34m-\u001b[0m \u001b[0mself\u001b[0m\u001b[0;34m.\u001b[0m\u001b[0magent_history_length\u001b[0m\u001b[0;34m:\u001b[0m\u001b[0mindex\u001b[0m\u001b[0;34m]\u001b[0m\u001b[0;34m\u001b[0m\u001b[0m\n",
      "\u001b[0;31mTypeError\u001b[0m: only integer scalar arrays can be converted to a scalar index"
     ]
    }
   ],
   "source": [
    "q.sample()"
   ]
  },
  {
   "cell_type": "code",
   "execution_count": null,
   "metadata": {},
   "outputs": [],
   "source": []
  }
 ],
 "metadata": {
  "kernelspec": {
   "display_name": "Python 3",
   "language": "python",
   "name": "python3"
  },
  "language_info": {
   "codemirror_mode": {
    "name": "ipython",
    "version": 3
   },
   "file_extension": ".py",
   "mimetype": "text/x-python",
   "name": "python",
   "nbconvert_exporter": "python",
   "pygments_lexer": "ipython3",
   "version": "3.6.4"
  }
 },
 "nbformat": 4,
 "nbformat_minor": 2
}
