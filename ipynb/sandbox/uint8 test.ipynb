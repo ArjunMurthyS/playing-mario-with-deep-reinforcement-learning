{
 "cells": [
  {
   "cell_type": "code",
   "execution_count": 1,
   "metadata": {},
   "outputs": [],
   "source": [
    "import gym\n",
    "import cv2\n",
    "import numpy as np"
   ]
  },
  {
   "cell_type": "code",
   "execution_count": 2,
   "metadata": {},
   "outputs": [],
   "source": [
    "env = gym.make('SpaceInvadersDeterministic-v4')"
   ]
  },
  {
   "cell_type": "code",
   "execution_count": 3,
   "metadata": {},
   "outputs": [
    {
     "data": {
      "text/plain": [
       "gym.wrappers.time_limit.TimeLimit"
      ]
     },
     "execution_count": 3,
     "metadata": {},
     "output_type": "execute_result"
    }
   ],
   "source": [
    "type(env)"
   ]
  },
  {
   "cell_type": "markdown",
   "metadata": {},
   "source": [
    "# Gym"
   ]
  },
  {
   "cell_type": "markdown",
   "metadata": {},
   "source": [
    "## Space"
   ]
  },
  {
   "cell_type": "code",
   "execution_count": 4,
   "metadata": {
    "scrolled": true
   },
   "outputs": [
    {
     "data": {
      "text/plain": [
       "Box(210, 160, 3)"
      ]
     },
     "execution_count": 4,
     "metadata": {},
     "output_type": "execute_result"
    }
   ],
   "source": [
    "env.observation_space"
   ]
  },
  {
   "cell_type": "code",
   "execution_count": 5,
   "metadata": {},
   "outputs": [
    {
     "data": {
      "text/plain": [
       "6"
      ]
     },
     "execution_count": 5,
     "metadata": {},
     "output_type": "execute_result"
    }
   ],
   "source": [
    "env.action_space.n"
   ]
  },
  {
   "cell_type": "code",
   "execution_count": 6,
   "metadata": {},
   "outputs": [
    {
     "data": {
      "text/plain": [
       "[4, 5, 0, 3, 3, 3, 1, 3, 5, 2]"
      ]
     },
     "execution_count": 6,
     "metadata": {},
     "output_type": "execute_result"
    }
   ],
   "source": [
    "[env.action_space.sample() for _ in range(10)]"
   ]
  },
  {
   "cell_type": "markdown",
   "metadata": {},
   "source": [
    "## Game Environment Setup"
   ]
  },
  {
   "cell_type": "code",
   "execution_count": 7,
   "metadata": {},
   "outputs": [
    {
     "data": {
      "text/plain": [
       "True"
      ]
     },
     "execution_count": 7,
     "metadata": {},
     "output_type": "execute_result"
    }
   ],
   "source": [
    "env.reset()\n",
    "env.render()"
   ]
  },
  {
   "cell_type": "markdown",
   "metadata": {},
   "source": [
    "## Step"
   ]
  },
  {
   "cell_type": "code",
   "execution_count": 8,
   "metadata": {},
   "outputs": [
    {
     "data": {
      "text/plain": [
       "True"
      ]
     },
     "execution_count": 8,
     "metadata": {},
     "output_type": "execute_result"
    }
   ],
   "source": [
    "next_state, reward, done, info = env.step(action=env.action_space.sample())\n",
    "env.render()"
   ]
  },
  {
   "cell_type": "code",
   "execution_count": 9,
   "metadata": {},
   "outputs": [],
   "source": [
    "def downsample(\n",
    "    frame: np.ndarray,\n",
    "    x: int=8,\n",
    "    y: int=14,\n",
    "    image_size: tuple=(84, 84)\n",
    ") -> np.ndarray:\n",
    "    \"\"\"\n",
    "    Down-sample the given frame from RGB to B&W with a reduced size.\n",
    "\n",
    "    Args:\n",
    "        frame: the frame to down-sample\n",
    "        x: the number of x pixels to crop\n",
    "        y: the number of y pixels to crop\n",
    "\n",
    "    Returns:\n",
    "        a down-sample B&W frame\n",
    "\n",
    "    \"\"\"\n",
    "    # convert the frame from RGB to gray scale\n",
    "    frame = cv2.cvtColor(frame, cv2.COLOR_RGB2GRAY)\n",
    "    # crop the image\n",
    "    frame = frame[2*y:frame.shape[0] - y, x:frame.shape[1] - x]\n",
    "\n",
    "    # zero out specific colors\n",
    "    # 142 is the generic gray color\n",
    "    frame[frame == 142] = 0\n",
    "\n",
    "    # resize the frame to the expected shape\n",
    "    frame = cv2.resize(frame, image_size)\n",
    "\n",
    "    return frame"
   ]
  },
  {
   "cell_type": "code",
   "execution_count": 10,
   "metadata": {},
   "outputs": [],
   "source": [
    "down = downsample(next_state)[:, :, np.newaxis]\n",
    "down = np.repeat(down, 4, axis=2).astype('uint8')"
   ]
  },
  {
   "cell_type": "code",
   "execution_count": 11,
   "metadata": {},
   "outputs": [
    {
     "data": {
      "text/plain": [
       "(84, 84, 4)"
      ]
     },
     "execution_count": 11,
     "metadata": {},
     "output_type": "execute_result"
    }
   ],
   "source": [
    "down.shape"
   ]
  },
  {
   "cell_type": "code",
   "execution_count": 12,
   "metadata": {},
   "outputs": [
    {
     "name": "stderr",
     "output_type": "stream",
     "text": [
      "/usr/local/lib/python3.6/site-packages/h5py/__init__.py:36: FutureWarning: Conversion of the second argument of issubdtype from `float` to `np.floating` is deprecated. In future, it will be treated as `np.float64 == np.dtype(float).type`.\n",
      "  from ._conv import register_converters as _register_converters\n",
      "Using TensorFlow backend.\n"
     ]
    }
   ],
   "source": [
    "import tensorflow as tf\n",
    "from keras.models import Model\n",
    "from keras.layers import Input\n",
    "from keras.optimizers import RMSprop\n",
    "from keras.layers import Lambda\n",
    "\n",
    "\n",
    "def build_deep_mind_model(\n",
    "    image_size: tuple=(84, 84),\n",
    "    num_frames: int=4,\n",
    "    num_actions: int=6,\n",
    "    loss=tf.losses.huber_loss,\n",
    "    optimizer=RMSprop(lr=0.00025, rho=0.95, epsilon=0.01)\n",
    ") -> Model:\n",
    "    \"\"\"\n",
    "    Build and return the Deep Mind model for the given domain parameters.\n",
    "\n",
    "    Notes:\n",
    "        Color Space: this CNN expects single channel images (B&W)\n",
    "\n",
    "    Args:\n",
    "        input_shape: the shape of the image states for the model\n",
    "                     Atari games are (192, 160), but DeepMind reduced the\n",
    "                     size to (84, 84) to reduce computational load\n",
    "        num_frames: the number of frames being stacked together\n",
    "                    DeepMind uses 4 frames in their original implementation\n",
    "        num_actions: the output shape for the model, this represents the\n",
    "                     number of discrete actions available to a game\n",
    "        loss: the loss metric to use at the end of the network\n",
    "        optimizer: the optimizer for reducing error from batches\n",
    "\n",
    "    Returns:\n",
    "        a blank DeepMind CNN for image classification in a reinforcement agent\n",
    "\n",
    "    \"\"\"\n",
    "    # build the CNN using the functional API\n",
    "    cnn_input = Input((*image_size, num_frames), name='cnn')\n",
    "    cnn = Lambda(lambda x: x / 255.0)(cnn_input)\n",
    "    cnn = Lambda(lambda x: x * 255.0)(cnn)\n",
    "\n",
    "    # build the model\n",
    "    model = Model(input=cnn_input, output=cnn)\n",
    "    # compile the model with the default loss and optimization technique\n",
    "    model.compile(loss=loss, optimizer=optimizer)\n",
    "\n",
    "    return model"
   ]
  },
  {
   "cell_type": "code",
   "execution_count": 13,
   "metadata": {},
   "outputs": [
    {
     "name": "stderr",
     "output_type": "stream",
     "text": [
      "/usr/local/lib/python3.6/site-packages/ipykernel_launcher.py:42: UserWarning: Update your `Model` call to the Keras 2 API: `Model(inputs=Tensor(\"cn..., outputs=Tensor(\"la...)`\n"
     ]
    }
   ],
   "source": [
    "model = build_deep_mind_model()"
   ]
  },
  {
   "cell_type": "code",
   "execution_count": 14,
   "metadata": {
    "scrolled": true
   },
   "outputs": [],
   "source": [
    "pred = model.predict(down[np.newaxis, :, :, :])"
   ]
  },
  {
   "cell_type": "code",
   "execution_count": 15,
   "metadata": {},
   "outputs": [
    {
     "data": {
      "text/plain": [
       "False"
      ]
     },
     "execution_count": 15,
     "metadata": {},
     "output_type": "execute_result"
    }
   ],
   "source": [
    "np.array_equal(down, pred)"
   ]
  },
  {
   "cell_type": "code",
   "execution_count": 16,
   "metadata": {},
   "outputs": [
    {
     "data": {
      "text/plain": [
       "0.0"
      ]
     },
     "execution_count": 16,
     "metadata": {},
     "output_type": "execute_result"
    }
   ],
   "source": [
    "(down - pred).sum()"
   ]
  },
  {
   "cell_type": "markdown",
   "metadata": {},
   "source": [
    " "
   ]
  }
 ],
 "metadata": {
  "kernelspec": {
   "display_name": "Python 3",
   "language": "python",
   "name": "python3"
  },
  "language_info": {
   "codemirror_mode": {
    "name": "ipython",
    "version": 3
   },
   "file_extension": ".py",
   "mimetype": "text/x-python",
   "name": "python",
   "nbconvert_exporter": "python",
   "pygments_lexer": "ipython3",
   "version": "3.6.4"
  }
 },
 "nbformat": 4,
 "nbformat_minor": 2
}
