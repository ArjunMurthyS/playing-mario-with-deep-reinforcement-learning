{
 "cells": [
  {
   "cell_type": "code",
   "execution_count": 1,
   "metadata": {},
   "outputs": [],
   "source": [
    "!mkdir -p results results/dqn"
   ]
  },
  {
   "cell_type": "code",
   "execution_count": 2,
   "metadata": {},
   "outputs": [],
   "source": [
    "%matplotlib inline\n",
    "import pandas as pd"
   ]
  },
  {
   "cell_type": "code",
   "execution_count": 3,
   "metadata": {},
   "outputs": [],
   "source": [
    "import gym\n",
    "from gym.wrappers import Monitor"
   ]
  },
  {
   "cell_type": "code",
   "execution_count": 4,
   "metadata": {},
   "outputs": [
    {
     "name": "stderr",
     "output_type": "stream",
     "text": [
      "/usr/local/lib/python3.6/site-packages/h5py/__init__.py:36: FutureWarning: Conversion of the second argument of issubdtype from `float` to `np.floating` is deprecated. In future, it will be treated as `np.float64 == np.dtype(float).type`.\n",
      "  from ._conv import register_converters as _register_converters\n",
      "Using TensorFlow backend.\n"
     ]
    }
   ],
   "source": [
    "import base\n",
    "from src.agents import DeepQAgent\n",
    "from src.downsamplers import downsample_space_invaders"
   ]
  },
  {
   "cell_type": "markdown",
   "metadata": {},
   "source": [
    "# Environment"
   ]
  },
  {
   "cell_type": "code",
   "execution_count": 5,
   "metadata": {},
   "outputs": [],
   "source": [
    "# Deterministic - use a static number of frames for frame skipping\n",
    "# v4 - disable 25% chance of ignoring action and repeating last action\n",
    "env = gym.make('SpaceInvadersDeterministic-v4')\n",
    "env = Monitor(env, './monitor/dqn/space_invaders', force=True)"
   ]
  },
  {
   "cell_type": "code",
   "execution_count": 6,
   "metadata": {},
   "outputs": [
    {
     "data": {
      "text/plain": [
       "Box(210, 160, 3)"
      ]
     },
     "execution_count": 6,
     "metadata": {},
     "output_type": "execute_result"
    }
   ],
   "source": [
    "env.observation_space"
   ]
  },
  {
   "cell_type": "code",
   "execution_count": 7,
   "metadata": {},
   "outputs": [
    {
     "data": {
      "text/plain": [
       "Discrete(6)"
      ]
     },
     "execution_count": 7,
     "metadata": {},
     "output_type": "execute_result"
    }
   ],
   "source": [
    "env.action_space"
   ]
  },
  {
   "cell_type": "markdown",
   "metadata": {},
   "source": [
    "# Agent"
   ]
  },
  {
   "cell_type": "code",
   "execution_count": 8,
   "metadata": {
    "scrolled": true
   },
   "outputs": [
    {
     "data": {
      "text/plain": [
       "DeepQAgent(\n",
       "    env=<Monitor<TimeLimit<AtariEnv<SpaceInvadersDeterministic-v4>>>>,\n",
       "    downsample=Downsampler(y=(0, 15), x=(0, 1), cut=[]),\n",
       "    replay_memory_size=0,\n",
       "    agent_history_length=4,\n",
       "    discount_factor=0.99,\n",
       "    update_frequency=4,\n",
       "    optimizer=<keras.optimizers.RMSprop object at 0x114101e48>,\n",
       "    exploration_rate=AnnealingVariable(initial_value=1.0, final_value=0.1, steps=1000000),\n",
       "    null_op_max=30,\n",
       "    null_op=0,\n",
       "    loss=<function huber_loss at 0x1195260d0>,\n",
       "    image_size=(84, 84),\n",
       "    render_mode='human'\n",
       ")"
      ]
     },
     "execution_count": 8,
     "metadata": {},
     "output_type": "execute_result"
    }
   ],
   "source": [
    "agent = DeepQAgent(env, downsample_space_invaders, \n",
    "    replay_memory_size=0, \n",
    "#     render_mode='rgb_array'\n",
    ")\n",
    "agent.model.load_weights('./models/dqn/space_invaders.h5')\n",
    "agent"
   ]
  },
  {
   "cell_type": "code",
   "execution_count": 9,
   "metadata": {},
   "outputs": [
    {
     "name": "stderr",
     "output_type": "stream",
     "text": [
      "100%|██████████| 100/100 [07:53<00:00,  4.73s/game]\n"
     ]
    },
    {
     "data": {
      "text/plain": [
       "0     20.0\n",
       "1     27.0\n",
       "2     30.0\n",
       "3     21.0\n",
       "4     16.0\n",
       "5     32.0\n",
       "6     25.0\n",
       "7     21.0\n",
       "8     19.0\n",
       "9     15.0\n",
       "10    32.0\n",
       "11    23.0\n",
       "12    32.0\n",
       "13    35.0\n",
       "14    23.0\n",
       "15    21.0\n",
       "16    33.0\n",
       "17    16.0\n",
       "18    30.0\n",
       "19    26.0\n",
       "20    16.0\n",
       "21    34.0\n",
       "22    30.0\n",
       "23    29.0\n",
       "24    18.0\n",
       "25    21.0\n",
       "26    34.0\n",
       "27    32.0\n",
       "28    29.0\n",
       "29    32.0\n",
       "      ... \n",
       "70    18.0\n",
       "71    24.0\n",
       "72    27.0\n",
       "73    16.0\n",
       "74    32.0\n",
       "75    16.0\n",
       "76    35.0\n",
       "77    42.0\n",
       "78    27.0\n",
       "79    29.0\n",
       "80    27.0\n",
       "81    34.0\n",
       "82    21.0\n",
       "83    31.0\n",
       "84    32.0\n",
       "85    32.0\n",
       "86    20.0\n",
       "87    22.0\n",
       "88    29.0\n",
       "89    17.0\n",
       "90    22.0\n",
       "91    31.0\n",
       "92    28.0\n",
       "93    33.0\n",
       "94    19.0\n",
       "95    21.0\n",
       "96    26.0\n",
       "97    24.0\n",
       "98    25.0\n",
       "99    34.0\n",
       "Length: 100, dtype: float64"
      ]
     },
     "execution_count": 9,
     "metadata": {},
     "output_type": "execute_result"
    }
   ],
   "source": [
    "fps = None # 60\n",
    "scores = agent.play(games=100, fps=fps)\n",
    "scores = pd.Series(scores)\n",
    "scores"
   ]
  },
  {
   "cell_type": "code",
   "execution_count": 10,
   "metadata": {},
   "outputs": [],
   "source": [
    "scores.to_csv('results/dqn/fullydeterministic.csv')"
   ]
  },
  {
   "cell_type": "code",
   "execution_count": 11,
   "metadata": {},
   "outputs": [
    {
     "data": {
      "image/png": "[encoded data removed]",
      "text/plain": [
       "<matplotlib.figure.Figure at 0x1199dca58>"
      ]
     },
     "metadata": {},
     "output_type": "display_data"
    }
   ],
   "source": [
    "_ = scores.hist()"
   ]
  },
  {
   "cell_type": "code",
   "execution_count": 12,
   "metadata": {},
   "outputs": [
    {
     "data": {
      "text/plain": [
       "count    100.000000\n",
       "mean      25.400000\n",
       "std        5.981453\n",
       "min       15.000000\n",
       "25%       20.000000\n",
       "50%       25.500000\n",
       "75%       31.000000\n",
       "max       42.000000\n",
       "dtype: float64"
      ]
     },
     "execution_count": 12,
     "metadata": {},
     "output_type": "execute_result"
    }
   ],
   "source": [
    "scores.describe()"
   ]
  },
  {
   "cell_type": "markdown",
   "metadata": {},
   "source": [
    " "
   ]
  }
 ],
 "metadata": {
  "kernelspec": {
   "display_name": "Python 3",
   "language": "python",
   "name": "python3"
  },
  "language_info": {
   "codemirror_mode": {
    "name": "ipython",
    "version": 3
   },
   "file_extension": ".py",
   "mimetype": "text/x-python",
   "name": "python",
   "nbconvert_exporter": "python",
   "pygments_lexer": "ipython3",
   "version": "3.6.4"
  }
 },
 "nbformat": 4,
 "nbformat_minor": 2
}
