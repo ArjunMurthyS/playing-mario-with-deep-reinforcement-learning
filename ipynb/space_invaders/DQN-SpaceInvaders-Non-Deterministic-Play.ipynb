{
 "cells": [
  {
   "cell_type": "code",
   "execution_count": 1,
   "metadata": {},
   "outputs": [],
   "source": [
    "!mkdir -p results results/dqn"
   ]
  },
  {
   "cell_type": "code",
   "execution_count": 2,
   "metadata": {},
   "outputs": [],
   "source": [
    "%matplotlib inline\n",
    "import pandas as pd"
   ]
  },
  {
   "cell_type": "code",
   "execution_count": 3,
   "metadata": {},
   "outputs": [],
   "source": [
    "import gym\n",
    "from gym.wrappers import Monitor"
   ]
  },
  {
   "cell_type": "code",
   "execution_count": 4,
   "metadata": {},
   "outputs": [
    {
     "name": "stderr",
     "output_type": "stream",
     "text": [
      "/usr/local/lib/python3.6/site-packages/h5py/__init__.py:36: FutureWarning: Conversion of the second argument of issubdtype from `float` to `np.floating` is deprecated. In future, it will be treated as `np.float64 == np.dtype(float).type`.\n",
      "  from ._conv import register_converters as _register_converters\n",
      "Using TensorFlow backend.\n"
     ]
    }
   ],
   "source": [
    "import base\n",
    "from src.agents import DeepQAgent\n",
    "from src.downsamplers import downsample_space_invaders"
   ]
  },
  {
   "cell_type": "markdown",
   "metadata": {},
   "source": [
    "# Environment"
   ]
  },
  {
   "cell_type": "code",
   "execution_count": 5,
   "metadata": {},
   "outputs": [],
   "source": [
    "env = gym.make('SpaceInvaders-v4')\n",
    "env = Monitor(env, './monitor/dqn/non-deterministic')"
   ]
  },
  {
   "cell_type": "code",
   "execution_count": 6,
   "metadata": {},
   "outputs": [
    {
     "data": {
      "text/plain": [
       "Box(210, 160, 3)"
      ]
     },
     "execution_count": 6,
     "metadata": {},
     "output_type": "execute_result"
    }
   ],
   "source": [
    "env.observation_space"
   ]
  },
  {
   "cell_type": "code",
   "execution_count": 7,
   "metadata": {},
   "outputs": [
    {
     "data": {
      "text/plain": [
       "Discrete(6)"
      ]
     },
     "execution_count": 7,
     "metadata": {},
     "output_type": "execute_result"
    }
   ],
   "source": [
    "env.action_space"
   ]
  },
  {
   "cell_type": "markdown",
   "metadata": {},
   "source": [
    "# Agent"
   ]
  },
  {
   "cell_type": "code",
   "execution_count": 8,
   "metadata": {
    "scrolled": true
   },
   "outputs": [
    {
     "data": {
      "text/plain": [
       "DeepQAgent(\n",
       "    env=<Monitor<TimeLimit<AtariEnv<SpaceInvaders-v4>>>>,\n",
       "    downsample=Downsampler(y=(0, 15), x=(0, 1), cut=[]),\n",
       "    replay_memory_size=0,\n",
       "    agent_history_length=4,\n",
       "    discount_factor=0.99,\n",
       "    update_frequency=4,\n",
       "    optimizer=<keras.optimizers.RMSprop object at 0x113673fd0>,\n",
       "    exploration_rate=AnnealingVariable(initial_value=1.0, final_value=0.1, steps=1000000),\n",
       "    null_op_max=30,\n",
       "    null_op=0,\n",
       "    loss=<function huber_loss at 0x1215e10d0>,\n",
       "    image_size=(84, 84),\n",
       "    render_mode='rgb_array'\n",
       ")"
      ]
     },
     "execution_count": 8,
     "metadata": {},
     "output_type": "execute_result"
    }
   ],
   "source": [
    "agent = DeepQAgent(env, downsample_space_invaders, \n",
    "    replay_memory_size=0,\n",
    "    render_mode='rgb_array'\n",
    ")\n",
    "agent.model.load_weights('./models/dqn/space_invaders-nondeterministic.h5')\n",
    "agent"
   ]
  },
  {
   "cell_type": "code",
   "execution_count": 9,
   "metadata": {},
   "outputs": [
    {
     "name": "stderr",
     "output_type": "stream",
     "text": [
      "100%|██████████| 100/100 [06:34<00:00,  3.95s/game]\n"
     ]
    },
    {
     "data": {
      "text/plain": [
       "0     26.0\n",
       "1     16.0\n",
       "2     15.0\n",
       "3     18.0\n",
       "4     16.0\n",
       "5     16.0\n",
       "6     10.0\n",
       "7     24.0\n",
       "8     18.0\n",
       "9     14.0\n",
       "10    22.0\n",
       "11    27.0\n",
       "12     6.0\n",
       "13     7.0\n",
       "14    14.0\n",
       "15     3.0\n",
       "16    16.0\n",
       "17    11.0\n",
       "18    10.0\n",
       "19    22.0\n",
       "20    16.0\n",
       "21    14.0\n",
       "22    18.0\n",
       "23    22.0\n",
       "24    22.0\n",
       "25    16.0\n",
       "26     9.0\n",
       "27    14.0\n",
       "28    11.0\n",
       "29    11.0\n",
       "      ... \n",
       "70    11.0\n",
       "71    30.0\n",
       "72    13.0\n",
       "73    17.0\n",
       "74    15.0\n",
       "75    21.0\n",
       "76    17.0\n",
       "77    16.0\n",
       "78     4.0\n",
       "79    16.0\n",
       "80    14.0\n",
       "81    16.0\n",
       "82    25.0\n",
       "83    23.0\n",
       "84    17.0\n",
       "85    20.0\n",
       "86    21.0\n",
       "87    17.0\n",
       "88    25.0\n",
       "89    10.0\n",
       "90    28.0\n",
       "91    23.0\n",
       "92    13.0\n",
       "93    11.0\n",
       "94    24.0\n",
       "95     7.0\n",
       "96    14.0\n",
       "97    20.0\n",
       "98    20.0\n",
       "99    21.0\n",
       "Length: 100, dtype: float64"
      ]
     },
     "execution_count": 9,
     "metadata": {},
     "output_type": "execute_result"
    }
   ],
   "source": [
    "fps = None # 60\n",
    "scores = agent.play(games=100, fps=fps)\n",
    "scores = pd.Series(scores)\n",
    "scores"
   ]
  },
  {
   "cell_type": "code",
   "execution_count": 10,
   "metadata": {},
   "outputs": [],
   "source": [
    "scores.to_csv('results/double_dqn/nondeterministic.csv')"
   ]
  },
  {
   "cell_type": "code",
   "execution_count": 11,
   "metadata": {},
   "outputs": [
    {
     "data": {
      "image/png": "[encoded data removed]",
      "text/plain": [
       "<matplotlib.figure.Figure at 0x127db2b38>"
      ]
     },
     "metadata": {},
     "output_type": "display_data"
    }
   ],
   "source": [
    "_ = scores.hist()"
   ]
  },
  {
   "cell_type": "code",
   "execution_count": 12,
   "metadata": {},
   "outputs": [
    {
     "data": {
      "text/plain": [
       "count    100.000000\n",
       "mean      16.770000\n",
       "std        6.013209\n",
       "min        3.000000\n",
       "25%       13.000000\n",
       "50%       16.000000\n",
       "75%       20.250000\n",
       "max       34.000000\n",
       "dtype: float64"
      ]
     },
     "execution_count": 12,
     "metadata": {},
     "output_type": "execute_result"
    }
   ],
   "source": [
    "scores.describe()"
   ]
  },
  {
   "cell_type": "markdown",
   "metadata": {},
   "source": [
    " "
   ]
  }
 ],
 "metadata": {
  "kernelspec": {
   "display_name": "Python 3",
   "language": "python",
   "name": "python3"
  },
  "language_info": {
   "codemirror_mode": {
    "name": "ipython",
    "version": 3
   },
   "file_extension": ".py",
   "mimetype": "text/x-python",
   "name": "python",
   "nbconvert_exporter": "python",
   "pygments_lexer": "ipython3",
   "version": "3.6.4"
  }
 },
 "nbformat": 4,
 "nbformat_minor": 2
}
