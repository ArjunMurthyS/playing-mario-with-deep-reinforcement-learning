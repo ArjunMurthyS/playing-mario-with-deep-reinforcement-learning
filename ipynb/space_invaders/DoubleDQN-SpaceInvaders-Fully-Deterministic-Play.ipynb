{
 "cells": [
  {
   "cell_type": "code",
   "execution_count": 1,
   "metadata": {},
   "outputs": [],
   "source": [
    "!mkdir -p results results/double_dqn"
   ]
  },
  {
   "cell_type": "code",
   "execution_count": 2,
   "metadata": {},
   "outputs": [],
   "source": [
    "%matplotlib inline\n",
    "import pandas as pd"
   ]
  },
  {
   "cell_type": "code",
   "execution_count": 3,
   "metadata": {},
   "outputs": [],
   "source": [
    "import gym\n",
    "from gym.wrappers import Monitor"
   ]
  },
  {
   "cell_type": "code",
   "execution_count": 4,
   "metadata": {},
   "outputs": [
    {
     "name": "stderr",
     "output_type": "stream",
     "text": [
      "/usr/local/lib/python3.6/site-packages/h5py/__init__.py:36: FutureWarning: Conversion of the second argument of issubdtype from `float` to `np.floating` is deprecated. In future, it will be treated as `np.float64 == np.dtype(float).type`.\n",
      "  from ._conv import register_converters as _register_converters\n",
      "Using TensorFlow backend.\n"
     ]
    }
   ],
   "source": [
    "import base\n",
    "from src.agents import DeepQAgent\n",
    "from src.downsamplers import downsample_space_invaders"
   ]
  },
  {
   "cell_type": "markdown",
   "metadata": {},
   "source": [
    "# Environment"
   ]
  },
  {
   "cell_type": "code",
   "execution_count": 5,
   "metadata": {},
   "outputs": [],
   "source": [
    "# Deterministic - use a static number of frames for frame skipping\n",
    "# v4 - disable 25% chance of ignoring action and repeating last action\n",
    "env = gym.make('SpaceInvadersDeterministic-v4')\n",
    "env = Monitor(env, './monitor/double_dqn/space_invaders', force=True)"
   ]
  },
  {
   "cell_type": "code",
   "execution_count": 6,
   "metadata": {},
   "outputs": [
    {
     "data": {
      "text/plain": [
       "Box(210, 160, 3)"
      ]
     },
     "execution_count": 6,
     "metadata": {},
     "output_type": "execute_result"
    }
   ],
   "source": [
    "env.observation_space"
   ]
  },
  {
   "cell_type": "code",
   "execution_count": 7,
   "metadata": {},
   "outputs": [
    {
     "data": {
      "text/plain": [
       "Discrete(6)"
      ]
     },
     "execution_count": 7,
     "metadata": {},
     "output_type": "execute_result"
    }
   ],
   "source": [
    "env.action_space"
   ]
  },
  {
   "cell_type": "markdown",
   "metadata": {},
   "source": [
    "# Agent"
   ]
  },
  {
   "cell_type": "code",
   "execution_count": 8,
   "metadata": {
    "scrolled": true
   },
   "outputs": [
    {
     "data": {
      "text/plain": [
       "DeepQAgent(\n",
       "    env=<Monitor<TimeLimit<AtariEnv<SpaceInvadersDeterministic-v4>>>>,\n",
       "    downsample=Downsampler(y=(0, 15), x=(0, 1), cut=[]),\n",
       "    replay_memory_size=0,\n",
       "    agent_history_length=4,\n",
       "    discount_factor=0.99,\n",
       "    update_frequency=4,\n",
       "    optimizer=<keras.optimizers.RMSprop object at 0x114142f98>,\n",
       "    exploration_rate=AnnealingVariable(initial_value=1.0, final_value=0.1, steps=1000000),\n",
       "    null_op_max=30,\n",
       "    null_op=0,\n",
       "    loss=<function huber_loss at 0x1220ba0d0>,\n",
       "    image_size=(84, 84),\n",
       "    render_mode='rgb_array'\n",
       ")"
      ]
     },
     "execution_count": 8,
     "metadata": {},
     "output_type": "execute_result"
    }
   ],
   "source": [
    "agent = DeepQAgent(env, downsample_space_invaders, \n",
    "    replay_memory_size=0,\n",
    "    render_mode='rgb_array'\n",
    ")\n",
    "agent.model.load_weights('./models/double_dqn/space_invaders.h5')\n",
    "agent"
   ]
  },
  {
   "cell_type": "code",
   "execution_count": 9,
   "metadata": {},
   "outputs": [
    {
     "name": "stderr",
     "output_type": "stream",
     "text": [
      "100%|██████████| 100/100 [08:34<00:00,  5.14s/game]\n"
     ]
    },
    {
     "data": {
      "text/plain": [
       "0     19.0\n",
       "1     30.0\n",
       "2     33.0\n",
       "3     32.0\n",
       "4     30.0\n",
       "5     21.0\n",
       "6     34.0\n",
       "7     31.0\n",
       "8     29.0\n",
       "9     34.0\n",
       "10    29.0\n",
       "11    29.0\n",
       "12    25.0\n",
       "13    24.0\n",
       "14    27.0\n",
       "15    23.0\n",
       "16    29.0\n",
       "17    13.0\n",
       "18    24.0\n",
       "19    44.0\n",
       "20    27.0\n",
       "21    23.0\n",
       "22    30.0\n",
       "23    16.0\n",
       "24    47.0\n",
       "25    29.0\n",
       "26    26.0\n",
       "27    21.0\n",
       "28    27.0\n",
       "29    31.0\n",
       "      ... \n",
       "70    28.0\n",
       "71    34.0\n",
       "72    32.0\n",
       "73    26.0\n",
       "74    23.0\n",
       "75    20.0\n",
       "76    31.0\n",
       "77    28.0\n",
       "78    44.0\n",
       "79    33.0\n",
       "80    28.0\n",
       "81    17.0\n",
       "82    23.0\n",
       "83    27.0\n",
       "84    20.0\n",
       "85    33.0\n",
       "86    27.0\n",
       "87    17.0\n",
       "88    30.0\n",
       "89    19.0\n",
       "90    22.0\n",
       "91    31.0\n",
       "92    31.0\n",
       "93    22.0\n",
       "94    20.0\n",
       "95    24.0\n",
       "96    43.0\n",
       "97    33.0\n",
       "98    26.0\n",
       "99    33.0\n",
       "Length: 100, dtype: float64"
      ]
     },
     "execution_count": 9,
     "metadata": {},
     "output_type": "execute_result"
    }
   ],
   "source": [
    "fps = None # 60\n",
    "scores = agent.play(games=100, fps=fps)\n",
    "scores = pd.Series(scores)\n",
    "scores"
   ]
  },
  {
   "cell_type": "code",
   "execution_count": 10,
   "metadata": {},
   "outputs": [],
   "source": [
    "scores.to_csv('results/double_dqn/fully-deterministic.csv')"
   ]
  },
  {
   "cell_type": "code",
   "execution_count": 11,
   "metadata": {},
   "outputs": [
    {
     "data": {
      "image/png": "[encoded data removed]",
      "text/plain": [
       "<matplotlib.figure.Figure at 0x12888cb70>"
      ]
     },
     "metadata": {},
     "output_type": "display_data"
    }
   ],
   "source": [
    "_ = scores.hist()"
   ]
  },
  {
   "cell_type": "code",
   "execution_count": 12,
   "metadata": {},
   "outputs": [
    {
     "data": {
      "text/plain": [
       "count    100.000000\n",
       "mean      27.480000\n",
       "std        7.088873\n",
       "min       13.000000\n",
       "25%       23.000000\n",
       "50%       28.000000\n",
       "75%       31.000000\n",
       "max       57.000000\n",
       "dtype: float64"
      ]
     },
     "execution_count": 12,
     "metadata": {},
     "output_type": "execute_result"
    }
   ],
   "source": [
    "scores.describe()"
   ]
  },
  {
   "cell_type": "markdown",
   "metadata": {},
   "source": [
    " "
   ]
  }
 ],
 "metadata": {
  "kernelspec": {
   "display_name": "Python 3",
   "language": "python",
   "name": "python3"
  },
  "language_info": {
   "codemirror_mode": {
    "name": "ipython",
    "version": 3
   },
   "file_extension": ".py",
   "mimetype": "text/x-python",
   "name": "python",
   "nbconvert_exporter": "python",
   "pygments_lexer": "ipython3",
   "version": "3.6.4"
  }
 },
 "nbformat": 4,
 "nbformat_minor": 2
}
