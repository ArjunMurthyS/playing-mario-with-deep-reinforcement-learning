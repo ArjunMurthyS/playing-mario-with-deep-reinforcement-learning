{
 "cells": [
  {
   "cell_type": "code",
   "execution_count": 1,
   "metadata": {},
   "outputs": [],
   "source": [
    "!mkdir -p results results/double_dqn"
   ]
  },
  {
   "cell_type": "code",
   "execution_count": 2,
   "metadata": {},
   "outputs": [],
   "source": [
    "%matplotlib inline\n",
    "import pandas as pd"
   ]
  },
  {
   "cell_type": "code",
   "execution_count": 3,
   "metadata": {},
   "outputs": [],
   "source": [
    "import gym\n",
    "from gym.wrappers import Monitor"
   ]
  },
  {
   "cell_type": "code",
   "execution_count": 4,
   "metadata": {},
   "outputs": [
    {
     "name": "stderr",
     "output_type": "stream",
     "text": [
      "/usr/local/lib/python3.6/site-packages/h5py/__init__.py:36: FutureWarning: Conversion of the second argument of issubdtype from `float` to `np.floating` is deprecated. In future, it will be treated as `np.float64 == np.dtype(float).type`.\n",
      "  from ._conv import register_converters as _register_converters\n",
      "Using TensorFlow backend.\n"
     ]
    }
   ],
   "source": [
    "import base\n",
    "from src.agents import DeepQAgent\n",
    "from src.downsamplers import downsample_breakout"
   ]
  },
  {
   "cell_type": "markdown",
   "metadata": {},
   "source": [
    "# Environment"
   ]
  },
  {
   "cell_type": "code",
   "execution_count": 5,
   "metadata": {},
   "outputs": [],
   "source": [
    "# Deterministic - use a static number of frames for frame skipping\n",
    "# v4 - disable 25% chance of ignoring action and repeating last action\n",
    "env = gym.make('BreakoutDeterministic-v4')\n",
    "env = Monitor(env, './monitor/double_dqn/breakout', force=True)"
   ]
  },
  {
   "cell_type": "code",
   "execution_count": 6,
   "metadata": {},
   "outputs": [
    {
     "data": {
      "text/plain": [
       "Box(210, 160, 3)"
      ]
     },
     "execution_count": 6,
     "metadata": {},
     "output_type": "execute_result"
    }
   ],
   "source": [
    "env.observation_space"
   ]
  },
  {
   "cell_type": "code",
   "execution_count": 7,
   "metadata": {},
   "outputs": [
    {
     "data": {
      "text/plain": [
       "Discrete(4)"
      ]
     },
     "execution_count": 7,
     "metadata": {},
     "output_type": "execute_result"
    }
   ],
   "source": [
    "env.action_space"
   ]
  },
  {
   "cell_type": "markdown",
   "metadata": {},
   "source": [
    "# Agent"
   ]
  },
  {
   "cell_type": "code",
   "execution_count": 8,
   "metadata": {
    "scrolled": true
   },
   "outputs": [
    {
     "data": {
      "text/plain": [
       "DeepQAgent(\n",
       "    env=<Monitor<TimeLimit<AtariEnv<BreakoutDeterministic-v4>>>>,\n",
       "    downsample=Downsampler(y=(32, 14), x=(8, 8), cut=[142]),\n",
       "    replay_memory_size=0,\n",
       "    agent_history_length=4,\n",
       "    discount_factor=0.99,\n",
       "    update_frequency=4,\n",
       "    optimizer=<keras.optimizers.RMSprop object at 0x1135f1fd0>,\n",
       "    exploration_rate=AnnealingVariable(initial_value=1.0, final_value=0.1, steps=1000000),\n",
       "    null_op_max=30,\n",
       "    null_op=0,\n",
       "    loss=<function huber_loss at 0x1214c10d0>,\n",
       "    image_size=(84, 84),\n",
       "    render_mode='rgb_array'\n",
       ")"
      ]
     },
     "execution_count": 8,
     "metadata": {},
     "output_type": "execute_result"
    }
   ],
   "source": [
    "agent = DeepQAgent(env, downsample_breakout, \n",
    "    replay_memory_size=0,\n",
    "    render_mode='rgb_array'\n",
    ")\n",
    "agent.model.load_weights('./models/double_dqn/breakout.h5')\n",
    "agent"
   ]
  },
  {
   "cell_type": "code",
   "execution_count": 9,
   "metadata": {},
   "outputs": [
    {
     "name": "stderr",
     "output_type": "stream",
     "text": [
      "100%|██████████| 100/100 [09:20<00:00,  5.60s/game]\n"
     ]
    },
    {
     "data": {
      "text/plain": [
       "0     36.0\n",
       "1     51.0\n",
       "2     11.0\n",
       "3     14.0\n",
       "4     47.0\n",
       "5     24.0\n",
       "6     52.0\n",
       "7     36.0\n",
       "8     14.0\n",
       "9      4.0\n",
       "10    49.0\n",
       "11    30.0\n",
       "12    23.0\n",
       "13    30.0\n",
       "14    10.0\n",
       "15    18.0\n",
       "16    17.0\n",
       "17    12.0\n",
       "18    32.0\n",
       "19     5.0\n",
       "20    21.0\n",
       "21    31.0\n",
       "22    18.0\n",
       "23    13.0\n",
       "24    28.0\n",
       "25    32.0\n",
       "26    38.0\n",
       "27     4.0\n",
       "28    14.0\n",
       "29    21.0\n",
       "      ... \n",
       "70    16.0\n",
       "71    18.0\n",
       "72    96.0\n",
       "73    17.0\n",
       "74    16.0\n",
       "75     9.0\n",
       "76    23.0\n",
       "77    17.0\n",
       "78    21.0\n",
       "79    18.0\n",
       "80    56.0\n",
       "81    10.0\n",
       "82    24.0\n",
       "83    19.0\n",
       "84    13.0\n",
       "85    26.0\n",
       "86    60.0\n",
       "87    30.0\n",
       "88    65.0\n",
       "89    17.0\n",
       "90    34.0\n",
       "91    41.0\n",
       "92    11.0\n",
       "93    13.0\n",
       "94     6.0\n",
       "95    31.0\n",
       "96    13.0\n",
       "97     8.0\n",
       "98    17.0\n",
       "99    47.0\n",
       "Length: 100, dtype: float64"
      ]
     },
     "execution_count": 9,
     "metadata": {},
     "output_type": "execute_result"
    }
   ],
   "source": [
    "fps = None # 60\n",
    "scores = agent.play(games=100, fps=fps)\n",
    "scores = pd.Series(scores)\n",
    "scores"
   ]
  },
  {
   "cell_type": "code",
   "execution_count": 10,
   "metadata": {},
   "outputs": [],
   "source": [
    "scores.to_csv('results/double_dqn/fullydeterministic.csv')"
   ]
  },
  {
   "cell_type": "code",
   "execution_count": 11,
   "metadata": {},
   "outputs": [
    {
     "data": {
      "image/png": "[encoded data removed]",
      "text/plain": [
       "<matplotlib.figure.Figure at 0x127c938d0>"
      ]
     },
     "metadata": {},
     "output_type": "display_data"
    }
   ],
   "source": [
    "_ = scores.hist()"
   ]
  },
  {
   "cell_type": "code",
   "execution_count": 12,
   "metadata": {},
   "outputs": [
    {
     "data": {
      "text/plain": [
       "count    100.000000\n",
       "mean      25.470000\n",
       "std       16.926732\n",
       "min        4.000000\n",
       "25%       15.000000\n",
       "50%       21.500000\n",
       "75%       31.250000\n",
       "max      102.000000\n",
       "dtype: float64"
      ]
     },
     "execution_count": 12,
     "metadata": {},
     "output_type": "execute_result"
    }
   ],
   "source": [
    "scores.describe()"
   ]
  },
  {
   "cell_type": "markdown",
   "metadata": {},
   "source": [
    " "
   ]
  }
 ],
 "metadata": {
  "kernelspec": {
   "display_name": "Python 3",
   "language": "python",
   "name": "python3"
  },
  "language_info": {
   "codemirror_mode": {
    "name": "ipython",
    "version": 3
   },
   "file_extension": ".py",
   "mimetype": "text/x-python",
   "name": "python",
   "nbconvert_exporter": "python",
   "pygments_lexer": "ipython3",
   "version": "3.6.4"
  }
 },
 "nbformat": 4,
 "nbformat_minor": 2
}
