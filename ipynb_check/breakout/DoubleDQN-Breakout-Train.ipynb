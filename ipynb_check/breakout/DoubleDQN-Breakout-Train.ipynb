{
 "cells": [
  {
   "cell_type": "markdown",
   "metadata": {},
   "source": [
    "# Setup"
   ]
  },
  {
   "cell_type": "code",
   "execution_count": 1,
   "metadata": {},
   "outputs": [],
   "source": [
    "GAME = 'Breakout-v4'\n",
    "frames_to_play = 5000000"
   ]
  },
  {
   "cell_type": "code",
   "execution_count": 2,
   "metadata": {},
   "outputs": [
    {
     "name": "stderr",
     "output_type": "stream",
     "text": [
      "/usr/local/anaconda5/lib/python3.6/site-packages/h5py/__init__.py:34: FutureWarning: Conversion of the second argument of issubdtype from `float` to `np.floating` is deprecated. In future, it will be treated as `np.float64 == np.dtype(float).type`.\n",
      "  from ._conv import register_converters as _register_converters\n",
      "Using TensorFlow backend.\n",
      "/usr/local/anaconda5/lib/python3.6/importlib/_bootstrap.py:219: RuntimeWarning: compiletime version 3.5 of module 'tensorflow.python.framework.fast_tensor_util' does not match runtime version 3.6\n",
      "  return f(*args, **kwds)\n"
     ]
    }
   ],
   "source": [
    "import base\n",
    "from src.agents import DoubleDeepQAgent\n",
    "from src.util import JupyterCallback\n",
    "from src.downsamplers import downsample_breakout"
   ]
  },
  {
   "cell_type": "code",
   "execution_count": 3,
   "metadata": {},
   "outputs": [],
   "source": [
    "import os\n",
    "import gym\n",
    "import pandas as pd\n",
    "%matplotlib inline"
   ]
  },
  {
   "cell_type": "code",
   "execution_count": 4,
   "metadata": {},
   "outputs": [],
   "source": [
    "out_dir = 'results/{}'.format(DoubleDeepQAgent.__name__)\n",
    "if not os.path.exists(out_dir):\n",
    "    os.makedirs(out_dir)"
   ]
  },
  {
   "cell_type": "markdown",
   "metadata": {},
   "source": [
    "# Environment"
   ]
  },
  {
   "cell_type": "code",
   "execution_count": 5,
   "metadata": {},
   "outputs": [],
   "source": [
    "env = gym.make(GAME)"
   ]
  },
  {
   "cell_type": "code",
   "execution_count": 6,
   "metadata": {},
   "outputs": [
    {
     "data": {
      "text/plain": [
       "Box(210, 160, 3)"
      ]
     },
     "execution_count": 6,
     "metadata": {},
     "output_type": "execute_result"
    }
   ],
   "source": [
    "env.observation_space"
   ]
  },
  {
   "cell_type": "code",
   "execution_count": 7,
   "metadata": {},
   "outputs": [
    {
     "data": {
      "text/plain": [
       "Discrete(4)"
      ]
     },
     "execution_count": 7,
     "metadata": {},
     "output_type": "execute_result"
    }
   ],
   "source": [
    "env.action_space"
   ]
  },
  {
   "cell_type": "markdown",
   "metadata": {},
   "source": [
    "# Agent"
   ]
  },
  {
   "cell_type": "code",
   "execution_count": 8,
   "metadata": {
    "scrolled": true
   },
   "outputs": [
    {
     "data": {
      "text/plain": [
       "DoubleDeepQAgent(\n",
       "    env=<TimeLimit<AtariEnv<Breakout-v4>>>,\n",
       "    downsample=Downsampler(y=(32, 14), x=(8, 8), cut=[142]),\n",
       "    replay_memory_size=250000,\n",
       "    agent_history_length=4,\n",
       "    discount_factor=0.99,\n",
       "    update_frequency=4,\n",
       "    optimizer=<keras.optimizers.Adam object at 0x2b3de90cf5f8>,\n",
       "    exploration_rate=AnnealingVariable(initial_value=1.0, final_value=0.1, steps=1000000),\n",
       "    null_op_max=30,\n",
       "    null_op=0,\n",
       "    loss=<function huber_loss at 0x2b3de32d72f0>,\n",
       "    image_size=(84, 84),\n",
       "    render_mode='rgb_array',\n",
       "    target_update_freq=10000\n",
       ")"
      ]
     },
     "execution_count": 8,
     "metadata": {},
     "output_type": "execute_result"
    }
   ],
   "source": [
    "agent = DoubleDeepQAgent(env, downsample_breakout, render_mode='rgb_array')\n",
    "agent"
   ]
  },
  {
   "cell_type": "code",
   "execution_count": 9,
   "metadata": {},
   "outputs": [
    {
     "name": "stderr",
     "output_type": "stream",
     "text": [
      "100%|██████████| 100/100 [02:19<00:00,  1.39s/game]\n"
     ]
    },
    {
     "data": {
      "text/plain": [
       "0    -5.0\n",
       "1     1.0\n",
       "2    -5.0\n",
       "3    -5.0\n",
       "4    -3.0\n",
       "5    -3.0\n",
       "6    -5.0\n",
       "7    -2.0\n",
       "8    -5.0\n",
       "9    -2.0\n",
       "10   -3.0\n",
       "11   -5.0\n",
       "12   -1.0\n",
       "13   -3.0\n",
       "14   -5.0\n",
       "15   -3.0\n",
       "16   -5.0\n",
       "17   -5.0\n",
       "18   -4.0\n",
       "19   -5.0\n",
       "20   -5.0\n",
       "21   -3.0\n",
       "22   -5.0\n",
       "23   -4.0\n",
       "24   -5.0\n",
       "25   -3.0\n",
       "26   -3.0\n",
       "27   -5.0\n",
       "28   -5.0\n",
       "29   -5.0\n",
       "     ... \n",
       "70   -3.0\n",
       "71   -4.0\n",
       "72   -5.0\n",
       "73   -3.0\n",
       "74   -1.0\n",
       "75   -5.0\n",
       "76   -5.0\n",
       "77   -3.0\n",
       "78   -4.0\n",
       "79   -5.0\n",
       "80   -5.0\n",
       "81   -5.0\n",
       "82   -4.0\n",
       "83   -4.0\n",
       "84   -3.0\n",
       "85   -4.0\n",
       "86   -3.0\n",
       "87   -1.0\n",
       "88   -3.0\n",
       "89   -1.0\n",
       "90   -5.0\n",
       "91   -5.0\n",
       "92   -1.0\n",
       "93   -2.0\n",
       "94   -5.0\n",
       "95   -5.0\n",
       "96   -3.0\n",
       "97   -4.0\n",
       "98   -4.0\n",
       "99   -4.0\n",
       "Length: 100, dtype: float64"
      ]
     },
     "execution_count": 9,
     "metadata": {},
     "output_type": "execute_result"
    }
   ],
   "source": [
    "initial = agent.play()\n",
    "initial = pd.Series(initial)\n",
    "initial"
   ]
  },
  {
   "cell_type": "markdown",
   "metadata": {},
   "source": [
    "## Initial"
   ]
  },
  {
   "cell_type": "code",
   "execution_count": 10,
   "metadata": {},
   "outputs": [],
   "source": [
    "initial.to_csv('{}/initial.csv'.format(out_dir))"
   ]
  },
  {
   "cell_type": "code",
   "execution_count": 11,
   "metadata": {},
   "outputs": [
    {
     "data": {
      "text/plain": [
       "<matplotlib.axes._subplots.AxesSubplot at 0x2b4137fe72e8>"
      ]
     },
     "execution_count": 11,
     "metadata": {},
     "output_type": "execute_result"
    },
    {
     "data": {
      "image/png": "[encoded data removed]",
      "text/plain": [
       "<matplotlib.figure.Figure at 0x2b4134de7cf8>"
      ]
     },
     "metadata": {},
     "output_type": "display_data"
    }
   ],
   "source": [
    "initial.hist()"
   ]
  },
  {
   "cell_type": "code",
   "execution_count": 12,
   "metadata": {},
   "outputs": [
    {
     "data": {
      "text/plain": [
       "count    100.000000\n",
       "mean      -3.710000\n",
       "std        1.423433\n",
       "min       -5.000000\n",
       "25%       -5.000000\n",
       "50%       -4.000000\n",
       "75%       -3.000000\n",
       "max        1.000000\n",
       "dtype: float64"
      ]
     },
     "execution_count": 12,
     "metadata": {},
     "output_type": "execute_result"
    }
   ],
   "source": [
    "initial.describe()"
   ]
  },
  {
   "cell_type": "markdown",
   "metadata": {},
   "source": [
    "## Training"
   ]
  },
  {
   "cell_type": "code",
   "execution_count": 13,
   "metadata": {},
   "outputs": [
    {
     "name": "stderr",
     "output_type": "stream",
     "text": [
      "100%|██████████| 50000/50000 [00:44<00:00, 1132.52frame/s]\n"
     ]
    }
   ],
   "source": [
    "agent.observe()"
   ]
  },
  {
   "cell_type": "code",
   "execution_count": 14,
   "metadata": {},
   "outputs": [
    {
     "data": {
      "image/png": "[encoded data removed]",
      "text/plain": [
       "<matplotlib.figure.Figure at 0x2b45c7e369b0>"
      ]
     },
     "metadata": {},
     "output_type": "display_data"
    },
    {
     "name": "stderr",
     "output_type": "stream",
     "text": [
      "100%|██████████| 5000000/5000000 [7:50:50<00:00, 182.33frame/s, loss=0.435, score=32]\n"
     ]
    }
   ],
   "source": [
    "callback = JupyterCallback()\n",
    "agent.train(frames_to_play=frames_to_play, callback=callback)"
   ]
  },
  {
   "cell_type": "markdown",
   "metadata": {},
   "source": [
    "## Final"
   ]
  },
  {
   "cell_type": "code",
   "execution_count": 15,
   "metadata": {},
   "outputs": [
    {
     "name": "stderr",
     "output_type": "stream",
     "text": [
      "100%|██████████| 100/100 [08:01<00:00,  4.82s/game]\n"
     ]
    },
    {
     "data": {
      "text/plain": [
       "0     63.0\n",
       "1     49.0\n",
       "2     56.0\n",
       "3     69.0\n",
       "4     48.0\n",
       "5     50.0\n",
       "6     44.0\n",
       "7     40.0\n",
       "8     30.0\n",
       "9     45.0\n",
       "10    55.0\n",
       "11    62.0\n",
       "12    70.0\n",
       "13    37.0\n",
       "14    61.0\n",
       "15    49.0\n",
       "16    50.0\n",
       "17    55.0\n",
       "18    43.0\n",
       "19    35.0\n",
       "20    61.0\n",
       "21    59.0\n",
       "22    41.0\n",
       "23    25.0\n",
       "24    67.0\n",
       "25    46.0\n",
       "26    23.0\n",
       "27    32.0\n",
       "28    54.0\n",
       "29    50.0\n",
       "      ... \n",
       "70    65.0\n",
       "71    60.0\n",
       "72    45.0\n",
       "73    58.0\n",
       "74    78.0\n",
       "75    28.0\n",
       "76    41.0\n",
       "77    61.0\n",
       "78    68.0\n",
       "79    72.0\n",
       "80    58.0\n",
       "81    53.0\n",
       "82    42.0\n",
       "83    61.0\n",
       "84    61.0\n",
       "85    64.0\n",
       "86    49.0\n",
       "87    40.0\n",
       "88    61.0\n",
       "89    61.0\n",
       "90    45.0\n",
       "91    44.0\n",
       "92    57.0\n",
       "93    46.0\n",
       "94    44.0\n",
       "95    36.0\n",
       "96    80.0\n",
       "97    46.0\n",
       "98    37.0\n",
       "99    39.0\n",
       "Length: 100, dtype: float64"
      ]
     },
     "execution_count": 15,
     "metadata": {},
     "output_type": "execute_result"
    }
   ],
   "source": [
    "final = agent.play()\n",
    "final = pd.Series(final)\n",
    "final"
   ]
  },
  {
   "cell_type": "code",
   "execution_count": 16,
   "metadata": {},
   "outputs": [],
   "source": [
    "final.to_csv('{}/final.csv'.format(out_dir))"
   ]
  },
  {
   "cell_type": "code",
   "execution_count": 17,
   "metadata": {},
   "outputs": [
    {
     "data": {
      "text/plain": [
       "<matplotlib.axes._subplots.AxesSubplot at 0x2b4137e6a6d8>"
      ]
     },
     "execution_count": 17,
     "metadata": {},
     "output_type": "execute_result"
    },
    {
     "data": {
      "image/png": "[encoded data removed]",
      "text/plain": [
       "<matplotlib.figure.Figure at 0x2b4137e67a90>"
      ]
     },
     "metadata": {},
     "output_type": "display_data"
    }
   ],
   "source": [
    "final.hist()"
   ]
  },
  {
   "cell_type": "code",
   "execution_count": 18,
   "metadata": {},
   "outputs": [
    {
     "data": {
      "text/plain": [
       "count    100.000000\n",
       "mean      51.710000\n",
       "std       12.549937\n",
       "min       23.000000\n",
       "25%       43.750000\n",
       "50%       50.000000\n",
       "75%       61.000000\n",
       "max       87.000000\n",
       "dtype: float64"
      ]
     },
     "execution_count": 18,
     "metadata": {},
     "output_type": "execute_result"
    }
   ],
   "source": [
    "final.describe()"
   ]
  },
  {
   "cell_type": "markdown",
   "metadata": {},
   "source": [
    "## Saving Weights"
   ]
  },
  {
   "cell_type": "code",
   "execution_count": 19,
   "metadata": {},
   "outputs": [],
   "source": [
    "agent.model.save_weights('{}/weights.h5'.format(out_dir), overwrite=True)"
   ]
  },
  {
   "cell_type": "markdown",
   "metadata": {},
   "source": [
    " "
   ]
  }
 ],
 "metadata": {
  "kernelspec": {
   "display_name": "Python 3.6 [python/3.6 cuda/8.0.44]",
   "language": "python",
   "name": "python36"
  },
  "language_info": {
   "codemirror_mode": {
    "name": "ipython",
    "version": 3
   },
   "file_extension": ".py",
   "mimetype": "text/x-python",
   "name": "python",
   "nbconvert_exporter": "python",
   "pygments_lexer": "ipython3",
   "version": "3.6.3"
  }
 },
 "nbformat": 4,
 "nbformat_minor": 2
}
