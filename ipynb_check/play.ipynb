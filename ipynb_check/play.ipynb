{
 "cells": [
  {
   "cell_type": "markdown",
   "metadata": {},
   "source": [
    "# Setup"
   ]
  },
  {
   "cell_type": "code",
   "execution_count": 1,
   "metadata": {},
   "outputs": [],
   "source": [
    "exp_directory = 'results'\n",
    "agent_name = 'DoubleDeepQAgent'\n",
    "game_name = 'Breakout'\n",
    "env_name = '-v4'\n",
    "render_mode='rgb_array'\n",
    "fps = None # 60"
   ]
  },
  {
   "cell_type": "code",
   "execution_count": 2,
   "metadata": {},
   "outputs": [
    {
     "data": {
      "text/plain": [
       "'Breakout-v4'"
      ]
     },
     "execution_count": 2,
     "metadata": {},
     "output_type": "execute_result"
    }
   ],
   "source": [
    "game = game_name + env_name\n",
    "game"
   ]
  },
  {
   "cell_type": "markdown",
   "metadata": {},
   "source": [
    "### Global Modules"
   ]
  },
  {
   "cell_type": "code",
   "execution_count": 3,
   "metadata": {},
   "outputs": [],
   "source": [
    "%matplotlib inline\n",
    "import pandas as pd\n",
    "import os\n",
    "import sys\n",
    "import gym\n",
    "from gym.wrappers import Monitor"
   ]
  },
  {
   "cell_type": "markdown",
   "metadata": {},
   "source": [
    "### Local Modules"
   ]
  },
  {
   "cell_type": "code",
   "execution_count": 4,
   "metadata": {},
   "outputs": [
    {
     "name": "stderr",
     "output_type": "stream",
     "text": [
      "/usr/local/lib/python3.6/site-packages/h5py/__init__.py:36: FutureWarning: Conversion of the second argument of issubdtype from `float` to `np.floating` is deprecated. In future, it will be treated as `np.float64 == np.dtype(float).type`.\n",
      "  from ._conv import register_converters as _register_converters\n",
      "Using TensorFlow backend.\n"
     ]
    }
   ],
   "source": [
    "import base\n",
    "from src.agents import (\n",
    "    DeepQAgent,\n",
    "    DoubleDeepQAgent\n",
    ")\n",
    "from src.downsamplers import (\n",
    "    downsample_pong,\n",
    "    downsample_breakout,\n",
    "    downsample_space_invaders\n",
    ")"
   ]
  },
  {
   "cell_type": "markdown",
   "metadata": {},
   "source": [
    "## Constants"
   ]
  },
  {
   "cell_type": "code",
   "execution_count": 5,
   "metadata": {},
   "outputs": [],
   "source": [
    "# a mapping of string names to agents\n",
    "agents = {\n",
    "    'DeepQAgent': DeepQAgent,\n",
    "    'DoubleDeepQAgent': DoubleDeepQAgent,\n",
    "}\n",
    "\n",
    "# down-samplers for each game\n",
    "downsamplers = {\n",
    "    'Pong': downsample_pong,\n",
    "    'Breakout': downsample_breakout,\n",
    "    'SpaceInvaders': downsample_space_invaders,\n",
    "}"
   ]
  },
  {
   "cell_type": "code",
   "execution_count": 6,
   "metadata": {},
   "outputs": [],
   "source": [
    "exp_directory = '{}/{}/{}'.format(exp_directory, game_name, DoubleDeepQAgent.__name__)\n",
    "if not os.path.exists(exp_directory):\n",
    "    raise ValueError('{} not found!'.format(repr(exp_directory)))\n",
    "# set up the weights file\n",
    "weights_file = '{}/weights.h5'.format(exp_directory)\n",
    "# make sure the weights exist\n",
    "if not os.path.exists(weights_file):\n",
    "    raise ValueError('{} not found!'.format(repr(weights_file)))"
   ]
  },
  {
   "cell_type": "markdown",
   "metadata": {},
   "source": [
    "# Environment"
   ]
  },
  {
   "cell_type": "code",
   "execution_count": 7,
   "metadata": {},
   "outputs": [],
   "source": [
    "env = gym.make(game)\n",
    "env = Monitor(env, '{}/monitor'.format(exp_directory), force=True)"
   ]
  },
  {
   "cell_type": "code",
   "execution_count": 8,
   "metadata": {},
   "outputs": [
    {
     "data": {
      "text/plain": [
       "Box(210, 160, 3)"
      ]
     },
     "execution_count": 8,
     "metadata": {},
     "output_type": "execute_result"
    }
   ],
   "source": [
    "env.observation_space"
   ]
  },
  {
   "cell_type": "code",
   "execution_count": 9,
   "metadata": {},
   "outputs": [
    {
     "data": {
      "text/plain": [
       "Discrete(4)"
      ]
     },
     "execution_count": 9,
     "metadata": {},
     "output_type": "execute_result"
    }
   ],
   "source": [
    "env.action_space"
   ]
  },
  {
   "cell_type": "markdown",
   "metadata": {},
   "source": [
    "# Agent"
   ]
  },
  {
   "cell_type": "code",
   "execution_count": 10,
   "metadata": {
    "scrolled": true
   },
   "outputs": [
    {
     "data": {
      "text/plain": [
       "DoubleDeepQAgent(\n",
       "    env=<Monitor<TimeLimit<AtariEnv<Breakout-v4>>>>,\n",
       "    downsample=Downsampler(y=(32, 14), x=(8, 8), cut=[142]),\n",
       "    replay_memory_size=0,\n",
       "    agent_history_length=4,\n",
       "    discount_factor=0.99,\n",
       "    update_frequency=4,\n",
       "    optimizer=<keras.optimizers.Adam object at 0x123471da0>,\n",
       "    exploration_rate=AnnealingVariable(initial_value=1.0, final_value=0.1, steps=1000000),\n",
       "    null_op_max=30,\n",
       "    null_op=0,\n",
       "    loss=<function huber_loss at 0x11cd03048>,\n",
       "    image_size=(84, 84),\n",
       "    render_mode='rgb_array',\n",
       "    target_update_freq=10000\n",
       ")"
      ]
     },
     "execution_count": 10,
     "metadata": {},
     "output_type": "execute_result"
    }
   ],
   "source": [
    "agent = agents[agent_name](env, downsamplers[game_name],\n",
    "    replay_memory_size=0,\n",
    "    render_mode='rgb_array',\n",
    ")\n",
    "agent.model.load_weights(weights_file)\n",
    "agent"
   ]
  },
  {
   "cell_type": "code",
   "execution_count": 11,
   "metadata": {},
   "outputs": [
    {
     "name": "stderr",
     "output_type": "stream",
     "text": [
      "100%|██████████| 100/100 [10:20<00:00,  6.21s/game]\n"
     ]
    },
    {
     "data": {
      "text/plain": [
       "0     54.0\n",
       "1     52.0\n",
       "2     46.0\n",
       "3     34.0\n",
       "4     52.0\n",
       "5     40.0\n",
       "6     30.0\n",
       "7     48.0\n",
       "8     37.0\n",
       "9     37.0\n",
       "10    31.0\n",
       "11    53.0\n",
       "12    70.0\n",
       "13    47.0\n",
       "14    58.0\n",
       "15    42.0\n",
       "16    65.0\n",
       "17    49.0\n",
       "18    51.0\n",
       "19    55.0\n",
       "20    62.0\n",
       "21    39.0\n",
       "22    47.0\n",
       "23    58.0\n",
       "24    55.0\n",
       "25    64.0\n",
       "26    30.0\n",
       "27    57.0\n",
       "28    35.0\n",
       "29    42.0\n",
       "      ... \n",
       "70    67.0\n",
       "71    45.0\n",
       "72    75.0\n",
       "73    45.0\n",
       "74    45.0\n",
       "75    40.0\n",
       "76    51.0\n",
       "77    35.0\n",
       "78    78.0\n",
       "79    45.0\n",
       "80    33.0\n",
       "81    55.0\n",
       "82    60.0\n",
       "83    67.0\n",
       "84    38.0\n",
       "85    42.0\n",
       "86    64.0\n",
       "87    54.0\n",
       "88    38.0\n",
       "89    55.0\n",
       "90    33.0\n",
       "91    53.0\n",
       "92    46.0\n",
       "93    69.0\n",
       "94    43.0\n",
       "95    47.0\n",
       "96    42.0\n",
       "97    67.0\n",
       "98    52.0\n",
       "99    47.0\n",
       "Length: 100, dtype: float64"
      ]
     },
     "execution_count": 11,
     "metadata": {},
     "output_type": "execute_result"
    }
   ],
   "source": [
    "scores = agent.play(fps=fps)\n",
    "scores = pd.Series(scores)\n",
    "scores"
   ]
  },
  {
   "cell_type": "code",
   "execution_count": 12,
   "metadata": {},
   "outputs": [
    {
     "data": {
      "image/png": "[encoded data removed]",
      "text/plain": [
       "<matplotlib.figure.Figure at 0x1234f2588>"
      ]
     },
     "metadata": {},
     "output_type": "display_data"
    }
   ],
   "source": [
    "_ = scores.hist()"
   ]
  },
  {
   "cell_type": "code",
   "execution_count": 13,
   "metadata": {},
   "outputs": [
    {
     "data": {
      "text/plain": [
       "count    100.000000\n",
       "mean      50.640000\n",
       "std       11.877761\n",
       "min       29.000000\n",
       "25%       41.000000\n",
       "50%       50.500000\n",
       "75%       60.250000\n",
       "max       80.000000\n",
       "dtype: float64"
      ]
     },
     "execution_count": 13,
     "metadata": {},
     "output_type": "execute_result"
    }
   ],
   "source": [
    "scores.describe()"
   ]
  },
  {
   "cell_type": "markdown",
   "metadata": {},
   "source": [
    " "
   ]
  }
 ],
 "metadata": {
  "kernelspec": {
   "display_name": "Python 3",
   "language": "python",
   "name": "python3"
  },
  "language_info": {
   "codemirror_mode": {
    "name": "ipython",
    "version": 3
   },
   "file_extension": ".py",
   "mimetype": "text/x-python",
   "name": "python",
   "nbconvert_exporter": "python",
   "pygments_lexer": "ipython3",
   "version": "3.6.4"
  }
 },
 "nbformat": 4,
 "nbformat_minor": 2
}
