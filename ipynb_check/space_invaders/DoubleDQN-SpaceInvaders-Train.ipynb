{
 "cells": [
  {
   "cell_type": "markdown",
   "metadata": {},
   "source": [
    "# Setup"
   ]
  },
  {
   "cell_type": "code",
   "execution_count": 1,
   "metadata": {},
   "outputs": [],
   "source": [
    "GAME = 'SpaceInvaders-v4'\n",
    "frames_to_play = 5000000"
   ]
  },
  {
   "cell_type": "code",
   "execution_count": 2,
   "metadata": {},
   "outputs": [
    {
     "name": "stderr",
     "output_type": "stream",
     "text": [
      "/usr/local/anaconda5/lib/python3.6/site-packages/h5py/__init__.py:34: FutureWarning: Conversion of the second argument of issubdtype from `float` to `np.floating` is deprecated. In future, it will be treated as `np.float64 == np.dtype(float).type`.\n",
      "  from ._conv import register_converters as _register_converters\n",
      "Using TensorFlow backend.\n",
      "/usr/local/anaconda5/lib/python3.6/importlib/_bootstrap.py:219: RuntimeWarning: compiletime version 3.5 of module 'tensorflow.python.framework.fast_tensor_util' does not match runtime version 3.6\n",
      "  return f(*args, **kwds)\n"
     ]
    }
   ],
   "source": [
    "import base\n",
    "from src.agents import DoubleDeepQAgent\n",
    "from src.util import JupyterCallback\n",
    "from src.downsamplers import downsample_space_invaders"
   ]
  },
  {
   "cell_type": "code",
   "execution_count": 3,
   "metadata": {},
   "outputs": [],
   "source": [
    "import os\n",
    "import gym\n",
    "import pandas as pd\n",
    "%matplotlib inline"
   ]
  },
  {
   "cell_type": "code",
   "execution_count": 4,
   "metadata": {},
   "outputs": [],
   "source": [
    "out_dir = 'results/{}'.format(DoubleDeepQAgent.__name__)\n",
    "if not os.path.exists(out_dir):\n",
    "    os.makedirs(out_dir)"
   ]
  },
  {
   "cell_type": "markdown",
   "metadata": {},
   "source": [
    "# Environment"
   ]
  },
  {
   "cell_type": "code",
   "execution_count": 5,
   "metadata": {},
   "outputs": [],
   "source": [
    "env = gym.make(GAME)"
   ]
  },
  {
   "cell_type": "code",
   "execution_count": 6,
   "metadata": {},
   "outputs": [
    {
     "data": {
      "text/plain": [
       "Box(210, 160, 3)"
      ]
     },
     "execution_count": 6,
     "metadata": {},
     "output_type": "execute_result"
    }
   ],
   "source": [
    "env.observation_space"
   ]
  },
  {
   "cell_type": "code",
   "execution_count": 7,
   "metadata": {},
   "outputs": [
    {
     "data": {
      "text/plain": [
       "Discrete(6)"
      ]
     },
     "execution_count": 7,
     "metadata": {},
     "output_type": "execute_result"
    }
   ],
   "source": [
    "env.action_space"
   ]
  },
  {
   "cell_type": "markdown",
   "metadata": {},
   "source": [
    "# Agent"
   ]
  },
  {
   "cell_type": "code",
   "execution_count": 8,
   "metadata": {
    "scrolled": true
   },
   "outputs": [
    {
     "data": {
      "text/plain": [
       "DoubleDeepQAgent(\n",
       "    env=<TimeLimit<AtariEnv<SpaceInvaders-v4>>>,\n",
       "    downsample=Downsampler(y=(0, 15), x=(0, 1), cut=[]),\n",
       "    replay_memory_size=250000,\n",
       "    agent_history_length=4,\n",
       "    discount_factor=0.99,\n",
       "    update_frequency=4,\n",
       "    optimizer=<keras.optimizers.Adam object at 0x2b3980439668>,\n",
       "    exploration_rate=AnnealingVariable(initial_value=1.0, final_value=0.1, steps=1000000),\n",
       "    null_op_max=30,\n",
       "    null_op=0,\n",
       "    loss=<function huber_loss at 0x2b397a645378>,\n",
       "    image_size=(84, 84),\n",
       "    render_mode='rgb_array',\n",
       "    target_update_freq=10000\n",
       ")"
      ]
     },
     "execution_count": 8,
     "metadata": {},
     "output_type": "execute_result"
    }
   ],
   "source": [
    "agent = DoubleDeepQAgent(env, downsample_space_invaders, render_mode='rgb_array')\n",
    "agent"
   ]
  },
  {
   "cell_type": "markdown",
   "metadata": {},
   "source": [
    "## Initial"
   ]
  },
  {
   "cell_type": "code",
   "execution_count": 9,
   "metadata": {},
   "outputs": [
    {
     "name": "stderr",
     "output_type": "stream",
     "text": [
      "100%|██████████| 100/100 [03:07<00:00,  1.88s/game]\n"
     ]
    },
    {
     "data": {
      "text/plain": [
       "0     12.0\n",
       "1     17.0\n",
       "2     16.0\n",
       "3     10.0\n",
       "4     16.0\n",
       "5     14.0\n",
       "6     18.0\n",
       "7     16.0\n",
       "8     12.0\n",
       "9      3.0\n",
       "10    14.0\n",
       "11     8.0\n",
       "12    17.0\n",
       "13     4.0\n",
       "14    16.0\n",
       "15     3.0\n",
       "16     4.0\n",
       "17    24.0\n",
       "18    19.0\n",
       "19     9.0\n",
       "20    17.0\n",
       "21    16.0\n",
       "22    13.0\n",
       "23    20.0\n",
       "24    15.0\n",
       "25    15.0\n",
       "26    11.0\n",
       "27    12.0\n",
       "28     5.0\n",
       "29    17.0\n",
       "      ... \n",
       "70    15.0\n",
       "71    15.0\n",
       "72    15.0\n",
       "73    10.0\n",
       "74    19.0\n",
       "75    20.0\n",
       "76    22.0\n",
       "77    21.0\n",
       "78    16.0\n",
       "79    23.0\n",
       "80     9.0\n",
       "81    19.0\n",
       "82    30.0\n",
       "83     4.0\n",
       "84    16.0\n",
       "85    17.0\n",
       "86    11.0\n",
       "87    11.0\n",
       "88    13.0\n",
       "89     2.0\n",
       "90     9.0\n",
       "91     0.0\n",
       "92    12.0\n",
       "93    16.0\n",
       "94    12.0\n",
       "95     2.0\n",
       "96     9.0\n",
       "97    15.0\n",
       "98    11.0\n",
       "99    17.0\n",
       "Length: 100, dtype: float64"
      ]
     },
     "execution_count": 9,
     "metadata": {},
     "output_type": "execute_result"
    }
   ],
   "source": [
    "initial = agent.play()\n",
    "initial = pd.Series(initial)\n",
    "initial"
   ]
  },
  {
   "cell_type": "code",
   "execution_count": 10,
   "metadata": {},
   "outputs": [],
   "source": [
    "initial.to_csv('{}/initial.csv'.format(out_dir))"
   ]
  },
  {
   "cell_type": "code",
   "execution_count": 11,
   "metadata": {},
   "outputs": [
    {
     "data": {
      "text/plain": [
       "<matplotlib.axes._subplots.AxesSubplot at 0x2b3d4f9c1400>"
      ]
     },
     "execution_count": 11,
     "metadata": {},
     "output_type": "execute_result"
    },
    {
     "data": {
      "image/png": "[encoded data removed]",
      "text/plain": [
       "<matplotlib.figure.Figure at 0x2b39824c1390>"
      ]
     },
     "metadata": {},
     "output_type": "display_data"
    }
   ],
   "source": [
    "initial.hist()"
   ]
  },
  {
   "cell_type": "code",
   "execution_count": 12,
   "metadata": {},
   "outputs": [
    {
     "data": {
      "text/plain": [
       "count    100.000000\n",
       "mean      12.700000\n",
       "std        6.554357\n",
       "min        0.000000\n",
       "25%        9.000000\n",
       "50%       13.000000\n",
       "75%       17.000000\n",
       "max       31.000000\n",
       "dtype: float64"
      ]
     },
     "execution_count": 12,
     "metadata": {},
     "output_type": "execute_result"
    }
   ],
   "source": [
    "initial.describe()"
   ]
  },
  {
   "cell_type": "markdown",
   "metadata": {},
   "source": [
    "## Training"
   ]
  },
  {
   "cell_type": "code",
   "execution_count": 13,
   "metadata": {},
   "outputs": [
    {
     "name": "stderr",
     "output_type": "stream",
     "text": [
      "100%|██████████| 50000/50000 [00:40<00:00, 1234.10frame/s]\n"
     ]
    }
   ],
   "source": [
    "agent.observe()"
   ]
  },
  {
   "cell_type": "code",
   "execution_count": 14,
   "metadata": {},
   "outputs": [
    {
     "data": {
      "image/png": "[encoded data removed]",
      "text/plain": [
       "<matplotlib.figure.Figure at 0x2b41f3819668>"
      ]
     },
     "metadata": {},
     "output_type": "display_data"
    },
    {
     "name": "stderr",
     "output_type": "stream",
     "text": [
      "100%|██████████| 5000000/5000000 [7:53:13<00:00, 170.54frame/s, loss=0.241, score=4] \n"
     ]
    }
   ],
   "source": [
    "callback = JupyterCallback()\n",
    "agent.train(frames_to_play=frames_to_play, callback=callback)"
   ]
  },
  {
   "cell_type": "markdown",
   "metadata": {},
   "source": [
    "## Final"
   ]
  },
  {
   "cell_type": "code",
   "execution_count": 15,
   "metadata": {},
   "outputs": [
    {
     "name": "stderr",
     "output_type": "stream",
     "text": [
      "100%|██████████| 100/100 [03:58<00:00,  2.38s/game]\n"
     ]
    },
    {
     "data": {
      "text/plain": [
       "0     29.0\n",
       "1     26.0\n",
       "2     25.0\n",
       "3      7.0\n",
       "4     31.0\n",
       "5     34.0\n",
       "6     28.0\n",
       "7     29.0\n",
       "8     32.0\n",
       "9     31.0\n",
       "10    29.0\n",
       "11    31.0\n",
       "12    28.0\n",
       "13    33.0\n",
       "14    22.0\n",
       "15    27.0\n",
       "16    18.0\n",
       "17    16.0\n",
       "18    23.0\n",
       "19    33.0\n",
       "20    31.0\n",
       "21    12.0\n",
       "22    22.0\n",
       "23    29.0\n",
       "24    32.0\n",
       "25    24.0\n",
       "26    11.0\n",
       "27    28.0\n",
       "28    33.0\n",
       "29    38.0\n",
       "      ... \n",
       "70    22.0\n",
       "71    20.0\n",
       "72    30.0\n",
       "73    32.0\n",
       "74    27.0\n",
       "75    28.0\n",
       "76    32.0\n",
       "77    29.0\n",
       "78    31.0\n",
       "79    19.0\n",
       "80    20.0\n",
       "81    31.0\n",
       "82    28.0\n",
       "83    28.0\n",
       "84    32.0\n",
       "85    33.0\n",
       "86    19.0\n",
       "87    25.0\n",
       "88    53.0\n",
       "89    25.0\n",
       "90    12.0\n",
       "91    13.0\n",
       "92    28.0\n",
       "93    16.0\n",
       "94    29.0\n",
       "95    31.0\n",
       "96    38.0\n",
       "97    31.0\n",
       "98    31.0\n",
       "99    28.0\n",
       "Length: 100, dtype: float64"
      ]
     },
     "execution_count": 15,
     "metadata": {},
     "output_type": "execute_result"
    }
   ],
   "source": [
    "final = agent.play()\n",
    "final = pd.Series(final)\n",
    "final"
   ]
  },
  {
   "cell_type": "code",
   "execution_count": 16,
   "metadata": {},
   "outputs": [],
   "source": [
    "final.to_csv('{}/final.csv'.format(out_dir))"
   ]
  },
  {
   "cell_type": "code",
   "execution_count": 17,
   "metadata": {},
   "outputs": [
    {
     "data": {
      "text/plain": [
       "<matplotlib.axes._subplots.AxesSubplot at 0x2b41f3cfe630>"
      ]
     },
     "execution_count": 17,
     "metadata": {},
     "output_type": "execute_result"
    },
    {
     "data": {
      "image/png": "[encoded data removed]",
      "text/plain": [
       "<matplotlib.figure.Figure at 0x2b41f37c3550>"
      ]
     },
     "metadata": {},
     "output_type": "display_data"
    }
   ],
   "source": [
    "final.hist()"
   ]
  },
  {
   "cell_type": "code",
   "execution_count": 18,
   "metadata": {},
   "outputs": [
    {
     "data": {
      "text/plain": [
       "count    100.000000\n",
       "mean      26.220000\n",
       "std        6.733873\n",
       "min        7.000000\n",
       "25%       22.750000\n",
       "50%       28.000000\n",
       "75%       31.000000\n",
       "max       53.000000\n",
       "dtype: float64"
      ]
     },
     "execution_count": 18,
     "metadata": {},
     "output_type": "execute_result"
    }
   ],
   "source": [
    "final.describe()"
   ]
  },
  {
   "cell_type": "markdown",
   "metadata": {},
   "source": [
    "## Saving Weights"
   ]
  },
  {
   "cell_type": "code",
   "execution_count": 19,
   "metadata": {},
   "outputs": [],
   "source": [
    "agent.model.save_weights('{}/weights.h5'.format(out_dir), overwrite=True)"
   ]
  },
  {
   "cell_type": "markdown",
   "metadata": {},
   "source": [
    " "
   ]
  }
 ],
 "metadata": {
  "kernelspec": {
   "display_name": "Python 3.6 [python/3.6 cuda/8.0.44]",
   "language": "python",
   "name": "python36"
  },
  "language_info": {
   "codemirror_mode": {
    "name": "ipython",
    "version": 3
   },
   "file_extension": ".py",
   "mimetype": "text/x-python",
   "name": "python",
   "nbconvert_exporter": "python",
   "pygments_lexer": "ipython3",
   "version": "3.6.3"
  }
 },
 "nbformat": 4,
 "nbformat_minor": 2
}
