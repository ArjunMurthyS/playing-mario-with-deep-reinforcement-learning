{
 "cells": [
  {
   "cell_type": "code",
   "execution_count": 1,
   "metadata": {},
   "outputs": [],
   "source": [
    "import pandas as pd"
   ]
  },
  {
   "cell_type": "code",
   "execution_count": 2,
   "metadata": {},
   "outputs": [],
   "source": [
    "games = ['Breakout', 'Enduro', 'Pong', 'Seaquest', 'SpaceInvaders']"
   ]
  },
  {
   "cell_type": "code",
   "execution_count": 3,
   "metadata": {},
   "outputs": [],
   "source": [
    "scores = {}"
   ]
  },
  {
   "cell_type": "code",
   "execution_count": 4,
   "metadata": {},
   "outputs": [],
   "source": [
    "def read_table(directory: str, name: str):\n",
    "    return pd.read_csv('{}/{}.csv'.format(directory, name), index_col=0).mean()"
   ]
  },
  {
   "cell_type": "code",
   "execution_count": 5,
   "metadata": {},
   "outputs": [],
   "source": [
    "for game in games:\n",
    "    directory = '{}/DeepQAgent/1M'.format(game)\n",
    "    scores[game] = {}\n",
    "    scores[game]['Random'] = read_table(directory, 'random').mean()\n",
    "    scores[game]['Trained'] = read_table(directory, 'final_validation').mean()"
   ]
  },
  {
   "cell_type": "code",
   "execution_count": 6,
   "metadata": {},
   "outputs": [
    {
     "data": {
      "text/plain": [
       "{'Breakout': {'Random': 1.02020202020202, 'Trained': 363.80808080808083},\n",
       " 'Enduro': {'Random': 0.0, 'Trained': 330.6666666666667},\n",
       " 'Pong': {'Random': -21.0, 'Trained': 19.747474747474747},\n",
       " 'Seaquest': {'Random': 103.03030303030303, 'Trained': 8015.959595959596},\n",
       " 'SpaceInvaders': {'Random': 138.83838383838383, 'Trained': 999.8484848484849}}"
      ]
     },
     "execution_count": 6,
     "metadata": {},
     "output_type": "execute_result"
    }
   ],
   "source": [
    "scores"
   ]
  },
  {
   "cell_type": "code",
   "execution_count": 7,
   "metadata": {},
   "outputs": [
    {
     "data": {
      "text/html": [
       "<div>\n",
       "<style scoped>\n",
       "    .dataframe tbody tr th:only-of-type {\n",
       "        vertical-align: middle;\n",
       "    }\n",
       "\n",
       "    .dataframe tbody tr th {\n",
       "        vertical-align: top;\n",
       "    }\n",
       "\n",
       "    .dataframe thead th {\n",
       "        text-align: right;\n",
       "    }\n",
       "</style>\n",
       "<table border=\"1\" class=\"dataframe\">\n",
       "  <thead>\n",
       "    <tr style=\"text-align: right;\">\n",
       "      <th></th>\n",
       "      <th>Breakout</th>\n",
       "      <th>Enduro</th>\n",
       "      <th>Pong</th>\n",
       "      <th>Seaquest</th>\n",
       "      <th>Space Invaders</th>\n",
       "    </tr>\n",
       "  </thead>\n",
       "  <tbody>\n",
       "    <tr>\n",
       "      <th>Random</th>\n",
       "      <td>1.020202</td>\n",
       "      <td>0.000000</td>\n",
       "      <td>-21.000000</td>\n",
       "      <td>103.030303</td>\n",
       "      <td>138.838384</td>\n",
       "    </tr>\n",
       "    <tr>\n",
       "      <th>Trained</th>\n",
       "      <td>363.808081</td>\n",
       "      <td>330.666667</td>\n",
       "      <td>19.747475</td>\n",
       "      <td>8015.959596</td>\n",
       "      <td>999.848485</td>\n",
       "    </tr>\n",
       "  </tbody>\n",
       "</table>\n",
       "</div>"
      ],
      "text/plain": [
       "           Breakout      Enduro       Pong     Seaquest  Space Invaders\n",
       "Random     1.020202    0.000000 -21.000000   103.030303      138.838384\n",
       "Trained  363.808081  330.666667  19.747475  8015.959596      999.848485"
      ]
     },
     "execution_count": 7,
     "metadata": {},
     "output_type": "execute_result"
    }
   ],
   "source": [
    "df = pd.DataFrame(scores)\n",
    "df.columns = list(df.columns[:-1]) + ['Space Invaders']\n",
    "df"
   ]
  },
  {
   "cell_type": "code",
   "execution_count": 8,
   "metadata": {},
   "outputs": [],
   "source": [
    "from tabulate import tabulate"
   ]
  },
  {
   "cell_type": "code",
   "execution_count": 9,
   "metadata": {
    "scrolled": true
   },
   "outputs": [
    {
     "name": "stdout",
     "output_type": "stream",
     "text": [
      "|         |   Breakout |   Enduro |     Pong |   Seaquest |   Space Invaders |\n",
      "|:--------|-----------:|---------:|---------:|-----------:|-----------------:|\n",
      "| Random  |     1.0202 |    0     | -21      |     103.03 |          138.838 |\n",
      "| Trained |   363.808  |  330.667 |  19.7475 |    8015.96 |          999.848 |\n"
     ]
    }
   ],
   "source": [
    "print(tabulate(df, tablefmt='pipe', headers='keys'))"
   ]
  },
  {
   "cell_type": "markdown",
   "metadata": {},
   "source": [
    " "
   ]
  }
 ],
 "metadata": {
  "kernelspec": {
   "display_name": "Python 3",
   "language": "python",
   "name": "python3"
  },
  "language_info": {
   "codemirror_mode": {
    "name": "ipython",
    "version": 3
   },
   "file_extension": ".py",
   "mimetype": "text/x-python",
   "name": "python",
   "nbconvert_exporter": "python",
   "pygments_lexer": "ipython3",
   "version": "3.6.4"
  }
 },
 "nbformat": 4,
 "nbformat_minor": 2
}
