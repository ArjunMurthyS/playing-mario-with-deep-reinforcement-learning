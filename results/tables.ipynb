{
 "cells": [
  {
   "cell_type": "code",
   "execution_count": 1,
   "metadata": {},
   "outputs": [],
   "source": [
    "import pandas as pd"
   ]
  },
  {
   "cell_type": "code",
   "execution_count": 2,
   "metadata": {},
   "outputs": [],
   "source": [
    "games = ['Breakout', 'Enduro', 'Pong', 'Seaquest', 'SpaceInvaders']"
   ]
  },
  {
   "cell_type": "code",
   "execution_count": 3,
   "metadata": {},
   "outputs": [],
   "source": [
    "scores = {}"
   ]
  },
  {
   "cell_type": "code",
   "execution_count": 4,
   "metadata": {},
   "outputs": [],
   "source": [
    "def read_table(directory: str, name: str):\n",
    "    return pd.read_csv('{}/{}.csv'.format(directory, name), index_col=0).mean()"
   ]
  },
  {
   "cell_type": "code",
   "execution_count": 5,
   "metadata": {},
   "outputs": [],
   "source": [
    "for game in games:\n",
    "    directory = '{}/DeepQAgent/1M'.format(game)\n",
    "    scores[game] = {}\n",
    "    scores[game]['Initial'] = read_table(directory, 'initial').mean()\n",
    "    scores[game]['Final'] = read_table(directory, 'final').mean()"
   ]
  },
  {
   "cell_type": "code",
   "execution_count": 6,
   "metadata": {},
   "outputs": [
    {
     "data": {
      "text/plain": [
       "{'Breakout': {'Final': 85.43434343434343, 'Initial': -3.4343434343434343},\n",
       " 'Enduro': {'Final': 1184.060606060606, 'Initial': 0.0},\n",
       " 'Pong': {'Final': 19.636363636363637, 'Initial': -21.0},\n",
       " 'Seaquest': {'Final': 263.8181818181818, 'Initial': 0.5858585858585859},\n",
       " 'SpaceInvaders': {'Final': 52.98989898989899, 'Initial': 6.98989898989899}}"
      ]
     },
     "execution_count": 6,
     "metadata": {},
     "output_type": "execute_result"
    }
   ],
   "source": [
    "scores"
   ]
  },
  {
   "cell_type": "code",
   "execution_count": 7,
   "metadata": {},
   "outputs": [
    {
     "data": {
      "text/html": [
       "<div>\n",
       "<style scoped>\n",
       "    .dataframe tbody tr th:only-of-type {\n",
       "        vertical-align: middle;\n",
       "    }\n",
       "\n",
       "    .dataframe tbody tr th {\n",
       "        vertical-align: top;\n",
       "    }\n",
       "\n",
       "    .dataframe thead th {\n",
       "        text-align: right;\n",
       "    }\n",
       "</style>\n",
       "<table border=\"1\" class=\"dataframe\">\n",
       "  <thead>\n",
       "    <tr style=\"text-align: right;\">\n",
       "      <th></th>\n",
       "      <th>Breakout</th>\n",
       "      <th>Enduro</th>\n",
       "      <th>Pong</th>\n",
       "      <th>Seaquest</th>\n",
       "      <th>SpaceInvaders</th>\n",
       "    </tr>\n",
       "  </thead>\n",
       "  <tbody>\n",
       "    <tr>\n",
       "      <th>Final</th>\n",
       "      <td>85.434343</td>\n",
       "      <td>1184.060606</td>\n",
       "      <td>19.636364</td>\n",
       "      <td>263.818182</td>\n",
       "      <td>52.989899</td>\n",
       "    </tr>\n",
       "    <tr>\n",
       "      <th>Initial</th>\n",
       "      <td>-3.434343</td>\n",
       "      <td>0.000000</td>\n",
       "      <td>-21.000000</td>\n",
       "      <td>0.585859</td>\n",
       "      <td>6.989899</td>\n",
       "    </tr>\n",
       "  </tbody>\n",
       "</table>\n",
       "</div>"
      ],
      "text/plain": [
       "          Breakout       Enduro       Pong    Seaquest  SpaceInvaders\n",
       "Final    85.434343  1184.060606  19.636364  263.818182      52.989899\n",
       "Initial  -3.434343     0.000000 -21.000000    0.585859       6.989899"
      ]
     },
     "execution_count": 7,
     "metadata": {},
     "output_type": "execute_result"
    }
   ],
   "source": [
    "df = pd.DataFrame(scores)\n",
    "df"
   ]
  },
  {
   "cell_type": "code",
   "execution_count": 8,
   "metadata": {},
   "outputs": [],
   "source": [
    "from tabulate import tabulate"
   ]
  },
  {
   "cell_type": "code",
   "execution_count": 9,
   "metadata": {},
   "outputs": [
    {
     "name": "stdout",
     "output_type": "stream",
     "text": [
      "+---------+------------+----------+----------+------------+-----------------+\n",
      "|         |   Breakout |   Enduro |     Pong |   Seaquest |   SpaceInvaders |\n",
      "+=========+============+==========+==========+============+=================+\n",
      "| Final   |   85.4343  |  1184.06 |  19.6364 | 263.818    |         52.9899 |\n",
      "+---------+------------+----------+----------+------------+-----------------+\n",
      "| Initial |   -3.43434 |     0    | -21      |   0.585859 |          6.9899 |\n",
      "+---------+------------+----------+----------+------------+-----------------+\n"
     ]
    }
   ],
   "source": [
    "print(tabulate(df, tablefmt='grid', headers='keys'))"
   ]
  },
  {
   "cell_type": "markdown",
   "metadata": {},
   "source": [
    " "
   ]
  }
 ],
 "metadata": {
  "kernelspec": {
   "display_name": "Python 3",
   "language": "python",
   "name": "python3"
  },
  "language_info": {
   "codemirror_mode": {
    "name": "ipython",
    "version": 3
   },
   "file_extension": ".py",
   "mimetype": "text/x-python",
   "name": "python",
   "nbconvert_exporter": "python",
   "pygments_lexer": "ipython3",
   "version": "3.6.4"
  }
 },
 "nbformat": 4,
 "nbformat_minor": 2
}
