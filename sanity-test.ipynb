{
 "cells": [
  {
   "cell_type": "code",
   "execution_count": 1,
   "metadata": {},
   "outputs": [],
   "source": [
    "import gym"
   ]
  },
  {
   "cell_type": "markdown",
   "metadata": {},
   "source": [
    "##### Note\n",
    "\n",
    "If this is running on a fresh install, uncomment the below line on the first exection\n",
    "to install the Super Mario extension to OpenAI Gym. It can be uncommented afterwards,\n",
    "it only needs to run once on a machine, importing `gym_pull` will have it from then on"
   ]
  },
  {
   "cell_type": "code",
   "execution_count": 5,
   "metadata": {},
   "outputs": [
    {
     "name": "stderr",
     "output_type": "stream",
     "text": [
      "[2018-01-23 19:45:24,888] Installing pip package from \"https://github.com/ppaquette/gym-super-mario.git\"\n",
      "[2018-01-23 19:45:27,547] The user environments for \"github.com/ppaquette/gym-super-mario\" are already up-to-date (no new version detected).\n"
     ]
    }
   ],
   "source": [
    "# import gym_pull\n",
    "# gym_pull.pull('github.com/ppaquette/gym-super-mario')"
   ]
  },
  {
   "cell_type": "code",
   "execution_count": 2,
   "metadata": {},
   "outputs": [
    {
     "ename": "AttributeError",
     "evalue": "module 'gym' has no attribute 'make'",
     "output_type": "error",
     "traceback": [
      "\u001b[1;31m---------------------------------------------------------------------------\u001b[0m",
      "\u001b[1;31mAttributeError\u001b[0m                            Traceback (most recent call last)",
      "\u001b[1;32m<ipython-input-2-cd63bf308db2>\u001b[0m in \u001b[0;36m<module>\u001b[1;34m()\u001b[0m\n\u001b[1;32m----> 1\u001b[1;33m \u001b[0menv\u001b[0m \u001b[1;33m=\u001b[0m \u001b[0mgym\u001b[0m\u001b[1;33m.\u001b[0m\u001b[0mmake\u001b[0m\u001b[1;33m(\u001b[0m\u001b[1;34m'ppaquette/SuperMarioBros-1-1-v0'\u001b[0m\u001b[1;33m)\u001b[0m\u001b[1;33m\u001b[0m\u001b[0m\n\u001b[0m",
      "\u001b[1;31mAttributeError\u001b[0m: module 'gym' has no attribute 'make'"
     ]
    }
   ],
   "source": [
    "env = gym.make('ppaquette/SuperMarioBros-1-1-v0')"
   ]
  },
  {
   "cell_type": "markdown",
   "metadata": {},
   "source": [
    "# Mario Environments\n",
    "\n",
    "-    ppaquette/SuperMarioBros-1-1-v0\n",
    "-    ppaquette/SuperMarioBros-1-2-v0\n",
    "-    ppaquette/SuperMarioBros-1-3-v0\n",
    "-    ppaquette/SuperMarioBros-1-4-v0\n",
    "-    ppaquette/SuperMarioBros-2-1-v0\n",
    "-    ppaquette/SuperMarioBros-2-2-v0\n",
    "-    ppaquette/SuperMarioBros-2-3-v0\n",
    "-    ppaquette/SuperMarioBros-2-4-v0\n",
    "-    ppaquette/SuperMarioBros-3-1-v0\n",
    "-    ppaquette/SuperMarioBros-3-2-v0\n",
    "-    ppaquette/SuperMarioBros-3-3-v0\n",
    "-    ppaquette/SuperMarioBros-3-4-v0\n",
    "-    ppaquette/SuperMarioBros-4-1-v0\n",
    "-    ppaquette/SuperMarioBros-4-2-v0\n",
    "-    ppaquette/SuperMarioBros-4-3-v0\n",
    "-    ppaquette/SuperMarioBros-4-4-v0\n",
    "-    ppaquette/SuperMarioBros-5-1-v0\n",
    "-    ppaquette/SuperMarioBros-5-2-v0\n",
    "-    ppaquette/SuperMarioBros-5-3-v0\n",
    "-    ppaquette/SuperMarioBros-5-4-v0\n",
    "-    ppaquette/SuperMarioBros-6-1-v0\n",
    "-    ppaquette/SuperMarioBros-6-2-v0\n",
    "-    ppaquette/SuperMarioBros-6-3-v0\n",
    "-    ppaquette/SuperMarioBros-6-4-v0\n",
    "-    ppaquette/SuperMarioBros-7-1-v0\n",
    "-    ppaquette/SuperMarioBros-7-2-v0\n",
    "-    ppaquette/SuperMarioBros-7-3-v0\n",
    "-    ppaquette/SuperMarioBros-7-4-v0\n",
    "-    ppaquette/SuperMarioBros-8-1-v0\n",
    "-    ppaquette/SuperMarioBros-8-2-v0\n",
    "-    ppaquette/SuperMarioBros-8-3-v0\n",
    "-    ppaquette/SuperMarioBros-8-4-v0"
   ]
  },
  {
   "cell_type": "markdown",
   "metadata": {},
   "source": [
    "# Gym"
   ]
  },
  {
   "cell_type": "markdown",
   "metadata": {},
   "source": [
    "## Space"
   ]
  },
  {
   "cell_type": "code",
   "execution_count": null,
   "metadata": {
    "scrolled": true
   },
   "outputs": [],
   "source": [
    "env.observation_space"
   ]
  },
  {
   "cell_type": "markdown",
   "metadata": {},
   "source": [
    "224x256 RGB pixel space"
   ]
  },
  {
   "cell_type": "code",
   "execution_count": null,
   "metadata": {},
   "outputs": [],
   "source": [
    "env.action_space.sample()"
   ]
  },
  {
   "cell_type": "markdown",
   "metadata": {},
   "source": [
    "up, down, left, right, A, B?"
   ]
  },
  {
   "cell_type": "markdown",
   "metadata": {},
   "source": [
    "## Game Environment Setup"
   ]
  },
  {
   "cell_type": "code",
   "execution_count": null,
   "metadata": {},
   "outputs": [],
   "source": [
    "env.reset()\n",
    "env.render()"
   ]
  },
  {
   "cell_type": "markdown",
   "metadata": {},
   "source": [
    "## Step"
   ]
  },
  {
   "cell_type": "code",
   "execution_count": null,
   "metadata": {},
   "outputs": [],
   "source": [
    "next_state, reward, done, info = env.step(action=env.action_space.sample())"
   ]
  },
  {
   "cell_type": "code",
   "execution_count": null,
   "metadata": {},
   "outputs": [],
   "source": [
    "next_state"
   ]
  },
  {
   "cell_type": "code",
   "execution_count": null,
   "metadata": {},
   "outputs": [],
   "source": [
    "reward"
   ]
  },
  {
   "cell_type": "code",
   "execution_count": null,
   "metadata": {},
   "outputs": [],
   "source": [
    "done"
   ]
  },
  {
   "cell_type": "code",
   "execution_count": null,
   "metadata": {},
   "outputs": [],
   "source": [
    "info"
   ]
  },
  {
   "cell_type": "code",
   "execution_count": null,
   "metadata": {},
   "outputs": [],
   "source": [
    "env.action_space.shape"
   ]
  },
  {
   "cell_type": "code",
   "execution_count": null,
   "metadata": {},
   "outputs": [],
   "source": [
    "env.observation_space.shape"
   ]
  },
  {
   "cell_type": "markdown",
   "metadata": {},
   "source": [
    "## Run Loop"
   ]
  },
  {
   "cell_type": "code",
   "execution_count": null,
   "metadata": {},
   "outputs": [],
   "source": [
    "# randomly sample moves until forever\n",
    "try:\n",
    "    while True:\n",
    "        env.step(action=env.action_space.sample())\n",
    "except KeyboardInterrupt:\n",
    "    break"
   ]
  },
  {
   "cell_type": "markdown",
   "metadata": {},
   "source": [
    "# Keras"
   ]
  },
  {
   "cell_type": "code",
   "execution_count": null,
   "metadata": {},
   "outputs": [],
   "source": [
    "import numpy as np\n",
    "from keras.models import Model\n",
    "from keras.models import Sequential\n",
    "from keras.layers import Dense\n",
    "from keras.layers import Flatten\n",
    "from keras.layers import Activation\n",
    "from keras.layers.convolutional import Conv2D\n",
    "from keras.optimizers import Adam"
   ]
  },
  {
   "cell_type": "code",
   "execution_count": null,
   "metadata": {},
   "outputs": [],
   "source": [
    "from keras.activations import "
   ]
  },
  {
   "cell_type": "code",
   "execution_count": null,
   "metadata": {},
   "outputs": [],
   "source": [
    "def build_model(input_shape: tuple=(224, 256, 3), output_shape: int=6) -> Model:\n",
    "    \"\"\"\n",
    "\n",
    "    Args:\n",
    "        input_shape: the shape of the image states for the model\n",
    "        output_shape: the output shape for the model (predicted classes)\n",
    "\n",
    "    Returns: a compiled keras model for image classification\n",
    "    \"\"\"\n",
    "    # build the model for image classification\n",
    "    model = Sequential([\n",
    "        Conv2D(32, (8, 8), strides=(4,4), padding='same', input_shape=input_shape),\n",
    "        Activation('relu'),\n",
    "        Conv2D(64, (4, 4), strides=(2,2), padding='same'),\n",
    "        Activation('relu'),\n",
    "        Conv2D(64, (3, 3), strides=(1,1), padding='same'),\n",
    "        Activation('relu'),\n",
    "        Flatten(),\n",
    "        Dense(512),\n",
    "        Activation('relu'),\n",
    "        Dense(output_shape)\n",
    "    ])\n",
    "\n",
    "    model.compile(loss='mse', optimizer=Adam(lr=1e-6))\n",
    "    return model"
   ]
  },
  {
   "cell_type": "code",
   "execution_count": null,
   "metadata": {},
   "outputs": [],
   "source": [
    "model = build_model()\n",
    "model"
   ]
  },
  {
   "cell_type": "code",
   "execution_count": null,
   "metadata": {},
   "outputs": [],
   "source": [
    "frames = np.array([env.step(action=env.action_space.sample())[0] for _ in range(4)])"
   ]
  },
  {
   "cell_type": "code",
   "execution_count": null,
   "metadata": {},
   "outputs": [],
   "source": [
    "k_presses = 4\n",
    "# randomly sample moves until forever\n",
    "try:\n",
    "    while True:\n",
    "        prediction = model.predict(frames)\n",
    "        frames = np.array([env.step(action=prediction.mean(axis=0).round())[0] for _ in range(k_presses)])\n",
    "#         print(prediction)\n",
    "except KeyboardInterrupt:\n",
    "    pass"
   ]
  },
  {
   "cell_type": "code",
   "execution_count": null,
   "metadata": {},
   "outputs": [],
   "source": []
  },
  {
   "cell_type": "code",
   "execution_count": null,
   "metadata": {},
   "outputs": [],
   "source": []
  },
  {
   "cell_type": "code",
   "execution_count": null,
   "metadata": {},
   "outputs": [],
   "source": []
  },
  {
   "cell_type": "code",
   "execution_count": null,
   "metadata": {},
   "outputs": [],
   "source": []
  },
  {
   "cell_type": "code",
   "execution_count": null,
   "metadata": {},
   "outputs": [],
   "source": []
  },
  {
   "cell_type": "code",
   "execution_count": null,
   "metadata": {},
   "outputs": [],
   "source": []
  },
  {
   "cell_type": "markdown",
   "metadata": {},
   "source": [
    " "
   ]
  }
 ],
 "metadata": {
  "kernelspec": {
   "display_name": "Python 3",
   "language": "python",
   "name": "python3"
  },
  "language_info": {
   "codemirror_mode": {
    "name": "ipython",
    "version": 3
   },
   "file_extension": ".py",
   "mimetype": "text/x-python",
   "name": "python",
   "nbconvert_exporter": "python",
   "pygments_lexer": "ipython3",
   "version": "3.6.4"
  }
 },
 "nbformat": 4,
 "nbformat_minor": 2
}
