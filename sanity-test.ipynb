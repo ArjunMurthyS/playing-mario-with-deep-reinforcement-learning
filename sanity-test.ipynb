{
 "cells": [
  {
   "cell_type": "code",
   "execution_count": 3,
   "metadata": {},
   "outputs": [
    {
     "name": "stderr",
     "output_type": "stream",
     "text": [
      "[2018-01-22 20:30:40,662] Found and registered 66 user environments.\n"
     ]
    }
   ],
   "source": [
    "import gym\n",
    "import gym_pull"
   ]
  },
  {
   "cell_type": "markdown",
   "metadata": {},
   "source": [
    "##### Note\n",
    "\n",
    "If this is running on a fresh install, uncomment the below line on the first exection\n",
    "to install the Super Mario extension to OpenAI Gym. It can be uncommented afterwards,\n",
    "it only needs to run once on a machine, importing `gyn_pull` will have it from then on"
   ]
  },
  {
   "cell_type": "code",
   "execution_count": 4,
   "metadata": {},
   "outputs": [
    {
     "name": "stderr",
     "output_type": "stream",
     "text": [
      "[2018-01-22 20:30:40,769] Making new env: ppaquette/SuperMarioBros-1-1-v0\n"
     ]
    }
   ],
   "source": [
    "# gym_pull.pull('github.com/ppaquette/gym-super-mario')        \n",
    "env = gym.make('ppaquette/SuperMarioBros-1-1-v0')"
   ]
  },
  {
   "cell_type": "markdown",
   "metadata": {},
   "source": [
    "# Mario Environments\n",
    "\n",
    "-    ppaquette/SuperMarioBros-1-1-v0\n",
    "-    ppaquette/SuperMarioBros-1-2-v0\n",
    "-    ppaquette/SuperMarioBros-1-3-v0\n",
    "-    ppaquette/SuperMarioBros-1-4-v0\n",
    "-    ppaquette/SuperMarioBros-2-1-v0\n",
    "-    ppaquette/SuperMarioBros-2-2-v0\n",
    "-    ppaquette/SuperMarioBros-2-3-v0\n",
    "-    ppaquette/SuperMarioBros-2-4-v0\n",
    "-    ppaquette/SuperMarioBros-3-1-v0\n",
    "-    ppaquette/SuperMarioBros-3-2-v0\n",
    "-    ppaquette/SuperMarioBros-3-3-v0\n",
    "-    ppaquette/SuperMarioBros-3-4-v0\n",
    "-    ppaquette/SuperMarioBros-4-1-v0\n",
    "-    ppaquette/SuperMarioBros-4-2-v0\n",
    "-    ppaquette/SuperMarioBros-4-3-v0\n",
    "-    ppaquette/SuperMarioBros-4-4-v0\n",
    "-    ppaquette/SuperMarioBros-5-1-v0\n",
    "-    ppaquette/SuperMarioBros-5-2-v0\n",
    "-    ppaquette/SuperMarioBros-5-3-v0\n",
    "-    ppaquette/SuperMarioBros-5-4-v0\n",
    "-    ppaquette/SuperMarioBros-6-1-v0\n",
    "-    ppaquette/SuperMarioBros-6-2-v0\n",
    "-    ppaquette/SuperMarioBros-6-3-v0\n",
    "-    ppaquette/SuperMarioBros-6-4-v0\n",
    "-    ppaquette/SuperMarioBros-7-1-v0\n",
    "-    ppaquette/SuperMarioBros-7-2-v0\n",
    "-    ppaquette/SuperMarioBros-7-3-v0\n",
    "-    ppaquette/SuperMarioBros-7-4-v0\n",
    "-    ppaquette/SuperMarioBros-8-1-v0\n",
    "-    ppaquette/SuperMarioBros-8-2-v0\n",
    "-    ppaquette/SuperMarioBros-8-3-v0\n",
    "-    ppaquette/SuperMarioBros-8-4-v0"
   ]
  },
  {
   "cell_type": "code",
   "execution_count": 8,
   "metadata": {},
   "outputs": [
    {
     "data": {
      "text/plain": [
       "Box(224, 256, 3)"
      ]
     },
     "execution_count": 8,
     "metadata": {},
     "output_type": "execute_result"
    }
   ],
   "source": [
    "env.observation_space"
   ]
  },
  {
   "cell_type": "markdown",
   "metadata": {},
   "source": [
    "224x256 RGB pixel space"
   ]
  },
  {
   "cell_type": "code",
   "execution_count": 9,
   "metadata": {},
   "outputs": [
    {
     "data": {
      "text/plain": [
       "[0, 1, 1, 0, 1, 1]"
      ]
     },
     "execution_count": 9,
     "metadata": {},
     "output_type": "execute_result"
    }
   ],
   "source": [
    "env.action_space.sample()"
   ]
  },
  {
   "cell_type": "markdown",
   "metadata": {},
   "source": [
    "up, down, left, right, A, B?"
   ]
  },
  {
   "cell_type": "code",
   "execution_count": 5,
   "metadata": {},
   "outputs": [
    {
     "data": {
      "text/plain": [
       "array([[[0, 0, 0],\n",
       "        [0, 0, 0],\n",
       "        [0, 0, 0],\n",
       "        ...,\n",
       "        [0, 0, 0],\n",
       "        [0, 0, 0],\n",
       "        [0, 0, 0]],\n",
       "\n",
       "       [[0, 0, 0],\n",
       "        [0, 0, 0],\n",
       "        [0, 0, 0],\n",
       "        ...,\n",
       "        [0, 0, 0],\n",
       "        [0, 0, 0],\n",
       "        [0, 0, 0]],\n",
       "\n",
       "       [[0, 0, 0],\n",
       "        [0, 0, 0],\n",
       "        [0, 0, 0],\n",
       "        ...,\n",
       "        [0, 0, 0],\n",
       "        [0, 0, 0],\n",
       "        [0, 0, 0]],\n",
       "\n",
       "       ...,\n",
       "\n",
       "       [[0, 0, 0],\n",
       "        [0, 0, 0],\n",
       "        [0, 0, 0],\n",
       "        ...,\n",
       "        [0, 0, 0],\n",
       "        [0, 0, 0],\n",
       "        [0, 0, 0]],\n",
       "\n",
       "       [[0, 0, 0],\n",
       "        [0, 0, 0],\n",
       "        [0, 0, 0],\n",
       "        ...,\n",
       "        [0, 0, 0],\n",
       "        [0, 0, 0],\n",
       "        [0, 0, 0]],\n",
       "\n",
       "       [[0, 0, 0],\n",
       "        [0, 0, 0],\n",
       "        [0, 0, 0],\n",
       "        ...,\n",
       "        [0, 0, 0],\n",
       "        [0, 0, 0],\n",
       "        [0, 0, 0]]], dtype=uint8)"
      ]
     },
     "execution_count": 5,
     "metadata": {},
     "output_type": "execute_result"
    }
   ],
   "source": [
    "env.reset()\n",
    "env.render()"
   ]
  },
  {
   "cell_type": "code",
   "execution_count": null,
   "metadata": {},
   "outputs": [],
   "source": [
    "env.step(action=env.action_space.sample())"
   ]
  },
  {
   "cell_type": "code",
   "execution_count": null,
   "metadata": {},
   "outputs": [],
   "source": [
    "# randomly sample moves until forever\n",
    "try:\n",
    "    while True:\n",
    "        env.step(action=env.action_space.sample())\n",
    "except KeyboardInterrupt:\n",
    "    break"
   ]
  },
  {
   "cell_type": "markdown",
   "metadata": {},
   "source": [
    " "
   ]
  }
 ],
 "metadata": {
  "kernelspec": {
   "display_name": "Python 3",
   "language": "python",
   "name": "python3"
  },
  "language_info": {
   "codemirror_mode": {
    "name": "ipython",
    "version": 3
   },
   "file_extension": ".py",
   "mimetype": "text/x-python",
   "name": "python",
   "nbconvert_exporter": "python",
   "pygments_lexer": "ipython3",
   "version": "3.6.2"
  }
 },
 "nbformat": 4,
 "nbformat_minor": 2
}
